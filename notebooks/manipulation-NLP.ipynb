{
 "cells": [
  {
   "cell_type": "code",
   "execution_count": 1,
   "metadata": {
    "collapsed": false
   },
   "outputs": [],
   "source": [
    "%load_ext autoreload\n",
    "%autoreload 2\n",
    "%matplotlib inline"
   ]
  },
  {
   "cell_type": "code",
   "execution_count": 25,
   "metadata": {
    "collapsed": true
   },
   "outputs": [],
   "source": [
    "import matplotlib.pyplot as plt\n",
    "import numpy as np\n",
    "import tempfile\n",
    "import tensorflow as tf\n",
    "\n",
    "from tf_rl.controller import DiscreteDeepQ, HumanController\n",
    "from tf_rl import simulate\n",
    "from tf_rl.models import MLP\n",
    "\n",
    "from __future__ import print_function"
   ]
  },
  {
   "cell_type": "code",
   "execution_count": 26,
   "metadata": {
    "collapsed": true
   },
   "outputs": [],
   "source": [
    "from tf_rl.simulation.manipulation import GameObject, HeroSimulation, objects_colliding"
   ]
  },
  {
   "cell_type": "code",
   "execution_count": 27,
   "metadata": {
    "collapsed": false
   },
   "outputs": [
    {
     "name": "stdout",
     "output_type": "stream",
     "text": [
      "/tmp/tmpp9se1w4p\n"
     ]
    }
   ],
   "source": [
    "LOG_DIR = tempfile.mkdtemp()\n",
    "print(LOG_DIR)"
   ]
  },
  {
   "cell_type": "code",
   "execution_count": 202,
   "metadata": {
    "collapsed": false
   },
   "outputs": [],
   "source": [
    "import math\n",
    "import matplotlib.pyplot as plt\n",
    "import numpy as np\n",
    "import random\n",
    "import time\n",
    "\n",
    "from collections import defaultdict\n",
    "from euclid import Circle, Point2, Vector2, LineSegment2\n",
    "from itertools import combinations\n",
    "\n",
    "import tf_rl.utils.svg as svg\n",
    "\n",
    "class Manipulation(HeroSimulation):\n",
    "    def __init__(self, settings, task):\n",
    "        super(Manipulation, self).__init__(settings)\n",
    "        self.actions = [Vector2(*a) for a in self.settings[\"action_acc\"]]\n",
    "        self.num_actions = len(self.actions)\n",
    "        self.task = task\n",
    "        \n",
    "        self.npc = {}\n",
    "        def add_obj(typ):\n",
    "            obj = GameObject(Point2(0, 0), Vector2(0,0), typ, mass=2.0, radius=self.settings['obj_radius'])\n",
    "            self.randomize_position(obj, margin=2 * self.settings['obj_radius']) \n",
    "            self.add(obj)\n",
    "            self.npc[typ] = obj\n",
    "        \n",
    "        add_obj(\"red\")\n",
    "        add_obj(\"blue\")\n",
    "        add_obj(\"green\")\n",
    "        add_obj(\"orange\")\n",
    "        \n",
    "        self.randomize_position(self.hero)\n",
    "        \n",
    "        self.prev_distance = self.distance_to_minimize()\n",
    "        self.prev_reward   = 0.0\n",
    "        \n",
    "        self.task.preprocessing(self)\n",
    "        \n",
    "    def observe(self):\n",
    "        obs = super(Manipulation, self).observe()\n",
    "        nlp = self.task.description(self)\n",
    "        return (obs, nlp)\n",
    "        \n",
    "    def distance_to_minimize(self):\n",
    "        return self.task.distance_to_minimize(self)\n",
    "    \n",
    "    def description(self):\n",
    "        self.task.description(self)\n",
    "\n",
    "    def randomize_position(self, obj, noncoliding=True, margin=0.0):\n",
    "        gen = lambda: random.uniform(obj.radius + margin, 1.0 - obj.radius - margin)\n",
    "        obj.position = Point2(gen(), gen())\n",
    "                \n",
    "        while noncoliding and any(objects_colliding(obj, other) for other in self.objects if other is not obj):\n",
    "            obj.position = Point2(gen(), gen())\n",
    "                                         \n",
    "    def perform_action(self, action):\n",
    "        self.hero.speed += self.actions[action]\n",
    "\n",
    "    def collect_reward(self):\n",
    "        new_distance = self.distance_to_minimize()\n",
    "        delta = self.prev_distance - new_distance \n",
    "        self.prev_distance = new_distance\n",
    "        self.prev_reward = 100.0 * delta\n",
    "        return self.prev_reward\n",
    "    \n",
    "    def success(self):\n",
    "        return self.task.success(self)\n",
    "    \n",
    "    def to_html(self, stats=[]):\n",
    "        stats = stats[:]\n",
    "        stats.extend([\n",
    "            \"reward = %.3f\" % (self.prev_reward),\n",
    "            \"mission = %s\" % (' '.join(self.task.description_text(self)),)\n",
    "        ])\n",
    "        return super(Manipulation, self).to_html(stats=stats)        "
   ]
  },
  {
   "cell_type": "code",
   "execution_count": 203,
   "metadata": {
    "collapsed": false
   },
   "outputs": [],
   "source": [
    "SETTINGS = {\n",
    "    'size': 500,\n",
    "    'colors': {\n",
    "        'hero': 'yellow',\n",
    "        'red':  'red',\n",
    "        'blue': 'blue',\n",
    "        'green': 'green',\n",
    "        'orange': 'orange',\n",
    "    },\n",
    "    'restitution': 0.6,\n",
    "    'observable_distance': 1.5,\n",
    "    'num_observation_lines': 32,\n",
    "    'observable_objects': [\n",
    "        'red',\n",
    "        'blue',\n",
    "        'green',\n",
    "        'orange',\n",
    "        'wall',\n",
    "    ],\n",
    "    'action_acc': [\n",
    "        [0.0,   0.0],    # stay still\n",
    "        [-0.1, 0.0],    # left\n",
    "        [0.1,  0.0],    # right\n",
    "        [0.0,   -0.1],  # up\n",
    "        [0.0,   0.1],   # down\n",
    "    ],\n",
    "    'obj_radius': 0.045,\n",
    "    'viscosity': 0.97,\n",
    "}"
   ]
  },
  {
   "cell_type": "code",
   "execution_count": 204,
   "metadata": {
    "collapsed": false
   },
   "outputs": [],
   "source": [
    "class NLPAndStateDeepQ(DiscreteDeepQ):\n",
    "    def create_observation_variable(self, name):\n",
    "        obs_var = tf.placeholder(tf.float32, [None,] + self.observation_size, name=name+\"_obs\")\n",
    "        nlp_var   = tf.placeholder(tf.int32, (SEQ_LEN, None), name=name+\"_nlp\")\n",
    "        return (obs_var, nlp_var)\n",
    "        \n",
    "    def prepare_observation(self, observation):\n",
    "        obs, nlp = observation\n",
    "        obs = obs[np.newaxis,:]\n",
    "        nlp = nlp[:, np.newaxis]\n",
    "        return (obs, nlp)\n",
    "\n",
    "    def batch_samples(self, samples):\n",
    "        # batch states\n",
    "        nlp_states         = np.empty([SEQ_LEN, len(samples)], dtype=np.int32)\n",
    "        nlp_newstates      = np.empty([SEQ_LEN, len(samples)], dtype=np.int32)\n",
    "        obs_states         = np.empty([len(samples)] + self.observation_size, dtype=np.float32)\n",
    "        obs_newstates      = np.empty([len(samples)] + self.observation_size, dtype=np.float32)\n",
    "        \n",
    "        action_mask    = np.zeros((len(samples), self.num_actions))\n",
    "\n",
    "        newstates_mask = np.empty((len(samples),))\n",
    "        rewards        = np.empty((len(samples),))\n",
    "\n",
    "        for i, (state, action, reward, newstate) in enumerate(samples):\n",
    "            obs_state,    nlp_state    = state\n",
    "            nlp_states[:, i] = nlp_state\n",
    "            obs_states[i, :] = obs_state\n",
    "            action_mask[i] = 0\n",
    "            action_mask[i][action] = 1\n",
    "            rewards[i] = reward\n",
    "            if newstate is not None:\n",
    "                obs_newstate, nlp_newstate = newstate\n",
    "                nlp_newstates[:, i] = nlp_newstate\n",
    "                obs_newstates[i, :] = obs_newstate\n",
    "                newstates_mask[i] = 1\n",
    "            else:\n",
    "                nlp_newstate[:, i] = 0\n",
    "                newstates_mask[i] = 0\n",
    "                \n",
    "        states    = (obs_states,    nlp_states)\n",
    "        newstates = (obs_newstates, nlp_newstates)\n",
    "\n",
    "        return states, action_mask, rewards, newstates, newstates_mask"
   ]
  },
  {
   "cell_type": "code",
   "execution_count": 205,
   "metadata": {
    "collapsed": true
   },
   "outputs": [],
   "source": [
    "class Task(object):        \n",
    "    def description_text(self, sim):\n",
    "        raise NotImplementedError()\n",
    "        \n",
    "    def description(self, sim):\n",
    "        return encode_sentence(pad_sentence(self.description_text(sim)))\n",
    "    \n",
    "    def success(self, sim):\n",
    "        return self.distance_to_minimize(sim) < 0.1\n",
    "        \n",
    "    def distance_to_minimize(self, sim):\n",
    "        raise NotImplementedError()\n",
    "        \n",
    "    def preprocessing(self, sim):\n",
    "        pass"
   ]
  },
  {
   "cell_type": "code",
   "execution_count": 219,
   "metadata": {
    "collapsed": false
   },
   "outputs": [],
   "source": [
    "EOS = \"**EOS**\"\n",
    "DICTIONARY = ['go', 'left', 'right','top', 'bottom', 'corner', 'move', 'to',\n",
    "              \"arrive\", \"at\", \"find\", \"locate\", \"promptly\", \"now\",\n",
    "              EOS]\n",
    "\n",
    "SEQ_LEN = 7\n",
    "EMBEDDING_SIZE = 10\n",
    "LSTM_HIDDENS = [30, 30]\n",
    "OBS_HIDDENS  = [100, 30]\n",
    "HL_HIDDENS   = [50,]\n",
    "\n",
    "assert LSTM_HIDDENS[-1] == OBS_HIDDENS[-1] # equal attribution\n",
    "\n",
    "NSYMBOLS = len(DICTIONARY)\n",
    "\n",
    "def pad_sentence(sentence):\n",
    "    sentence = list(sentence[:])\n",
    "    while len(sentence) < SEQ_LEN:\n",
    "        sentence.append(EOS)\n",
    "    return sentence\n",
    "\n",
    "def encode_sentence(sentence):\n",
    "    return np.array([DICTIONARY.index(w) for w in sentence], dtype=np.int32)"
   ]
  },
  {
   "cell_type": "code",
   "execution_count": 220,
   "metadata": {
    "collapsed": false
   },
   "outputs": [],
   "source": [
    "class MoveTask(Task):\n",
    "    def __init__(self):\n",
    "        self.target_name, self.target_position = random.choice([\n",
    "            ([\"top\",    \"left\",  \"corner\"], Point2(0,0)),\n",
    "            ([\"top\",    \"right\", \"corner\"], Point2(1,0)),\n",
    "            ([\"bottom\", \"left\",  \"corner\"], Point2(0,1)),\n",
    "            ([\"bottom\", \"right\", \"corner\"], Point2(1,1))\n",
    "        ])\n",
    "        self.prefix = random.choice([\n",
    "            [\"move\", \"to\"],\n",
    "            [\"arrive\", \"at\"],\n",
    "            [\"find\"],\n",
    "            [\"locate\"],\n",
    "        ])\n",
    "        self.suffix = random.choice([\n",
    "            [\"promptly\",],\n",
    "            [\"now\",],\n",
    "            [],\n",
    "        ])\n",
    "        self.mission = self.prefix + self.target_name + self.suffix\n",
    "        assert len(self.mission) + 1 <= SEQ_LEN\n",
    "        \n",
    "    def description_text(self, sim):\n",
    "        return self.mission\n",
    "    \n",
    "    def distance_to_minimize(self, sim):\n",
    "        return sim.hero.position.distance(self.target_position)\n",
    "\n",
    "                \n",
    "g = Manipulation(SETTINGS, MoveTask())"
   ]
  },
  {
   "cell_type": "code",
   "execution_count": 221,
   "metadata": {
    "collapsed": false
   },
   "outputs": [],
   "source": [
    "from tf_rl.models import NLPLSTM\n",
    "\n",
    "# def __init__(self, embedding_size, nsymbols, lstm_hiddens, scope=\"NLPLSTM\", initialize=True):\n",
    "       \n",
    "    \n",
    "class NlpAndState(object):\n",
    "    def __init__(self, scope=\"nlp_and_state\", initialize=True):\n",
    "        self.scope = scope\n",
    "        self.lstm, self.obs_mlp, self.hl_mlp = None, None, None\n",
    "        if initialize:\n",
    "            with tf.variable_scope(scope):\n",
    "                self.lstm    = NLPLSTM(EMBEDDING_SIZE, NSYMBOLS, LSTM_HIDDENS, scope=\"nlp_lstm\")\n",
    "                self.obs_mlp = MLP([g.observation_size,], OBS_HIDDENS, [tf.tanh] * len(OBS_HIDDENS), scope=\"obs_mlp\")\n",
    "                self.hl_mlp  = MLP([OBS_HIDDENS[-1], LSTM_HIDDENS[-1]], HL_HIDDENS + [g.num_actions], \n",
    "                                   [tf.tanh] * len(HL_HIDDENS)+ [tf.identity], scope='hl_mlp')\n",
    "        \n",
    "    def variables(self):\n",
    "        return self.lstm.variables() + self.obs_mlp.variables() + self.hl_mlp.variables()\n",
    "    \n",
    "    def __call__(self, observation):\n",
    "        with tf.variable_scope(self.scope):\n",
    "            obs, nlp = observation\n",
    "            obs_out = self.obs_mlp(obs)\n",
    "            nlp_outputs, _ = self.lstm(nlp)\n",
    "            nlp_out = nlp_outputs[-1][-1]\n",
    "            \n",
    "            return self.hl_mlp([obs_out, nlp_out])\n",
    "    \n",
    "    def copy(self, scope=None):\n",
    "        scope = scope or self.scope + \"_copy\"\n",
    "        with tf.variable_scope(scope):\n",
    "            n = NlpAndState(scope=scope, initialize=False)\n",
    "            n.lstm    = self.lstm.copy()\n",
    "            n.obs_mlp = self.obs_mlp.copy()\n",
    "            n.hl_mlp  = self.hl_mlp.copy()\n",
    "            return n\n",
    "        "
   ]
  },
  {
   "cell_type": "code",
   "execution_count": 222,
   "metadata": {
    "collapsed": false
   },
   "outputs": [],
   "source": [
    "# Tensorflow business - it is always good to reset a graph before creating a new controller.\n",
    "tf.ops.reset_default_graph()\n",
    "if 'session' in globals(): session.close()\n",
    "session = tf.InteractiveSession()\n",
    "\n",
    "# This little guy will let us run tensorboard\n",
    "#      tensorboard --logdir [LOG_DIR]\n",
    "journalist = tf.train.SummaryWriter(LOG_DIR)\n",
    "\n",
    "# Brain maps from observation to Q values for different actions.\n",
    "# Here it is a done using a multi layer perceptron with 2 hidden\n",
    "# layers\n",
    "brain = NlpAndState()\n",
    "\n",
    "# The optimizer to use. Here we use RMSProp as recommended\n",
    "# by the publication\n",
    "optimizer = tf.train.AdamOptimizer(learning_rate= 0.001, beta1=0.5)\n",
    "\n",
    "#     optimizer = tf.train.RMSPropOptimizer(learning_rate= 0.001, decay=0.9)\n",
    "\n",
    "# DiscreteDeepQ object\n",
    "current_controller = NLPAndStateDeepQ(g.observation_size, g.num_actions, brain, optimizer, session,\n",
    "                                      discount_rate=0.99, exploration_period=5000, max_experience=20000, \n",
    "                                      store_every_nth=2, train_every_nth=2,\n",
    "                                      target_network_update_rate=0.0001,\n",
    "                                      summary_writer=journalist)\n",
    "\n",
    "session.run(tf.initialize_all_variables())\n",
    "session.run(current_controller.target_network_update)\n",
    "# graph was not available when journalist was created  \n",
    "journalist.add_graph(session.graph_def)"
   ]
  },
  {
   "cell_type": "code",
   "execution_count": 223,
   "metadata": {
    "collapsed": true
   },
   "outputs": [],
   "source": [
    "results = []"
   ]
  },
  {
   "cell_type": "code",
   "execution_count": 226,
   "metadata": {
    "collapsed": false
   },
   "outputs": [
    {
     "data": {
      "text/html": [
       "<?xml version=\"1.0\"?>\n",
       "\n",
       "<svg height=\"580\" width=\"520\" >\n",
       "\n",
       "  <defs> \n",
       "    <marker id=\"arrow\" markerWidth=\"10\" markerHeight=\"10\" refx=\"0\" refy=\"3\" orient=\"auto\" markerUnits=\"strokeWidth\" >\n",
       "      <path d=\"M0,0 L0,6 L9,3 z\" fill=\"#000\" />\n",
       "    </marker>\n",
       "  </defs>\n",
       " <g style=\"fill-opacity:1.0; stroke:black;\n",
       "\n",
       "  stroke-width:1;\">\n",
       "\n",
       "  <rect x=\"10\" y=\"10\" height=\"500\"\n",
       "\n",
       "        width=\"500\" style=\"fill:none\" />\n",
       "\n",
       "  <line x1=\"39\" y1=\"33\" x2=\"510\" y2=\"33\"  style=\"fill:none;stroke:black\"/>\n",
       "\n",
       "  <line x1=\"39\" y1=\"33\" x2=\"412\" y2=\"107\"  style=\"fill:none;stroke:green\"/>\n",
       "\n",
       "  <line x1=\"39\" y1=\"33\" x2=\"247\" y2=\"119\"  style=\"fill:none;stroke:orange\"/>\n",
       "\n",
       "  <line x1=\"39\" y1=\"33\" x2=\"107\" y2=\"78\"  style=\"fill:none;stroke:red\"/>\n",
       "\n",
       "  <line x1=\"39\" y1=\"33\" x2=\"97\" y2=\"91\"  style=\"fill:none;stroke:red\"/>\n",
       "\n",
       "  <line x1=\"39\" y1=\"33\" x2=\"357\" y2=\"510\"  style=\"fill:none;stroke:black\"/>\n",
       "\n",
       "  <line x1=\"39\" y1=\"33\" x2=\"236\" y2=\"510\"  style=\"fill:none;stroke:black\"/>\n",
       "\n",
       "  <line x1=\"39\" y1=\"33\" x2=\"134\" y2=\"510\"  style=\"fill:none;stroke:black\"/>\n",
       "\n",
       "  <line x1=\"39\" y1=\"33\" x2=\"39\" y2=\"510\"  style=\"fill:none;stroke:black\"/>\n",
       "\n",
       "  <line x1=\"39\" y1=\"33\" x2=\"10\" y2=\"180\"  style=\"fill:none;stroke:black\"/>\n",
       "\n",
       "  <line x1=\"39\" y1=\"33\" x2=\"10\" y2=\"103\"  style=\"fill:none;stroke:black\"/>\n",
       "\n",
       "  <line x1=\"39\" y1=\"33\" x2=\"10\" y2=\"76\"  style=\"fill:none;stroke:black\"/>\n",
       "\n",
       "  <line x1=\"39\" y1=\"33\" x2=\"10\" y2=\"62\"  style=\"fill:none;stroke:black\"/>\n",
       "\n",
       "  <line x1=\"39\" y1=\"33\" x2=\"10\" y2=\"52\"  style=\"fill:none;stroke:black\"/>\n",
       "\n",
       "  <line x1=\"39\" y1=\"33\" x2=\"10\" y2=\"45\"  style=\"fill:none;stroke:black\"/>\n",
       "\n",
       "  <line x1=\"39\" y1=\"33\" x2=\"10\" y2=\"38\"  style=\"fill:none;stroke:black\"/>\n",
       "\n",
       "  <line x1=\"39\" y1=\"33\" x2=\"10\" y2=\"33\"  style=\"fill:none;stroke:black\"/>\n",
       "\n",
       "  <line x1=\"39\" y1=\"33\" x2=\"10\" y2=\"27\"  style=\"fill:none;stroke:black\"/>\n",
       "\n",
       "  <line x1=\"39\" y1=\"33\" x2=\"10\" y2=\"20\"  style=\"fill:none;stroke:black\"/>\n",
       "\n",
       "  <line x1=\"39\" y1=\"33\" x2=\"10\" y2=\"13\"  style=\"fill:none;stroke:black\"/>\n",
       "\n",
       "  <line x1=\"39\" y1=\"33\" x2=\"16\" y2=\"10\"  style=\"fill:none;stroke:black\"/>\n",
       "\n",
       "  <line x1=\"39\" y1=\"33\" x2=\"23\" y2=\"10\"  style=\"fill:none;stroke:black\"/>\n",
       "\n",
       "  <line x1=\"39\" y1=\"33\" x2=\"29\" y2=\"10\"  style=\"fill:none;stroke:black\"/>\n",
       "\n",
       "  <line x1=\"39\" y1=\"33\" x2=\"34\" y2=\"10\"  style=\"fill:none;stroke:black\"/>\n",
       "\n",
       "  <line x1=\"39\" y1=\"33\" x2=\"39\" y2=\"10\"  style=\"fill:none;stroke:black\"/>\n",
       "\n",
       "  <line x1=\"39\" y1=\"33\" x2=\"43\" y2=\"10\"  style=\"fill:none;stroke:black\"/>\n",
       "\n",
       "  <line x1=\"39\" y1=\"33\" x2=\"48\" y2=\"10\"  style=\"fill:none;stroke:black\"/>\n",
       "\n",
       "  <line x1=\"39\" y1=\"33\" x2=\"54\" y2=\"10\"  style=\"fill:none;stroke:black\"/>\n",
       "\n",
       "  <line x1=\"39\" y1=\"33\" x2=\"62\" y2=\"10\"  style=\"fill:none;stroke:black\"/>\n",
       "\n",
       "  <line x1=\"39\" y1=\"33\" x2=\"73\" y2=\"10\"  style=\"fill:none;stroke:black\"/>\n",
       "\n",
       "  <line x1=\"39\" y1=\"33\" x2=\"94\" y2=\"10\"  style=\"fill:none;stroke:black\"/>\n",
       "\n",
       "  <line x1=\"39\" y1=\"33\" x2=\"155\" y2=\"10\"  style=\"fill:none;stroke:black\"/>\n",
       "\n",
       "  <circle cx=\"39\" cy=\"33\" r=\"22\"\n",
       "\n",
       "          style=\"fill:yellow\" />\n",
       "\n",
       "  <circle cx=\"118\" cy=\"98\" r=\"22\"\n",
       "\n",
       "          style=\"fill:red\" />\n",
       "\n",
       "  <circle cx=\"208\" cy=\"201\" r=\"22\"\n",
       "\n",
       "          style=\"fill:blue\" />\n",
       "\n",
       "  <circle cx=\"432\" cy=\"97\" r=\"22\"\n",
       "\n",
       "          style=\"fill:green\" />\n",
       "\n",
       "  <circle cx=\"254\" cy=\"140\" r=\"22\"\n",
       "\n",
       "          style=\"fill:orange\" />\n",
       "\n",
       "  <text x=\"10\" y=\"535\" font-size=\"15\">\n",
       "\n",
       "   fps = 73.6\n",
       "\n",
       "  </text>\n",
       "\n",
       "  <text x=\"10\" y=\"555\" font-size=\"15\">\n",
       "\n",
       "   reward = -0.002\n",
       "\n",
       "  </text>\n",
       "\n",
       "  <text x=\"10\" y=\"575\" font-size=\"15\">\n",
       "\n",
       "   mission = locate top left corner\n",
       "\n",
       "  </text>\n",
       "\n",
       " </g>\n",
       "</svg>\n"
      ],
      "text/plain": [
       "<tf_rl.utils.svg.Scene at 0x7f74766d4d30>"
      ]
     },
     "metadata": {},
     "output_type": "display_data"
    },
    {
     "name": "stdout",
     "output_type": "stream",
     "text": [
      "Interrupted\n"
     ]
    }
   ],
   "source": [
    "FPS          = 30\n",
    "ACTION_EVERY = 3\n",
    "SIM_TIME     = 5\n",
    "    \n",
    "fast_mode = True\n",
    "training  = True\n",
    "if fast_mode:\n",
    "    WAIT, VISUALIZE_EVERY = False, 100\n",
    "else:\n",
    "    WAIT, VISUALIZE_EVERY = True, 1\n",
    "\n",
    "    \n",
    "try:\n",
    "    while True:\n",
    "        g = Manipulation(SETTINGS, MoveTask())\n",
    "        simulate(simulation=g,\n",
    "                 controller=current_controller,\n",
    "                 fps=FPS,\n",
    "                 visualize_every=VISUALIZE_EVERY,\n",
    "                 action_every=ACTION_EVERY,\n",
    "                 wait=WAIT,\n",
    "                 training=training,\n",
    "                 max_frames=SIM_TIME * FPS,\n",
    "                 save_path=None)\n",
    "        results.append(1 if g.success() else 0)\n",
    "except KeyboardInterrupt:\n",
    "    print(\"Interrupted\")"
   ]
  },
  {
   "cell_type": "code",
   "execution_count": 227,
   "metadata": {
    "collapsed": false
   },
   "outputs": [
    {
     "name": "stdout",
     "output_type": "stream",
     "text": [
      "[ 0.42915464  1.15334117]\n"
     ]
    },
    {
     "data": {
      "text/plain": [
       "(0.0, 1.0)"
      ]
     },
     "execution_count": 227,
     "metadata": {},
     "output_type": "execute_result"
    },
    {
     "data": {
      "image/png": "[encoded data removed]",
      "text/plain": [
       "<matplotlib.figure.Figure at 0x7f74f030bb38>"
      ]
     },
     "metadata": {},
     "output_type": "display_data"
    }
   ],
   "source": [
    "SMOOTHING=50\n",
    "x = range(SMOOTHING, len(results))\n",
    "y = [sum(results[i-SMOOTHING:i]) / SMOOTHING for i in x]\n",
    "f = plt.figure(figsize=(16,7))\n",
    "plt.plot(x, y)\n",
    "z = np.polyfit(x, y, 1)\n",
    "p = np.poly1d(z)\n",
    "print(p([SMOOTHING, len(results)]))\n",
    "plt.plot(x,p(x),color=\"red\")\n",
    "plt.gca().set_ylim([0.0, 1.0])"
   ]
  },
  {
   "cell_type": "code",
   "execution_count": 228,
   "metadata": {
    "collapsed": true
   },
   "outputs": [],
   "source": [
    "saved_plots.append((x, y, \"verbal diversity\"))"
   ]
  },
  {
   "cell_type": "code",
   "execution_count": 238,
   "metadata": {
    "collapsed": false
   },
   "outputs": [
    {
     "data": {
      "text/plain": [
       "<matplotlib.legend.Legend at 0x7f7498ce7a20>"
      ]
     },
     "execution_count": 238,
     "metadata": {},
     "output_type": "execute_result"
    },
    {
     "data": {
      "image/png": "[encoded data removed]",
      "text/plain": [
       "<matplotlib.figure.Figure at 0x7f7498ce7160>"
      ]
     },
     "metadata": {},
     "output_type": "display_data"
    }
   ],
   "source": [
    "f = plt.figure(figsize=(10,7))\n",
    "\n",
    "matplotlib.rcParams.update({'font.size': 22})\n",
    "\n",
    "for x, y, name in saved_plots:\n",
    "    plt.plot(x[:130],y[:130],label=name)\n",
    "\n",
    "plt.ylim([0.,1.])\n",
    "plt.legend(loc=\"lower right\")"
   ]
  },
  {
   "cell_type": "code",
   "execution_count": 216,
   "metadata": {
    "collapsed": true
   },
   "outputs": [],
   "source": [
    "saved_plots = []"
   ]
  },
  {
   "cell_type": "code",
   "execution_count": 213,
   "metadata": {
    "collapsed": false
   },
   "outputs": [
    {
     "data": {
      "text/html": [
       "<?xml version=\"1.0\"?>\n",
       "\n",
       "<svg height=\"560\" width=\"520\" >\n",
       "\n",
       "  <defs> \n",
       "    <marker id=\"arrow\" markerWidth=\"10\" markerHeight=\"10\" refx=\"0\" refy=\"3\" orient=\"auto\" markerUnits=\"strokeWidth\" >\n",
       "      <path d=\"M0,0 L0,6 L9,3 z\" fill=\"#000\" />\n",
       "    </marker>\n",
       "  </defs>\n",
       " <g style=\"fill-opacity:1.0; stroke:black;\n",
       "\n",
       "  stroke-width:1;\">\n",
       "\n",
       "  <rect x=\"10\" y=\"10\" height=\"500\"\n",
       "\n",
       "        width=\"500\" style=\"fill:none\" />\n",
       "\n",
       "  <line x1=\"379\" y1=\"245\" x2=\"510\" y2=\"245\"  style=\"fill:none;stroke:black\"/>\n",
       "\n",
       "  <line x1=\"379\" y1=\"245\" x2=\"415\" y2=\"252\"  style=\"fill:none;stroke:orange\"/>\n",
       "\n",
       "  <line x1=\"379\" y1=\"245\" x2=\"408\" y2=\"257\"  style=\"fill:none;stroke:orange\"/>\n",
       "\n",
       "  <line x1=\"379\" y1=\"245\" x2=\"405\" y2=\"262\"  style=\"fill:none;stroke:orange\"/>\n",
       "\n",
       "  <line x1=\"379\" y1=\"245\" x2=\"402\" y2=\"269\"  style=\"fill:none;stroke:orange\"/>\n",
       "\n",
       "  <line x1=\"379\" y1=\"245\" x2=\"510\" y2=\"441\"  style=\"fill:none;stroke:black\"/>\n",
       "\n",
       "  <line x1=\"379\" y1=\"245\" x2=\"488\" y2=\"510\"  style=\"fill:none;stroke:black\"/>\n",
       "\n",
       "  <line x1=\"379\" y1=\"245\" x2=\"432\" y2=\"510\"  style=\"fill:none;stroke:black\"/>\n",
       "\n",
       "  <line x1=\"379\" y1=\"245\" x2=\"379\" y2=\"510\"  style=\"fill:none;stroke:black\"/>\n",
       "\n",
       "  <line x1=\"379\" y1=\"245\" x2=\"326\" y2=\"510\"  style=\"fill:none;stroke:black\"/>\n",
       "\n",
       "  <line x1=\"379\" y1=\"245\" x2=\"269\" y2=\"510\"  style=\"fill:none;stroke:black\"/>\n",
       "\n",
       "  <line x1=\"379\" y1=\"245\" x2=\"202\" y2=\"510\"  style=\"fill:none;stroke:black\"/>\n",
       "\n",
       "  <line x1=\"379\" y1=\"245\" x2=\"115\" y2=\"510\"  style=\"fill:none;stroke:black\"/>\n",
       "\n",
       "  <line x1=\"379\" y1=\"245\" x2=\"10\" y2=\"492\"  style=\"fill:none;stroke:black\"/>\n",
       "\n",
       "  <line x1=\"379\" y1=\"245\" x2=\"10\" y2=\"398\"  style=\"fill:none;stroke:black\"/>\n",
       "\n",
       "  <line x1=\"379\" y1=\"245\" x2=\"10\" y2=\"319\"  style=\"fill:none;stroke:black\"/>\n",
       "\n",
       "  <line x1=\"379\" y1=\"245\" x2=\"169\" y2=\"245\"  style=\"fill:none;stroke:green\"/>\n",
       "\n",
       "  <line x1=\"379\" y1=\"245\" x2=\"124\" y2=\"194\"  style=\"fill:none;stroke:blue\"/>\n",
       "\n",
       "  <line x1=\"379\" y1=\"245\" x2=\"10\" y2=\"92\"  style=\"fill:none;stroke:black\"/>\n",
       "\n",
       "  <line x1=\"379\" y1=\"245\" x2=\"26\" y2=\"10\"  style=\"fill:none;stroke:black\"/>\n",
       "\n",
       "  <line x1=\"379\" y1=\"245\" x2=\"143\" y2=\"10\"  style=\"fill:none;stroke:black\"/>\n",
       "\n",
       "  <line x1=\"379\" y1=\"245\" x2=\"221\" y2=\"10\"  style=\"fill:none;stroke:black\"/>\n",
       "\n",
       "  <line x1=\"379\" y1=\"245\" x2=\"281\" y2=\"10\"  style=\"fill:none;stroke:black\"/>\n",
       "\n",
       "  <line x1=\"379\" y1=\"245\" x2=\"332\" y2=\"10\"  style=\"fill:none;stroke:black\"/>\n",
       "\n",
       "  <line x1=\"379\" y1=\"245\" x2=\"379\" y2=\"10\"  style=\"fill:none;stroke:black\"/>\n",
       "\n",
       "  <line x1=\"379\" y1=\"245\" x2=\"426\" y2=\"10\"  style=\"fill:none;stroke:black\"/>\n",
       "\n",
       "  <line x1=\"379\" y1=\"245\" x2=\"477\" y2=\"10\"  style=\"fill:none;stroke:black\"/>\n",
       "\n",
       "  <line x1=\"379\" y1=\"245\" x2=\"510\" y2=\"50\"  style=\"fill:none;stroke:black\"/>\n",
       "\n",
       "  <line x1=\"379\" y1=\"245\" x2=\"510\" y2=\"115\"  style=\"fill:none;stroke:black\"/>\n",
       "\n",
       "  <line x1=\"379\" y1=\"245\" x2=\"510\" y2=\"158\"  style=\"fill:none;stroke:black\"/>\n",
       "\n",
       "  <line x1=\"379\" y1=\"245\" x2=\"463\" y2=\"210\"  style=\"fill:none;stroke:red\"/>\n",
       "\n",
       "  <line x1=\"379\" y1=\"245\" x2=\"467\" y2=\"228\"  style=\"fill:none;stroke:red\"/>\n",
       "\n",
       "  <circle cx=\"379\" cy=\"245\" r=\"22\"\n",
       "\n",
       "          style=\"fill:yellow\" />\n",
       "\n",
       "  <circle cx=\"485\" cy=\"215\" r=\"22\"\n",
       "\n",
       "          style=\"fill:red\" />\n",
       "\n",
       "  <circle cx=\"106\" cy=\"181\" r=\"22\"\n",
       "\n",
       "          style=\"fill:blue\" />\n",
       "\n",
       "  <circle cx=\"149\" cy=\"254\" r=\"22\"\n",
       "\n",
       "          style=\"fill:green\" />\n",
       "\n",
       "  <circle cx=\"425\" cy=\"273\" r=\"22\"\n",
       "\n",
       "          style=\"fill:orange\" />\n",
       "\n",
       "  <text x=\"10\" y=\"535\" font-size=\"15\">\n",
       "\n",
       "   reward = 2.163\n",
       "\n",
       "  </text>\n",
       "\n",
       "  <text x=\"10\" y=\"555\" font-size=\"15\">\n",
       "\n",
       "   mission = move to bottom right corner\n",
       "\n",
       "  </text>\n",
       "\n",
       " </g>\n",
       "</svg>\n"
      ],
      "text/plain": [
       "<tf_rl.utils.svg.Scene at 0x7f749b08bd68>"
      ]
     },
     "metadata": {},
     "output_type": "display_data"
    },
    {
     "name": "stdout",
     "output_type": "stream",
     "text": [
      "Interrupted\n"
     ]
    }
   ],
   "source": [
    "import time\n",
    "from IPython.display import display, clear_output\n",
    "\n",
    "try:\n",
    "    while True:\n",
    "        g.step(0.03)\n",
    "        time.sleep(0.03)\n",
    "        clear_output(wait=True)\n",
    "        display(g.to_html())\n",
    "except KeyboardInterrupt:\n",
    "    print('Interrupted')"
   ]
  },
  {
   "cell_type": "code",
   "execution_count": 381,
   "metadata": {
    "collapsed": false
   },
   "outputs": [
    {
     "data": {
      "text/plain": [
       "8"
      ]
     },
     "execution_count": 381,
     "metadata": {},
     "output_type": "execute_result"
    }
   ],
   "source": []
  },
  {
   "cell_type": "code",
   "execution_count": 383,
   "metadata": {
    "collapsed": false
   },
   "outputs": [
    {
     "data": {
      "text/plain": [
       "{'edgeitems': 3,\n",
       " 'formatter': None,\n",
       " 'infstr': 'inf',\n",
       " 'linewidth': 75,\n",
       " 'nanstr': 'nan',\n",
       " 'precision': 8,\n",
       " 'suppress': False,\n",
       " 'threshold': 1000}"
      ]
     },
     "execution_count": 383,
     "metadata": {},
     "output_type": "execute_result"
    }
   ],
   "source": [
    "np.get_printoptions()"
   ]
  },
  {
   "cell_type": "code",
   "execution_count": 386,
   "metadata": {
    "collapsed": false
   },
   "outputs": [
    {
     "name": "stdout",
     "output_type": "stream",
     "text": [
      "[[1.00\t 1.00\t 0.23\t 0.00\t 0.00\t -0.02\t 0.03\t]\n",
      " [1.00\t 1.00\t 0.23\t 0.00\t 0.00\t -0.02\t 0.03\t]\n",
      " [1.00\t 1.00\t 0.20\t 0.00\t 0.00\t -0.02\t 0.03\t]\n",
      " [1.00\t 1.00\t 0.14\t 0.00\t 0.00\t -0.02\t 0.03\t]\n",
      " [1.00\t 1.00\t 0.11\t 0.00\t 0.00\t -0.02\t 0.03\t]\n",
      " [1.00\t 1.00\t 0.09\t 0.00\t 0.00\t -0.02\t 0.03\t]\n",
      " [1.00\t 1.00\t 0.08\t 0.00\t 0.00\t -0.02\t 0.03\t]\n",
      " [1.00\t 1.00\t 0.08\t 0.00\t 0.00\t -0.02\t 0.03\t]\n",
      " [1.00\t 1.00\t 0.08\t 0.00\t 0.00\t -0.02\t 0.03\t]\n",
      " [1.00\t 1.00\t 0.08\t 0.00\t 0.00\t -0.02\t 0.03\t]\n",
      " [1.00\t 1.00\t 0.08\t 0.00\t 0.00\t -0.02\t 0.03\t]\n",
      " [1.00\t 1.00\t 0.09\t 0.00\t 0.00\t -0.02\t 0.03\t]\n",
      " [1.00\t 1.00\t 0.11\t 0.00\t 0.00\t -0.02\t 0.03\t]\n",
      " [1.00\t 1.00\t 0.14\t 0.00\t 0.00\t -0.02\t 0.03\t]\n",
      " [1.00\t 1.00\t 0.20\t 0.00\t 0.00\t -0.02\t 0.03\t]\n",
      " [1.00\t 1.00\t 0.39\t 0.00\t 0.00\t -0.02\t 0.03\t]\n",
      " [1.00\t 1.00\t 0.44\t 0.00\t 0.00\t -0.02\t 0.03\t]\n",
      " [1.00\t 1.00\t 0.45\t 0.00\t 0.00\t -0.02\t 0.03\t]\n",
      " [1.00\t 1.00\t 0.48\t 0.00\t 0.00\t -0.02\t 0.03\t]\n",
      " [1.00\t 0.19\t 1.00\t -0.00\t 0.00\t -0.02\t 0.03\t]\n",
      " [1.00\t 1.00\t 0.63\t 0.00\t 0.00\t -0.02\t 0.03\t]\n",
      " [1.00\t 1.00\t 0.71\t 0.00\t 0.00\t -0.02\t 0.03\t]\n",
      " [1.00\t 1.00\t 0.64\t 0.00\t 0.00\t -0.02\t 0.03\t]\n",
      " [1.00\t 1.00\t 0.60\t 0.00\t 0.00\t -0.02\t 0.03\t]\n",
      " [1.00\t 1.00\t 0.59\t 0.00\t 0.00\t -0.02\t 0.03\t]\n",
      " [0.17\t 1.00\t 1.00\t 0.00\t 0.00\t -0.02\t 0.03\t]\n",
      " [0.19\t 1.00\t 1.00\t 0.00\t 0.00\t -0.02\t 0.03\t]\n",
      " [1.00\t 1.00\t 0.40\t 0.00\t 0.00\t -0.02\t 0.03\t]\n",
      " [1.00\t 1.00\t 0.32\t 0.00\t 0.00\t -0.02\t 0.03\t]\n",
      " [1.00\t 1.00\t 0.27\t 0.00\t 0.00\t -0.02\t 0.03\t]\n",
      " [1.00\t 1.00\t 0.24\t 0.00\t 0.00\t -0.02\t 0.03\t]\n",
      " [1.00\t 1.00\t 0.23\t 0.00\t 0.00\t -0.02\t 0.03\t]]\n"
     ]
    },
    {
     "data": {
      "text/html": [
       "<?xml version=\"1.0\"?>\n",
       "\n",
       "<svg height=\"540\" width=\"520\" >\n",
       "\n",
       "  <defs> \n",
       "    <marker id=\"arrow\" markerWidth=\"10\" markerHeight=\"10\" refx=\"0\" refy=\"3\" orient=\"auto\" markerUnits=\"strokeWidth\" >\n",
       "      <path d=\"M0,0 L0,6 L9,3 z\" fill=\"#000\" />\n",
       "    </marker>\n",
       "  </defs>\n",
       " <g style=\"fill-opacity:1.0; stroke:black;\n",
       "\n",
       "  stroke-width:1;\">\n",
       "\n",
       "  <rect x=\"10\" y=\"10\" height=\"500\"\n",
       "\n",
       "        width=\"500\" style=\"fill:none\" />\n",
       "\n",
       "  <line x1=\"341\" y1=\"453\" x2=\"510\" y2=\"453\"  style=\"fill:none;stroke:black\"/>\n",
       "\n",
       "  <line x1=\"341\" y1=\"453\" x2=\"510\" y2=\"487\"  style=\"fill:none;stroke:black\"/>\n",
       "\n",
       "  <line x1=\"341\" y1=\"453\" x2=\"477\" y2=\"510\"  style=\"fill:none;stroke:black\"/>\n",
       "\n",
       "  <line x1=\"341\" y1=\"453\" x2=\"425\" y2=\"510\"  style=\"fill:none;stroke:black\"/>\n",
       "\n",
       "  <line x1=\"341\" y1=\"453\" x2=\"397\" y2=\"510\"  style=\"fill:none;stroke:black\"/>\n",
       "\n",
       "  <line x1=\"341\" y1=\"453\" x2=\"378\" y2=\"510\"  style=\"fill:none;stroke:black\"/>\n",
       "\n",
       "  <line x1=\"341\" y1=\"453\" x2=\"365\" y2=\"510\"  style=\"fill:none;stroke:black\"/>\n",
       "\n",
       "  <line x1=\"341\" y1=\"453\" x2=\"352\" y2=\"510\"  style=\"fill:none;stroke:black\"/>\n",
       "\n",
       "  <line x1=\"341\" y1=\"453\" x2=\"341\" y2=\"510\"  style=\"fill:none;stroke:black\"/>\n",
       "\n",
       "  <line x1=\"341\" y1=\"453\" x2=\"330\" y2=\"510\"  style=\"fill:none;stroke:black\"/>\n",
       "\n",
       "  <line x1=\"341\" y1=\"453\" x2=\"318\" y2=\"510\"  style=\"fill:none;stroke:black\"/>\n",
       "\n",
       "  <line x1=\"341\" y1=\"453\" x2=\"303\" y2=\"510\"  style=\"fill:none;stroke:black\"/>\n",
       "\n",
       "  <line x1=\"341\" y1=\"453\" x2=\"284\" y2=\"510\"  style=\"fill:none;stroke:black\"/>\n",
       "\n",
       "  <line x1=\"341\" y1=\"453\" x2=\"256\" y2=\"510\"  style=\"fill:none;stroke:black\"/>\n",
       "\n",
       "  <line x1=\"341\" y1=\"453\" x2=\"204\" y2=\"510\"  style=\"fill:none;stroke:black\"/>\n",
       "\n",
       "  <line x1=\"341\" y1=\"453\" x2=\"55\" y2=\"510\"  style=\"fill:none;stroke:black\"/>\n",
       "\n",
       "  <line x1=\"341\" y1=\"453\" x2=\"10\" y2=\"453\"  style=\"fill:none;stroke:black\"/>\n",
       "\n",
       "  <line x1=\"341\" y1=\"453\" x2=\"10\" y2=\"387\"  style=\"fill:none;stroke:black\"/>\n",
       "\n",
       "  <line x1=\"341\" y1=\"453\" x2=\"10\" y2=\"315\"  style=\"fill:none;stroke:black\"/>\n",
       "\n",
       "  <line x1=\"341\" y1=\"453\" x2=\"220\" y2=\"372\"  style=\"fill:none;stroke:blue\"/>\n",
       "\n",
       "  <line x1=\"341\" y1=\"453\" x2=\"10\" y2=\"121\"  style=\"fill:none;stroke:black\"/>\n",
       "\n",
       "  <line x1=\"341\" y1=\"453\" x2=\"45\" y2=\"10\"  style=\"fill:none;stroke:black\"/>\n",
       "\n",
       "  <line x1=\"341\" y1=\"453\" x2=\"158\" y2=\"10\"  style=\"fill:none;stroke:black\"/>\n",
       "\n",
       "  <line x1=\"341\" y1=\"453\" x2=\"253\" y2=\"10\"  style=\"fill:none;stroke:black\"/>\n",
       "\n",
       "  <line x1=\"341\" y1=\"453\" x2=\"341\" y2=\"10\"  style=\"fill:none;stroke:black\"/>\n",
       "\n",
       "  <line x1=\"341\" y1=\"453\" x2=\"366\" y2=\"326\"  style=\"fill:none;stroke:red\"/>\n",
       "\n",
       "  <line x1=\"341\" y1=\"453\" x2=\"396\" y2=\"321\"  style=\"fill:none;stroke:red\"/>\n",
       "\n",
       "  <line x1=\"341\" y1=\"453\" x2=\"510\" y2=\"201\"  style=\"fill:none;stroke:black\"/>\n",
       "\n",
       "  <line x1=\"341\" y1=\"453\" x2=\"510\" y2=\"284\"  style=\"fill:none;stroke:black\"/>\n",
       "\n",
       "  <line x1=\"341\" y1=\"453\" x2=\"510\" y2=\"340\"  style=\"fill:none;stroke:black\"/>\n",
       "\n",
       "  <line x1=\"341\" y1=\"453\" x2=\"510\" y2=\"383\"  style=\"fill:none;stroke:black\"/>\n",
       "\n",
       "  <line x1=\"341\" y1=\"453\" x2=\"510\" y2=\"419\"  style=\"fill:none;stroke:black\"/>\n",
       "\n",
       "  <circle cx=\"341\" cy=\"453\" r=\"22\"\n",
       "\n",
       "          style=\"fill:yellow\" />\n",
       "\n",
       "  <circle cx=\"378\" cy=\"307\" r=\"22\"\n",
       "\n",
       "          style=\"fill:red\" />\n",
       "\n",
       "  <circle cx=\"198\" cy=\"368\" r=\"22\"\n",
       "\n",
       "          style=\"fill:blue\" />\n",
       "\n",
       "  <text x=\"10\" y=\"535\" font-size=\"15\">\n",
       "\n",
       "   reward = 0.000\n",
       "\n",
       "  </text>\n",
       "\n",
       " </g>\n",
       "</svg>\n"
      ],
      "text/plain": [
       "<tf_rl.utils.svg.Scene at 0x7f3fb403f0f0>"
      ]
     },
     "execution_count": 386,
     "metadata": {},
     "output_type": "execute_result"
    }
   ],
   "source": [
    "np.set_printoptions(formatter={'float_kind':lambda x: '%.2f\\t' % (x,)})\n",
    "# g.__class__ = HeroSimulation\n",
    "print(g.observe().reshape(SETTINGS[\"num_observation_lines\"], len(SETTINGS[\"observable_objects\"]) + 4))\n",
    "np.set_printoptions(formatter=None)\n",
    "g.to_html()\n"
   ]
  },
  {
   "cell_type": "code",
   "execution_count": 361,
   "metadata": {
    "collapsed": false
   },
   "outputs": [
    {
     "data": {
      "text/plain": [
       "(32, 6)"
      ]
     },
     "execution_count": 361,
     "metadata": {},
     "output_type": "execute_result"
    }
   ],
   "source": [
    "SETTINGS[\"num_observation_lines\"], len(SETTINGS[\"observable_objects\"]) + 4"
   ]
  },
  {
   "cell_type": "code",
   "execution_count": 362,
   "metadata": {
    "collapsed": false
   },
   "outputs": [
    {
     "data": {
      "text/plain": [
       "(16, 6)"
      ]
     },
     "execution_count": 362,
     "metadata": {},
     "output_type": "execute_result"
    }
   ],
   "source": [
    "m.observe().shape"
   ]
  },
  {
   "cell_type": "code",
   "execution_count": null,
   "metadata": {
    "collapsed": true
   },
   "outputs": [],
   "source": []
  }
 ],
 "metadata": {
  "kernelspec": {
   "display_name": "Python 3",
   "language": "python",
   "name": "python3"
  },
  "language_info": {
   "codemirror_mode": {
    "name": "ipython",
    "version": 3
   },
   "file_extension": ".py",
   "mimetype": "text/x-python",
   "name": "python",
   "nbconvert_exporter": "python",
   "pygments_lexer": "ipython3",
   "version": "3.4.1"
  }
 },
 "nbformat": 4,
 "nbformat_minor": 0
}
