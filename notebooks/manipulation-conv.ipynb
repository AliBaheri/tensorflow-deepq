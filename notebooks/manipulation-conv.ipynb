{
 "cells": [
  {
   "cell_type": "code",
   "execution_count": 1,
   "metadata": {
    "collapsed": false
   },
   "outputs": [],
   "source": [
    "%load_ext autoreload\n",
    "%autoreload 2\n",
    "%matplotlib inline"
   ]
  },
  {
   "cell_type": "code",
   "execution_count": 4,
   "metadata": {
    "collapsed": false
   },
   "outputs": [],
   "source": [
    "import matplotlib.pyplot as plt\n",
    "import numpy as np\n",
    "import tempfile\n",
    "import tensorflow as tf\n",
    "\n",
    "from tf_rl.controller import DiscreteDeepQ, HumanController\n",
    "from tf_rl import simulate\n",
    "from tf_rl.models import MLP, Layer, base_name\n",
    "\n",
    "from __future__ import print_function"
   ]
  },
  {
   "cell_type": "code",
   "execution_count": 6,
   "metadata": {
    "collapsed": false
   },
   "outputs": [],
   "source": [
    "from tf_rl.simulation.manipulation import GameObject, Simulation, HeroSimulation, objects_colliding"
   ]
  },
  {
   "cell_type": "code",
   "execution_count": 7,
   "metadata": {
    "collapsed": false
   },
   "outputs": [
    {
     "name": "stdout",
     "output_type": "stream",
     "text": [
      "/tmp/tmp6on7dctn\n"
     ]
    }
   ],
   "source": [
    "LOG_DIR = tempfile.mkdtemp()\n",
    "print(LOG_DIR)"
   ]
  },
  {
   "cell_type": "code",
   "execution_count": 8,
   "metadata": {
    "collapsed": false
   },
   "outputs": [],
   "source": [
    "import math\n",
    "import matplotlib.pyplot as plt\n",
    "import numpy as np\n",
    "import random\n",
    "import time\n",
    "\n",
    "from collections import defaultdict\n",
    "from euclid import Circle, Point2, Vector2, LineSegment2\n",
    "from itertools import combinations\n",
    "\n",
    "import tf_rl.utils.svg as svg\n",
    "\n",
    "\n",
    "class ConvSimulation(Simulation):\n",
    "    def __init__(self, settings):\n",
    "        super(ConvSimulation, self).__init__(settings)\n",
    "        self.hero = GameObject(Point2(0.5,0.5), Vector2(1.0,0.0), \"hero\", radius=self.settings['obj_radius'])\n",
    "        self.add(self.hero)\n",
    "        self.observation_res  = self.settings[\"observation_resolution\"]\n",
    "        self.observation_size = [self.observation_res, self.observation_res, len(self.settings[\"observable_objects\"]) + 2]\n",
    "        \n",
    "    def observe(self):\n",
    "        observ_obj = self.settings[\"observable_objects\"]\n",
    "        no = len(observ_obj)\n",
    "        observation = np.zeros((self.observation_res, self.observation_res, no + 2))\n",
    "        def rescale(i):\n",
    "            return min(self.observation_res - 1, max(0, int(round(self.observation_res * i))))\n",
    "        \n",
    "        for obj in self.objects:\n",
    "            cx, cy = rescale(obj.position.x), rescale(obj.position.y)\n",
    "            sx, ex = obj.position.x - obj.radius, obj.position.x + obj.radius\n",
    "            sy, ey = obj.position.y - obj.radius, obj.position.y + obj.radius\n",
    "            sx, ex, sy, ey = [ rescale(i) for i in [sx,ex,sy,ey]]\n",
    "            layer = observ_obj.index(obj.obj_type)\n",
    "            for x in range(sx, ex + 1):\n",
    "                for y in range(sy, ey + 1):\n",
    "                    if (x-cx)**2 + (y-cy)**2 <= (obj.radius*self.observation_res)**2:\n",
    "                        observation[x,y,layer]  = 1.0\n",
    "                        observation[x,y,no]     = obj.speed.x\n",
    "                        observation[x,y,no + 1] = obj.speed.y\n",
    "        return observation"
   ]
  },
  {
   "cell_type": "code",
   "execution_count": 128,
   "metadata": {
    "collapsed": false
   },
   "outputs": [],
   "source": [
    "class ConvManipulation(ConvSimulation):\n",
    "    def __init__(self, settings):\n",
    "        super(ConvManipulation, self).__init__(settings)\n",
    "        self.actions = [Vector2(*a) for a in self.settings[\"action_acc\"]]\n",
    "        self.num_actions = len(self.actions)\n",
    "        \n",
    "        \n",
    "        \n",
    "        self.target     = GameObject(Point2(0, 0), Vector2(0,0), \"red\", mass=50.0, radius=self.settings['obj_radius'])\n",
    "        self.randomize_position(self.target, margin=2 * self.settings['obj_radius']) \n",
    "        self.add(self.target)\n",
    "\n",
    "        self.tool     = GameObject(Point2(0, 0), Vector2(0,0), \"blue\", mass=2.0, radius=self.settings['obj_radius'])\n",
    "        self.randomize_position(self.tool, margin=2 * self.settings['obj_radius'])\n",
    "        self.add(self.tool)\n",
    "        \n",
    "        self.randomize_position(self.hero)\n",
    "        \n",
    "        self.prev_distance = self.distance_to_minimize()\n",
    "        \n",
    "    def distance_to_minimize(self):\n",
    "        return self.tool.position.distance(self.target.position)\n",
    "\n",
    "    def randomize_position(self, obj, noncoliding=True, margin=0.0):\n",
    "        gen = lambda: random.uniform(obj.radius + margin, 1.0 - obj.radius - margin)\n",
    "        obj.position = Point2(gen(), gen())\n",
    "                \n",
    "        while noncoliding and any(objects_colliding(obj, other) for other in self.objects if other is not obj):\n",
    "            obj.position = Point2(gen(), gen())\n",
    "                                         \n",
    "    def perform_action(self, action):\n",
    "        if self.settings[\"action_type\"] == 'speed':\n",
    "            self.hero.speed = self.actions[action]\n",
    "        elif self.settings[\"action_type\"] == 'acceleration':\n",
    "            self.hero.speed += self.actions[action]\n",
    "\n",
    "    def collect_reward(self):\n",
    "        new_distance = self.distance_to_minimize()\n",
    "        delta = self.prev_distance - new_distance \n",
    "        self.prev_distance = new_distance\n",
    "        return 10.0*delta\n",
    "    \n",
    "    def success(self):\n",
    "#         return self.distance_to_minimize() < (self.hero.radius + self.target.radius) * 2\n",
    "        return self.tool.position.distance(self.target.position) < (self.target.radius + self.tool.radius) * 1.5\n",
    "    \n",
    "    def to_html(self, stats=[]):\n",
    "        stats = stats[:]\n",
    "        stats.extend([\n",
    "            \"reward = %.3f\" % (self.collect_reward()),\n",
    "        ])\n",
    "        return super(ConvManipulation, self).to_html(stats=stats)"
   ]
  },
  {
   "cell_type": "code",
   "execution_count": 129,
   "metadata": {
    "collapsed": false
   },
   "outputs": [],
   "source": [
    "SETTINGS = {\n",
    "    'size': 500,\n",
    "    'colors': {\n",
    "        'hero': 'yellow',\n",
    "        'red':  'red',\n",
    "        'blue': 'blue'\n",
    "    },\n",
    "    'restitution': 0.9,\n",
    "    'observation_resolution': 48,\n",
    "    'observable_objects': [\n",
    "        'red',\n",
    "        'blue',\n",
    "        'hero',\n",
    "    ],\n",
    "    'action_type': 'speed',\n",
    "    'action_acc': [\n",
    "        [0.0,   0.0],    # stay still\n",
    "        \n",
    "        [-0.05, 0.0],    # left\n",
    "        [0.05,  0.0],    # right\n",
    "        [0.0,   -0.05],  # up\n",
    "        [0.0,   0.05],   # down\n",
    "        \n",
    "        [-0.5, 0.0],    # left fast\n",
    "        [0.5,  0.0],    # right fast\n",
    "        [0.0,   -0.5],  # up fast\n",
    "        [0.0,   0.5],   # down fast\n",
    "    ],\n",
    "    'obj_radius': 0.07,\n",
    "    'viscosity': 0.97,\n",
    "}\n",
    "\n",
    "g = ConvManipulation(SETTINGS)"
   ]
  },
  {
   "cell_type": "code",
   "execution_count": 130,
   "metadata": {
    "collapsed": false
   },
   "outputs": [],
   "source": [
    "# o = g.observe()\n",
    "# print(o.shape)\n",
    "# plt.matshow(o[:,:,0].T)\n",
    "# plt.matshow(o[:,:,1].T)\n",
    "# plt.matshow(o[:,:,2].T)\n",
    "\n",
    "# g.to_html()"
   ]
  },
  {
   "cell_type": "code",
   "execution_count": 131,
   "metadata": {
    "collapsed": true
   },
   "outputs": [],
   "source": [
    "class ConvLayer(object):\n",
    "    def __init__(self, filter_H, filter_W, in_C, out_C, nonlinearity=tf.nn.relu, stride=(1,1), scope=\"Convolution\"):\n",
    "        self.filter_H, self.filter_W, self.in_C, self.out_C = filter_H, filter_W, in_C, out_C\n",
    "        self.stride       = stride\n",
    "        self.nonlinearity = nonlinearity\n",
    "        self.scope        = scope\n",
    "\n",
    "        with tf.variable_scope(self.scope):\n",
    "            input_size = filter_H * filter_W * in_C\n",
    "            W_initializer =  tf.random_uniform_initializer(\n",
    "                        -1.0 / math.sqrt(input_size), 1.0 / math.sqrt(input_size))\n",
    "            self.W = tf.get_variable('W', (filter_H, filter_W, in_C, out_C), initializer=W_initializer)\n",
    "            self.b = tf.get_variable('b', (out_C), initializer=tf.constant_initializer(0))\n",
    "    \n",
    "    def __call__(self, X):\n",
    "        with tf.variable_scope(self.scope):\n",
    "            return self.nonlinearity(tf.nn.conv2d(X, self.W,  strides=[1] + list(self.stride) + [1], padding='SAME')\n",
    "                                     + self.b)\n",
    "        \n",
    "    def variables(self):\n",
    "        return [self.b, self.W]\n",
    "\n",
    "    def copy(self, scope=None):\n",
    "        scope = scope or self.scope + \"_copy\"\n",
    "\n",
    "        with tf.variable_scope(scope) as sc:\n",
    "            for v in self.variables():\n",
    "                tf.get_variable(base_name(v), v.get_shape(),\n",
    "                        initializer=lambda x,dtype=tf.float32: v.initialized_value())\n",
    "            sc.reuse_variables()\n",
    "            return ConvLayer(self.filter_H, self.filter_W, self.in_C, self.out_C,\n",
    "                             nonlinearity=self.nonlinearity, stride=self.stride, scope=sc)"
   ]
  },
  {
   "cell_type": "code",
   "execution_count": 132,
   "metadata": {
    "collapsed": true
   },
   "outputs": [],
   "source": [
    "from types import FunctionType\n",
    "\n",
    "class SequenceWrapper(object):\n",
    "    def __init__(self, seq, scope=None):\n",
    "        self.seq   = seq\n",
    "        self.scope = scope or \"MLP\"\n",
    "\n",
    "    def __call__(self, x):\n",
    "        with tf.variable_scope(self.scope):\n",
    "            for el in self.seq:\n",
    "                x = el(x)\n",
    "            return x\n",
    "            \n",
    "    def variables(self):\n",
    "        res = []\n",
    "        for el in self.seq:\n",
    "            if hasattr(el, 'variables'):\n",
    "                res.extend(el.variables())\n",
    "        return res\n",
    "            \n",
    "    def copy(self, scope=None):\n",
    "        scope = scope or self.scope + \"_copy\"\n",
    "        new_seq = [el if type(el) is FunctionType else el.copy() for el in self.seq ]\n",
    "        \n",
    "        return SequenceWrapper(new_seq)"
   ]
  },
  {
   "cell_type": "code",
   "execution_count": 144,
   "metadata": {
    "collapsed": true
   },
   "outputs": [],
   "source": [
    "# Tensorflow business - it is always good to reset a graph before creating a new controller.\n",
    "tf.ops.reset_default_graph()\n",
    "if 'session' in globals():\n",
    "    session.close()\n",
    "session = tf.InteractiveSession()"
   ]
  },
  {
   "cell_type": "code",
   "execution_count": 145,
   "metadata": {
    "collapsed": false
   },
   "outputs": [],
   "source": [
    "assert g.observation_size[:2] == [48, 48]\n",
    "in_channels = g.observation_size[2]\n",
    "\n",
    "convnet = SequenceWrapper([\n",
    "    # (BATCH, 48, 48, in_channels)\n",
    "    ConvLayer(4, 4, in_channels,   5,  stride=(2,2), scope=\"conv0\"),\n",
    "    # (BATCH, 24, 24, 5)        \n",
    "    ConvLayer(4, 4, 5,  10,  stride=(2,2), scope=\"conv1\"),\n",
    "    # (BATCH, 12, 12, 10)        \n",
    "    ConvLayer(4, 4, 10, 20,  stride=(2,2), scope=\"conv2\"),\n",
    "    # (BATCH, 6, 6, 20)\n",
    "    ConvLayer(4, 4, 20, 40,  stride=(2,2), scope=\"conv3\"),\n",
    "    # (BATCH, 3, 3, 40)\n",
    "    lambda x: tf.reshape(x, (-1, 40 * 3 * 3)),\n",
    "    # (BATCH, 3 * 3* 40)\n",
    "    Layer(40 * 3 * 3, g.num_actions, scope=\"final_project\"),\n",
    "    # (BATCH, g.num_actions)\n",
    "])"
   ]
  },
  {
   "cell_type": "code",
   "execution_count": 146,
   "metadata": {
    "collapsed": false
   },
   "outputs": [
    {
     "data": {
      "text/plain": [
       "['conv0/b:0',\n",
       " 'conv0/W:0',\n",
       " 'conv1/b:0',\n",
       " 'conv1/W:0',\n",
       " 'conv2/b:0',\n",
       " 'conv2/W:0',\n",
       " 'conv3/b:0',\n",
       " 'conv3/W:0',\n",
       " 'final_project/b:0',\n",
       " 'final_project/W_0:0']"
      ]
     },
     "execution_count": 146,
     "metadata": {},
     "output_type": "execute_result"
    }
   ],
   "source": [
    "[v.name for v in convnet.variables()]"
   ]
  },
  {
   "cell_type": "code",
   "execution_count": 147,
   "metadata": {
    "collapsed": false
   },
   "outputs": [],
   "source": [
    "# This little guy will let us run tensorboard\n",
    "#      tensorboard --logdir [LOG_DIR]\n",
    "journalist = tf.train.SummaryWriter(LOG_DIR)\n",
    "\n",
    "# Brain maps from observation to Q values for different actions.\n",
    "# Here it is a done using a multi layer perceptron with 2 hidden\n",
    "# layers\n",
    "brain = convnet\n",
    "\n",
    "# The optimizer to use. Here we use RMSProp as recommended\n",
    "# by the publication\n",
    "optimizer = tf.train.RMSPropOptimizer(learning_rate= 0.001, decay=0.9)\n",
    "\n",
    "# DiscreteDeepQ object\n",
    "current_controller = DiscreteDeepQ(g.observation_size, g.num_actions, brain, optimizer, session,\n",
    "                                   discount_rate=0.9, exploration_period=30000, max_experience=30000, \n",
    "                                   store_every_nth=4, train_every_nth=2,\n",
    "                                   target_network_update_rate=0.01,\n",
    "                                   summary_writer=journalist)\n",
    "\n",
    "session.run(tf.initialize_all_variables())\n",
    "session.run(current_controller.target_network_update)\n",
    "# graph was not available when journalist was created  \n",
    "journalist.add_graph(session.graph_def)"
   ]
  },
  {
   "cell_type": "code",
   "execution_count": 148,
   "metadata": {
    "collapsed": true
   },
   "outputs": [],
   "source": [
    "results = []"
   ]
  },
  {
   "cell_type": "code",
   "execution_count": 149,
   "metadata": {
    "collapsed": false
   },
   "outputs": [
    {
     "data": {
      "text/html": [
       "<?xml version=\"1.0\"?>\n",
       "\n",
       "<svg height=\"560\" width=\"520\" >\n",
       "\n",
       "  <defs> \n",
       "    <marker id=\"arrow\" markerWidth=\"10\" markerHeight=\"10\" refx=\"0\" refy=\"3\" orient=\"auto\" markerUnits=\"strokeWidth\" >\n",
       "      <path d=\"M0,0 L0,6 L9,3 z\" fill=\"#000\" />\n",
       "    </marker>\n",
       "  </defs>\n",
       " <g style=\"fill-opacity:1.0; stroke:black;\n",
       "\n",
       "  stroke-width:1;\">\n",
       "\n",
       "  <rect x=\"10\" y=\"10\" height=\"500\"\n",
       "\n",
       "        width=\"500\" style=\"fill:none\" />\n",
       "\n",
       "  <circle cx=\"369\" cy=\"335\" r=\"35\"\n",
       "\n",
       "          style=\"fill:yellow\" />\n",
       "\n",
       "  <circle cx=\"343\" cy=\"212\" r=\"35\"\n",
       "\n",
       "          style=\"fill:red\" />\n",
       "\n",
       "  <circle cx=\"223\" cy=\"155\" r=\"35\"\n",
       "\n",
       "          style=\"fill:blue\" />\n",
       "\n",
       "  <text x=\"10\" y=\"535\" font-size=\"15\">\n",
       "\n",
       "   fps = 267.4\n",
       "\n",
       "  </text>\n",
       "\n",
       "  <text x=\"10\" y=\"555\" font-size=\"15\">\n",
       "\n",
       "   reward = 0.000\n",
       "\n",
       "  </text>\n",
       "\n",
       " </g>\n",
       "</svg>\n"
      ],
      "text/plain": [
       "<tf_rl.utils.svg.Scene at 0x7fd2502ab240>"
      ]
     },
     "metadata": {},
     "output_type": "display_data"
    },
    {
     "name": "stdout",
     "output_type": "stream",
     "text": [
      "Interrupted\n"
     ]
    }
   ],
   "source": [
    "FPS          = 30\n",
    "ACTION_EVERY = 3\n",
    "SIM_TIME     = 10\n",
    "    \n",
    "fast_mode = True\n",
    "training  = True\n",
    "if fast_mode:\n",
    "    WAIT, VISUALIZE_EVERY = False, 100\n",
    "else:\n",
    "    WAIT, VISUALIZE_EVERY = True, 1\n",
    "\n",
    "    \n",
    "try:\n",
    "    while True:\n",
    "        g = ConvManipulation(SETTINGS)\n",
    "        simulate(simulation=g,\n",
    "                 controller=current_controller,\n",
    "                 fps=FPS,\n",
    "                 visualize_every=VISUALIZE_EVERY,\n",
    "                 action_every=ACTION_EVERY,\n",
    "                 wait=WAIT,\n",
    "                 training=training,\n",
    "                 max_frames=SIM_TIME * FPS,\n",
    "                 save_path=None)\n",
    "        results.append(1 if g.success() else 0)\n",
    "except KeyboardInterrupt:\n",
    "    print(\"Interrupted\")"
   ]
  },
  {
   "cell_type": "code",
   "execution_count": 140,
   "metadata": {
    "collapsed": false
   },
   "outputs": [
    {
     "name": "stdout",
     "output_type": "stream",
     "text": [
      "[ 0.1271642   0.15027322]\n"
     ]
    },
    {
     "data": {
      "text/plain": [
       "(0.0, 1.0)"
      ]
     },
     "execution_count": 140,
     "metadata": {},
     "output_type": "execute_result"
    },
    {
     "data": {
      "image/png": "[encoded data removed]",
      "text/plain": [
       "<matplotlib.figure.Figure at 0x7fd2102d3438>"
      ]
     },
     "metadata": {},
     "output_type": "display_data"
    }
   ],
   "source": [
    "SMOOTHING=10\n",
    "x = range(SMOOTHING, len(results))\n",
    "y = [sum(results[i-SMOOTHING:i]) / SMOOTHING for i in x]\n",
    "f = plt.figure(figsize=(16,7))\n",
    "plt.plot(x, y)\n",
    "z = np.polyfit(x, y, 1)\n",
    "p = np.poly1d(z)\n",
    "print(p([SMOOTHING, len(results)]))\n",
    "plt.plot(x,p(x),color=\"red\")\n",
    "plt.gca().set_ylim([0.0, 1.0])"
   ]
  },
  {
   "cell_type": "code",
   "execution_count": 124,
   "metadata": {
    "collapsed": false
   },
   "outputs": [
    {
     "data": {
      "text/html": [
       "<?xml version=\"1.0\"?>\n",
       "\n",
       "<svg height=\"540\" width=\"520\" >\n",
       "\n",
       "  <defs> \n",
       "    <marker id=\"arrow\" markerWidth=\"10\" markerHeight=\"10\" refx=\"0\" refy=\"3\" orient=\"auto\" markerUnits=\"strokeWidth\" >\n",
       "      <path d=\"M0,0 L0,6 L9,3 z\" fill=\"#000\" />\n",
       "    </marker>\n",
       "  </defs>\n",
       " <g style=\"fill-opacity:1.0; stroke:black;\n",
       "\n",
       "  stroke-width:1;\">\n",
       "\n",
       "  <rect x=\"10\" y=\"10\" height=\"500\"\n",
       "\n",
       "        width=\"500\" style=\"fill:none\" />\n",
       "\n",
       "  <circle cx=\"208\" cy=\"231\" r=\"20\"\n",
       "\n",
       "          style=\"fill:yellow\" />\n",
       "\n",
       "  <circle cx=\"176\" cy=\"161\" r=\"20\"\n",
       "\n",
       "          style=\"fill:red\" />\n",
       "\n",
       "  <text x=\"10\" y=\"535\" font-size=\"15\">\n",
       "\n",
       "   reward = -0.000\n",
       "\n",
       "  </text>\n",
       "\n",
       " </g>\n",
       "</svg>\n"
      ],
      "text/plain": [
       "<tf_rl.utils.svg.Scene at 0x7fd28f8f2f60>"
      ]
     },
     "metadata": {},
     "output_type": "display_data"
    },
    {
     "name": "stdout",
     "output_type": "stream",
     "text": [
      "Interrupted\n"
     ]
    }
   ],
   "source": [
    "import time\n",
    "from IPython.display import display, clear_output\n",
    "\n",
    "try:\n",
    "    while True:\n",
    "        g.step(0.03)\n",
    "        time.sleep(0.03)\n",
    "        clear_output(wait=True)\n",
    "        display(g.to_html())\n",
    "except KeyboardInterrupt:\n",
    "    print('Interrupted')"
   ]
  },
  {
   "cell_type": "code",
   "execution_count": 6,
   "metadata": {
    "collapsed": false
   },
   "outputs": [
    {
     "name": "stdout",
     "output_type": "stream",
     "text": [
      "[[ 1.          1.          0.          0.         -0.15866083 -0.0310832 ]\n",
      " [ 1.          1.          0.          0.         -0.15866083 -0.0310832 ]\n",
      " [ 0.43181894  1.         -0.05574019  0.19108082 -0.15866083 -0.0310832 ]\n",
      " [ 1.          1.          0.          0.         -0.15866083 -0.0310832 ]\n",
      " [ 1.          1.          0.          0.         -0.15866083 -0.0310832 ]\n",
      " [ 1.          1.          0.          0.         -0.15866083 -0.0310832 ]\n",
      " [ 1.          1.          0.          0.         -0.15866083 -0.0310832 ]\n",
      " [ 1.          1.          0.          0.         -0.15866083 -0.0310832 ]\n",
      " [ 1.          1.          0.          0.         -0.15866083 -0.0310832 ]\n",
      " [ 1.          1.          0.          0.         -0.15866083 -0.0310832 ]\n",
      " [ 1.          1.          0.          0.         -0.15866083 -0.0310832 ]\n",
      " [ 1.          1.          0.          0.         -0.15866083 -0.0310832 ]\n",
      " [ 1.          1.          0.          0.         -0.15866083 -0.0310832 ]\n",
      " [ 1.          1.          0.          0.         -0.15866083 -0.0310832 ]\n",
      " [ 1.          1.          0.          0.         -0.15866083 -0.0310832 ]\n",
      " [ 1.          1.          0.          0.         -0.15866083 -0.0310832 ]]\n"
     ]
    },
    {
     "data": {
      "text/html": [
       "<?xml version=\"1.0\"?>\n",
       "\n",
       "<svg height=\"520\" width=\"520\" >\n",
       "\n",
       "  <defs> \n",
       "    <marker id=\"arrow\" markerWidth=\"10\" markerHeight=\"10\" refx=\"0\" refy=\"3\" orient=\"auto\" markerUnits=\"strokeWidth\" >\n",
       "      <path d=\"M0,0 L0,6 L9,3 z\" fill=\"#000\" />\n",
       "    </marker>\n",
       "  </defs>\n",
       " <g style=\"fill-opacity:1.0; stroke:black;\n",
       "\n",
       "  stroke-width:1;\">\n",
       "\n",
       "  <rect x=\"10\" y=\"10\" height=\"500\"\n",
       "\n",
       "        width=\"500\" style=\"fill:none\" />\n",
       "\n",
       "  <line x1=\"238\" y1=\"255\" x2=\"338\" y2=\"255\"  style=\"fill:none;stroke:black\"/>\n",
       "\n",
       "  <line x1=\"238\" y1=\"255\" x2=\"330\" y2=\"294\"  style=\"fill:none;stroke:black\"/>\n",
       "\n",
       "  <line x1=\"238\" y1=\"255\" x2=\"269\" y2=\"286\"  style=\"fill:none;stroke:red\"/>\n",
       "\n",
       "  <line x1=\"238\" y1=\"255\" x2=\"276\" y2=\"348\"  style=\"fill:none;stroke:black\"/>\n",
       "\n",
       "  <line x1=\"238\" y1=\"255\" x2=\"238\" y2=\"355\"  style=\"fill:none;stroke:black\"/>\n",
       "\n",
       "  <line x1=\"238\" y1=\"255\" x2=\"200\" y2=\"348\"  style=\"fill:none;stroke:black\"/>\n",
       "\n",
       "  <line x1=\"238\" y1=\"255\" x2=\"167\" y2=\"326\"  style=\"fill:none;stroke:black\"/>\n",
       "\n",
       "  <line x1=\"238\" y1=\"255\" x2=\"146\" y2=\"294\"  style=\"fill:none;stroke:black\"/>\n",
       "\n",
       "  <line x1=\"238\" y1=\"255\" x2=\"138\" y2=\"255\"  style=\"fill:none;stroke:black\"/>\n",
       "\n",
       "  <line x1=\"238\" y1=\"255\" x2=\"146\" y2=\"217\"  style=\"fill:none;stroke:black\"/>\n",
       "\n",
       "  <line x1=\"238\" y1=\"255\" x2=\"167\" y2=\"185\"  style=\"fill:none;stroke:black\"/>\n",
       "\n",
       "  <line x1=\"238\" y1=\"255\" x2=\"200\" y2=\"163\"  style=\"fill:none;stroke:black\"/>\n",
       "\n",
       "  <line x1=\"238\" y1=\"255\" x2=\"238\" y2=\"155\"  style=\"fill:none;stroke:black\"/>\n",
       "\n",
       "  <line x1=\"238\" y1=\"255\" x2=\"276\" y2=\"163\"  style=\"fill:none;stroke:black\"/>\n",
       "\n",
       "  <line x1=\"238\" y1=\"255\" x2=\"309\" y2=\"185\"  style=\"fill:none;stroke:black\"/>\n",
       "\n",
       "  <line x1=\"238\" y1=\"255\" x2=\"330\" y2=\"217\"  style=\"fill:none;stroke:black\"/>\n",
       "\n",
       "  <circle cx=\"238\" cy=\"255\" r=\"15\"\n",
       "\n",
       "          style=\"fill:yellow\" />\n",
       "\n",
       "  <circle cx=\"283\" cy=\"291\" r=\"15\"\n",
       "\n",
       "          style=\"fill:red\" />\n",
       "\n",
       "  <circle cx=\"110\" cy=\"295\" r=\"15\"\n",
       "\n",
       "          style=\"fill:red\" />\n",
       "\n",
       "  <circle cx=\"209\" cy=\"96\" r=\"15\"\n",
       "\n",
       "          style=\"fill:red\" />\n",
       "\n",
       " </g>\n",
       "</svg>\n"
      ],
      "text/plain": [
       "<tf_rl.utils.svg.Scene at 0x7f4054ff3780>"
      ]
     },
     "execution_count": 6,
     "metadata": {},
     "output_type": "execute_result"
    }
   ],
   "source": [
    "m.__class__ = HeroSimulation\n",
    "print(m.observe().reshape(SETTINGS[\"num_observation_lines\"], len(SETTINGS[\"observable_objects\"]) + 4))\n",
    "m.to_html()"
   ]
  },
  {
   "cell_type": "code",
   "execution_count": null,
   "metadata": {
    "collapsed": true
   },
   "outputs": [],
   "source": []
  }
 ],
 "metadata": {
  "kernelspec": {
   "display_name": "Python 3",
   "language": "python",
   "name": "python3"
  },
  "language_info": {
   "codemirror_mode": {
    "name": "ipython",
    "version": 3
   },
   "file_extension": ".py",
   "mimetype": "text/x-python",
   "name": "python",
   "nbconvert_exporter": "python",
   "pygments_lexer": "ipython3",
   "version": "3.4.3"
  }
 },
 "nbformat": 4,
 "nbformat_minor": 0
}
