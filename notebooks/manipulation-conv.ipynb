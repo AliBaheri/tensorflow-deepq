{
 "cells": [
  {
   "cell_type": "code",
   "execution_count": 27,
   "metadata": {
    "collapsed": false
   },
   "outputs": [],
   "source": [
    "%load_ext autoreload\n",
    "%autoreload 2\n",
    "%matplotlib inline"
   ]
  },
  {
   "cell_type": "code",
   "execution_count": 157,
   "metadata": {
    "collapsed": true
   },
   "outputs": [],
   "source": [
    "import matplotlib.pyplot as plt\n",
    "import numpy as np\n",
    "import tempfile\n",
    "import tensorflow as tf\n",
    "\n",
    "from tf_rl.controller import DiscreteDeepQ, HumanController\n",
    "from tf_rl import simulate\n",
    "from tf_rl.models import MLP, Layer, base_name\n",
    "\n",
    "from __future__ import print_function"
   ]
  },
  {
   "cell_type": "code",
   "execution_count": 129,
   "metadata": {
    "collapsed": true
   },
   "outputs": [],
   "source": [
    "from tf_rl.simulation.manipulation import GameObject, Simulation, HeroSimulation, objects_colliding"
   ]
  },
  {
   "cell_type": "code",
   "execution_count": 130,
   "metadata": {
    "collapsed": false
   },
   "outputs": [
    {
     "name": "stdout",
     "output_type": "stream",
     "text": [
      "/tmp/tmpv62o_7u5\n"
     ]
    }
   ],
   "source": [
    "LOG_DIR = tempfile.mkdtemp()\n",
    "print(LOG_DIR)"
   ]
  },
  {
   "cell_type": "code",
   "execution_count": 192,
   "metadata": {
    "collapsed": false
   },
   "outputs": [],
   "source": [
    "import math\n",
    "import matplotlib.pyplot as plt\n",
    "import numpy as np\n",
    "import random\n",
    "import time\n",
    "\n",
    "from collections import defaultdict\n",
    "from euclid import Circle, Point2, Vector2, LineSegment2\n",
    "from itertools import combinations\n",
    "\n",
    "import tf_rl.utils.svg as svg\n",
    "\n",
    "\n",
    "class ConvSimulation(Simulation):\n",
    "    def __init__(self, settings):\n",
    "        super(ConvSimulation, self).__init__(settings)\n",
    "        self.hero = GameObject(Point2(0.5,0.5), Vector2(1.0,0.0), \"hero\", radius=self.settings['obj_radius'])\n",
    "        self.add(self.hero)\n",
    "        self.observation_res  = self.settings[\"observation_resolution\"]\n",
    "        self.observation_size = [self.observation_res, self.observation_res, len(self.settings[\"observable_objects\"]) + 2]\n",
    "        \n",
    "    def observe(self):\n",
    "        observ_obj = self.settings[\"observable_objects\"]\n",
    "        no = len(observ_obj)\n",
    "        observation = np.zeros((self.observation_res, self.observation_res, no + 2))\n",
    "        def rescale(i):\n",
    "            return min(self.observation_res - 1, max(0, int(round(self.observation_res * i))))\n",
    "        \n",
    "        for obj in self.objects:\n",
    "            cx, cy = rescale(obj.position.x), rescale(obj.position.y)\n",
    "            sx, ex = obj.position.x - obj.radius, obj.position.x + obj.radius\n",
    "            sy, ey = obj.position.y - obj.radius, obj.position.y + obj.radius\n",
    "            sx, ex, sy, ey = [ rescale(i) for i in [sx,ex,sy,ey]]\n",
    "            layer = observ_obj.index(obj.obj_type)\n",
    "            for x in range(sx, ex + 1):\n",
    "                for y in range(sy, ey + 1):\n",
    "                    if (x-cx)**2 + (y-cy)**2 <= (obj.radius*self.observation_res)**2:\n",
    "                        observation[x,y,layer]  = 1.0\n",
    "                        observation[x,y,no]     = obj.speed.x\n",
    "                        observation[x,y,no + 1] = obj.speed.y\n",
    "        return observation"
   ]
  },
  {
   "cell_type": "code",
   "execution_count": 216,
   "metadata": {
    "collapsed": true
   },
   "outputs": [],
   "source": [
    "class ConvManipulation(ConvSimulation):\n",
    "    def __init__(self, settings):\n",
    "        super(ConvManipulation, self).__init__(settings)\n",
    "        self.actions = [Vector2(*a) for a in self.settings[\"action_acc\"]]\n",
    "        self.num_actions = len(self.actions)\n",
    "        \n",
    "        \n",
    "        \n",
    "        self.target     = GameObject(Point2(0, 0), Vector2(0,0), \"red\", mass=2.0, radius=self.settings['obj_radius'])\n",
    "        self.randomize_position(self.target, margin=2 * self.settings['obj_radius']) \n",
    "        self.add(self.target)\n",
    "\n",
    "        self.tool     = GameObject(Point2(0, 0), Vector2(0,0), \"blue\", mass=2.0, radius=self.settings['obj_radius'])\n",
    "        self.randomize_position(self.tool, margin=2 * self.settings['obj_radius'])\n",
    "        self.add(self.tool)\n",
    "        \n",
    "        self.randomize_position(self.hero)\n",
    "        \n",
    "        self.prev_distance = self.distance_to_minimize()\n",
    "        \n",
    "    def distance_to_minimize(self):\n",
    "        return self.tool.position.distance(self.target.position)\n",
    "        \n",
    "    def randomize_position(self, obj, noncoliding=True, margin=0.0):\n",
    "        gen = lambda: random.uniform(obj.radius + margin, 1.0 - obj.radius - margin)\n",
    "        obj.position = Point2(gen(), gen())\n",
    "                \n",
    "        while noncoliding and any(objects_colliding(obj, other) for other in self.objects if other is not obj):\n",
    "            obj.position = Point2(gen(), gen())\n",
    "                                         \n",
    "    def perform_action(self, action):\n",
    "        self.hero.speed += self.actions[action]\n",
    "\n",
    "    def collect_reward(self):\n",
    "        new_distance = self.distance_to_minimize()\n",
    "        delta = self.prev_distance - new_distance \n",
    "        self.prev_distance = new_distance\n",
    "        return 100.0*delta\n",
    "    \n",
    "    def success(self):\n",
    "        return self.tool.position.distance(self.target.position) < (self.target.radius + self.tool.radius) * 1.5\n",
    "    \n",
    "    def to_html(self, stats=[]):\n",
    "        stats = stats[:]\n",
    "        stats.extend([\n",
    "            \"reward = %.3f\" % (self.collect_reward()),\n",
    "        ])\n",
    "        return super(ConvManipulation, self).to_html(stats=stats)"
   ]
  },
  {
   "cell_type": "code",
   "execution_count": 217,
   "metadata": {
    "collapsed": false
   },
   "outputs": [],
   "source": [
    "SETTINGS = {\n",
    "    'size': 500,\n",
    "    'colors': {\n",
    "        'hero': 'yellow',\n",
    "        'red':  'red',\n",
    "        'blue': 'blue'\n",
    "    },\n",
    "    'restitution': 0.9,\n",
    "    'observation_resolution': 32,\n",
    "    'observable_objects': [\n",
    "        'red',\n",
    "        'blue',\n",
    "        'hero',\n",
    "    ],\n",
    "    'action_acc': [\n",
    "        [0.0,   0.0],    # stay still\n",
    "        [-0.05, 0.0],    # left\n",
    "        [0.05,  0.0],    # right\n",
    "        [0.0,   -0.05],  # up\n",
    "        [0.0,   0.05],   # down\n",
    "    ],\n",
    "    'obj_radius': 0.04,\n",
    "    'viscosity': 0.97,\n",
    "}\n",
    "\n",
    "g = ConvManipulation(SETTINGS)"
   ]
  },
  {
   "cell_type": "code",
   "execution_count": 218,
   "metadata": {
    "collapsed": false
   },
   "outputs": [],
   "source": [
    "# o = g.observe()\n",
    "# print(o.shape)\n",
    "# plt.matshow(o[:,:,0].T)\n",
    "# plt.matshow(o[:,:,1].T)\n",
    "# plt.matshow(o[:,:,2].T)\n",
    "\n",
    "# g.to_html()"
   ]
  },
  {
   "cell_type": "code",
   "execution_count": 219,
   "metadata": {
    "collapsed": true
   },
   "outputs": [],
   "source": [
    "class ConvLayer(object):\n",
    "    def __init__(self, filter_H, filter_W, in_C, out_C, nonlinearity=tf.nn.relu, stride=(1,1), scope=\"Convolution\"):\n",
    "        self.filter_H, self.filter_W, self.in_C, self.out_C = filter_H, filter_W, in_C, out_C\n",
    "        self.stride       = stride\n",
    "        self.nonlinearity = nonlinearity\n",
    "        self.scope        = scope\n",
    "\n",
    "        with tf.variable_scope(self.scope):\n",
    "            input_size = filter_H * filter_W * in_C\n",
    "            W_initializer =  tf.random_uniform_initializer(\n",
    "                        -1.0 / math.sqrt(input_size), 1.0 / math.sqrt(input_size))\n",
    "            self.W = tf.get_variable('W', (filter_H, filter_W, in_C, out_C), initializer=W_initializer)\n",
    "            self.b = tf.get_variable('b', (out_C), initializer=tf.constant_initializer(0))\n",
    "    \n",
    "    def __call__(self, X):\n",
    "        with tf.variable_scope(self.scope):\n",
    "            return self.nonlinearity(tf.nn.conv2d(X, self.W,  strides=[1] + list(self.stride) + [1], padding='SAME')\n",
    "                                     + self.b)\n",
    "        \n",
    "    def variables(self):\n",
    "        return [self.b, self.W]\n",
    "\n",
    "    def copy(self, scope=None):\n",
    "        scope = scope or self.scope + \"_copy\"\n",
    "\n",
    "        with tf.variable_scope(scope) as sc:\n",
    "            for v in self.variables():\n",
    "                tf.get_variable(base_name(v), v.get_shape(),\n",
    "                        initializer=lambda x,dtype=tf.float32: v.initialized_value())\n",
    "            sc.reuse_variables()\n",
    "            return ConvLayer(self.filter_H, self.filter_W, self.in_C, self.out_C,\n",
    "                             nonlinearity=self.nonlinearity, stride=self.stride, scope=sc)"
   ]
  },
  {
   "cell_type": "code",
   "execution_count": 220,
   "metadata": {
    "collapsed": true
   },
   "outputs": [],
   "source": [
    "from types import FunctionType\n",
    "\n",
    "class SequenceWrapper(object):\n",
    "    def __init__(self, seq, scope=None):\n",
    "        self.seq   = seq\n",
    "        self.scope = scope or \"MLP\"\n",
    "\n",
    "    def __call__(self, x):\n",
    "        with tf.variable_scope(self.scope):\n",
    "            for el in self.seq:\n",
    "                x = el(x)\n",
    "            return x\n",
    "            \n",
    "    def variables(self):\n",
    "        res = []\n",
    "        for el in self.seq:\n",
    "            if hasattr(el, 'variables'):\n",
    "                res.extend(el.variables())\n",
    "        return res\n",
    "            \n",
    "    def copy(self, scope=None):\n",
    "        scope = scope or self.scope + \"_copy\"\n",
    "        new_seq = [el if type(el) is FunctionType else el.copy() for el in self.seq ]\n",
    "        \n",
    "        return SequenceWrapper(new_seq)"
   ]
  },
  {
   "cell_type": "code",
   "execution_count": 221,
   "metadata": {
    "collapsed": true
   },
   "outputs": [],
   "source": [
    "# Tensorflow business - it is always good to reset a graph before creating a new controller.\n",
    "tf.ops.reset_default_graph()\n",
    "if 'session' in globals():\n",
    "    session.close()\n",
    "session = tf.InteractiveSession()"
   ]
  },
  {
   "cell_type": "code",
   "execution_count": 222,
   "metadata": {
    "collapsed": false
   },
   "outputs": [],
   "source": [
    "assert g.observation_size[:2] == [32, 32]\n",
    "in_channels = g.observation_size[2]\n",
    "\n",
    "convnet = SequenceWrapper([\n",
    "    # (BATCH, 32, 32, 3)   \n",
    "    ConvLayer(4, 4, in_channels,   50,  stride=(2,2), scope=\"conv0\"),\n",
    "    # (BATCH, 16, 16, 50)        \n",
    "    ConvLayer(4, 4, 50, 100,  stride=(2,2), scope=\"conv1\"),\n",
    "    # (BATCH, 8, 8, 100)\n",
    "    ConvLayer(4, 4, 100, 200,  stride=(2,2), scope=\"conv2\"),\n",
    "    # (BATCH, 4, 4, 200)\n",
    "    lambda x: tf.reshape(x, (-1, 200 * 4 * 4)),\n",
    "    # (BATCH, 4 * 4* 200)\n",
    "    Layer(200 * 4 * 4, g.num_actions, scope=\"final_project\"),\n",
    "    # (BATCH, g.num_actions)\n",
    "])"
   ]
  },
  {
   "cell_type": "code",
   "execution_count": 223,
   "metadata": {
    "collapsed": false
   },
   "outputs": [
    {
     "data": {
      "text/plain": [
       "['conv0/b:0',\n",
       " 'conv0/W:0',\n",
       " 'conv1/b:0',\n",
       " 'conv1/W:0',\n",
       " 'conv2/b:0',\n",
       " 'conv2/W:0',\n",
       " 'final_project/b:0',\n",
       " 'final_project/W_0:0']"
      ]
     },
     "execution_count": 223,
     "metadata": {},
     "output_type": "execute_result"
    }
   ],
   "source": [
    "[v.name for v in convnet.variables()]"
   ]
  },
  {
   "cell_type": "code",
   "execution_count": 224,
   "metadata": {
    "collapsed": false
   },
   "outputs": [],
   "source": [
    "# This little guy will let us run tensorboard\n",
    "#      tensorboard --logdir [LOG_DIR]\n",
    "journalist = tf.train.SummaryWriter(LOG_DIR)\n",
    "\n",
    "# Brain maps from observation to Q values for different actions.\n",
    "# Here it is a done using a multi layer perceptron with 2 hidden\n",
    "# layers\n",
    "brain = convnet\n",
    "\n",
    "# The optimizer to use. Here we use RMSProp as recommended\n",
    "# by the publication\n",
    "optimizer = tf.train.RMSPropOptimizer(learning_rate= 0.001, decay=0.9)\n",
    "\n",
    "# DiscreteDeepQ object\n",
    "current_controller = DiscreteDeepQ(g.observation_size, g.num_actions, brain, optimizer, session,\n",
    "                                   discount_rate=0.99, exploration_period=5000, max_experience=10000, \n",
    "                                   store_every_nth=2, train_every_nth=2,\n",
    "                                   target_network_update_rate=0.01,\n",
    "                                   summary_writer=journalist)\n",
    "\n",
    "session.run(tf.initialize_all_variables())\n",
    "session.run(current_controller.target_network_update)\n",
    "# graph was not available when journalist was created  \n",
    "journalist.add_graph(session.graph_def)"
   ]
  },
  {
   "cell_type": "code",
   "execution_count": 225,
   "metadata": {
    "collapsed": true
   },
   "outputs": [],
   "source": [
    "results = []"
   ]
  },
  {
   "cell_type": "code",
   "execution_count": 227,
   "metadata": {
    "collapsed": false
   },
   "outputs": [
    {
     "data": {
      "text/html": [
       "<?xml version=\"1.0\"?>\n",
       "\n",
       "<svg height=\"560\" width=\"520\" >\n",
       "\n",
       "  <defs> \n",
       "    <marker id=\"arrow\" markerWidth=\"10\" markerHeight=\"10\" refx=\"0\" refy=\"3\" orient=\"auto\" markerUnits=\"strokeWidth\" >\n",
       "      <path d=\"M0,0 L0,6 L9,3 z\" fill=\"#000\" />\n",
       "    </marker>\n",
       "  </defs>\n",
       " <g style=\"fill-opacity:1.0; stroke:black;\n",
       "\n",
       "  stroke-width:1;\">\n",
       "\n",
       "  <rect x=\"10\" y=\"10\" height=\"500\"\n",
       "\n",
       "        width=\"500\" style=\"fill:none\" />\n",
       "\n",
       "  <circle cx=\"470\" cy=\"140\" r=\"20\"\n",
       "\n",
       "          style=\"fill:yellow\" />\n",
       "\n",
       "  <circle cx=\"182\" cy=\"300\" r=\"20\"\n",
       "\n",
       "          style=\"fill:red\" />\n",
       "\n",
       "  <circle cx=\"126\" cy=\"368\" r=\"20\"\n",
       "\n",
       "          style=\"fill:blue\" />\n",
       "\n",
       "  <text x=\"10\" y=\"535\" font-size=\"15\">\n",
       "\n",
       "   fps = 19.5\n",
       "\n",
       "  </text>\n",
       "\n",
       "  <text x=\"10\" y=\"555\" font-size=\"15\">\n",
       "\n",
       "   reward = 0.000\n",
       "\n",
       "  </text>\n",
       "\n",
       " </g>\n",
       "</svg>\n"
      ],
      "text/plain": [
       "<tf_rl.utils.svg.Scene at 0x7fcce0f757f0>"
      ]
     },
     "metadata": {},
     "output_type": "display_data"
    },
    {
     "name": "stdout",
     "output_type": "stream",
     "text": [
      "Interrupted\n"
     ]
    }
   ],
   "source": [
    "FPS          = 30\n",
    "ACTION_EVERY = 3\n",
    "SIM_TIME     = 15\n",
    "    \n",
    "fast_mode = False\n",
    "training  = True\n",
    "if fast_mode:\n",
    "    WAIT, VISUALIZE_EVERY = False, 100\n",
    "else:\n",
    "    WAIT, VISUALIZE_EVERY = True, 1\n",
    "\n",
    "    \n",
    "try:\n",
    "    while True:\n",
    "        g = ConvManipulation(SETTINGS)\n",
    "        simulate(simulation=g,\n",
    "                 controller=current_controller,\n",
    "                 fps=FPS,\n",
    "                 visualize_every=VISUALIZE_EVERY,\n",
    "                 action_every=ACTION_EVERY,\n",
    "                 wait=WAIT,\n",
    "                 training=training,\n",
    "                 max_frames=SIM_TIME * FPS,\n",
    "                 save_path=None)\n",
    "        results.append(1 if g.success() else 0)\n",
    "except KeyboardInterrupt:\n",
    "    print(\"Interrupted\")"
   ]
  },
  {
   "cell_type": "code",
   "execution_count": 348,
   "metadata": {
    "collapsed": false
   },
   "outputs": [
    {
     "name": "stdout",
     "output_type": "stream",
     "text": [
      "[ 0.09418061  0.05579364]\n"
     ]
    },
    {
     "data": {
      "text/plain": [
       "(0.0, 1.0)"
      ]
     },
     "execution_count": 348,
     "metadata": {},
     "output_type": "execute_result"
    },
    {
     "data": {
      "image/png": "[encoded data removed]",
      "text/plain": [
       "<matplotlib.figure.Figure at 0x7f3ff4331e80>"
      ]
     },
     "metadata": {},
     "output_type": "display_data"
    }
   ],
   "source": [
    "SMOOTHING=100\n",
    "x = range(SMOOTHING, len(results))\n",
    "y = [sum(results[i-SMOOTHING:i]) / SMOOTHING for i in x]\n",
    "f = plt.figure(figsize=(16,7))\n",
    "plt.plot(x, y)\n",
    "z = np.polyfit(x, y, 1)\n",
    "p = np.poly1d(z)\n",
    "print(p([SMOOTHING, len(results)]))\n",
    "plt.plot(x,p(x),color=\"red\")\n",
    "plt.gca().set_ylim([0.0, 1.0])"
   ]
  },
  {
   "cell_type": "code",
   "execution_count": 217,
   "metadata": {
    "collapsed": false
   },
   "outputs": [
    {
     "data": {
      "text/html": [
       "<?xml version=\"1.0\"?>\n",
       "\n",
       "<svg height=\"540\" width=\"520\" >\n",
       "\n",
       "  <defs> \n",
       "    <marker id=\"arrow\" markerWidth=\"10\" markerHeight=\"10\" refx=\"0\" refy=\"3\" orient=\"auto\" markerUnits=\"strokeWidth\" >\n",
       "      <path d=\"M0,0 L0,6 L9,3 z\" fill=\"#000\" />\n",
       "    </marker>\n",
       "  </defs>\n",
       " <g style=\"fill-opacity:1.0; stroke:black;\n",
       "\n",
       "  stroke-width:1;\">\n",
       "\n",
       "  <rect x=\"10\" y=\"10\" height=\"500\"\n",
       "\n",
       "        width=\"500\" style=\"fill:none\" />\n",
       "\n",
       "  <line x1=\"359\" y1=\"359\" x2=\"510\" y2=\"359\"  style=\"fill:none;stroke:black\"/>\n",
       "\n",
       "  <line x1=\"359\" y1=\"359\" x2=\"510\" y2=\"389\"  style=\"fill:none;stroke:black\"/>\n",
       "\n",
       "  <line x1=\"359\" y1=\"359\" x2=\"510\" y2=\"422\"  style=\"fill:none;stroke:black\"/>\n",
       "\n",
       "  <line x1=\"359\" y1=\"359\" x2=\"510\" y2=\"460\"  style=\"fill:none;stroke:black\"/>\n",
       "\n",
       "  <line x1=\"359\" y1=\"359\" x2=\"510\" y2=\"510\"  style=\"fill:none;stroke:black\"/>\n",
       "\n",
       "  <line x1=\"359\" y1=\"359\" x2=\"460\" y2=\"510\"  style=\"fill:none;stroke:black\"/>\n",
       "\n",
       "  <line x1=\"359\" y1=\"359\" x2=\"422\" y2=\"510\"  style=\"fill:none;stroke:black\"/>\n",
       "\n",
       "  <line x1=\"359\" y1=\"359\" x2=\"389\" y2=\"510\"  style=\"fill:none;stroke:black\"/>\n",
       "\n",
       "  <line x1=\"359\" y1=\"359\" x2=\"359\" y2=\"510\"  style=\"fill:none;stroke:black\"/>\n",
       "\n",
       "  <line x1=\"359\" y1=\"359\" x2=\"330\" y2=\"510\"  style=\"fill:none;stroke:black\"/>\n",
       "\n",
       "  <line x1=\"359\" y1=\"359\" x2=\"327\" y2=\"438\"  style=\"fill:none;stroke:blue\"/>\n",
       "\n",
       "  <line x1=\"359\" y1=\"359\" x2=\"316\" y2=\"425\"  style=\"fill:none;stroke:blue\"/>\n",
       "\n",
       "  <line x1=\"359\" y1=\"359\" x2=\"300\" y2=\"419\"  style=\"fill:none;stroke:blue\"/>\n",
       "\n",
       "  <line x1=\"359\" y1=\"359\" x2=\"135\" y2=\"510\"  style=\"fill:none;stroke:black\"/>\n",
       "\n",
       "  <line x1=\"359\" y1=\"359\" x2=\"10\" y2=\"504\"  style=\"fill:none;stroke:black\"/>\n",
       "\n",
       "  <line x1=\"359\" y1=\"359\" x2=\"10\" y2=\"429\"  style=\"fill:none;stroke:black\"/>\n",
       "\n",
       "  <line x1=\"359\" y1=\"359\" x2=\"10\" y2=\"359\"  style=\"fill:none;stroke:black\"/>\n",
       "\n",
       "  <line x1=\"359\" y1=\"359\" x2=\"10\" y2=\"290\"  style=\"fill:none;stroke:black\"/>\n",
       "\n",
       "  <line x1=\"359\" y1=\"359\" x2=\"10\" y2=\"214\"  style=\"fill:none;stroke:black\"/>\n",
       "\n",
       "  <line x1=\"359\" y1=\"359\" x2=\"10\" y2=\"126\"  style=\"fill:none;stroke:black\"/>\n",
       "\n",
       "  <line x1=\"359\" y1=\"359\" x2=\"10\" y2=\"10\"  style=\"fill:none;stroke:black\"/>\n",
       "\n",
       "  <line x1=\"359\" y1=\"359\" x2=\"126\" y2=\"10\"  style=\"fill:none;stroke:black\"/>\n",
       "\n",
       "  <line x1=\"359\" y1=\"359\" x2=\"214\" y2=\"10\"  style=\"fill:none;stroke:black\"/>\n",
       "\n",
       "  <line x1=\"359\" y1=\"359\" x2=\"290\" y2=\"10\"  style=\"fill:none;stroke:black\"/>\n",
       "\n",
       "  <line x1=\"359\" y1=\"359\" x2=\"359\" y2=\"130\"  style=\"fill:none;stroke:red\"/>\n",
       "\n",
       "  <line x1=\"359\" y1=\"359\" x2=\"429\" y2=\"10\"  style=\"fill:none;stroke:black\"/>\n",
       "\n",
       "  <line x1=\"359\" y1=\"359\" x2=\"504\" y2=\"10\"  style=\"fill:none;stroke:black\"/>\n",
       "\n",
       "  <line x1=\"359\" y1=\"359\" x2=\"510\" y2=\"135\"  style=\"fill:none;stroke:black\"/>\n",
       "\n",
       "  <line x1=\"359\" y1=\"359\" x2=\"510\" y2=\"209\"  style=\"fill:none;stroke:black\"/>\n",
       "\n",
       "  <line x1=\"359\" y1=\"359\" x2=\"510\" y2=\"259\"  style=\"fill:none;stroke:black\"/>\n",
       "\n",
       "  <line x1=\"359\" y1=\"359\" x2=\"510\" y2=\"297\"  style=\"fill:none;stroke:black\"/>\n",
       "\n",
       "  <line x1=\"359\" y1=\"359\" x2=\"510\" y2=\"330\"  style=\"fill:none;stroke:black\"/>\n",
       "\n",
       "  <circle cx=\"359\" cy=\"359\" r=\"30\"\n",
       "\n",
       "          style=\"fill:yellow\" />\n",
       "\n",
       "  <circle cx=\"360\" cy=\"100\" r=\"30\"\n",
       "\n",
       "          style=\"fill:red\" />\n",
       "\n",
       "  <circle cx=\"299\" cy=\"449\" r=\"30\"\n",
       "\n",
       "          style=\"fill:blue\" />\n",
       "\n",
       "  <text x=\"10\" y=\"535\" font-size=\"15\">\n",
       "\n",
       "   reward = 0.000\n",
       "\n",
       "  </text>\n",
       "\n",
       " </g>\n",
       "</svg>\n"
      ],
      "text/plain": [
       "<tf_rl.utils.svg.Scene at 0x7f4008745d68>"
      ]
     },
     "metadata": {},
     "output_type": "display_data"
    },
    {
     "name": "stdout",
     "output_type": "stream",
     "text": [
      "Interrupted\n"
     ]
    }
   ],
   "source": [
    "import time\n",
    "from IPython.display import display, clear_output\n",
    "\n",
    "try:\n",
    "    while True:\n",
    "        g.step(0.03)\n",
    "        time.sleep(0.03)\n",
    "        clear_output(wait=True)\n",
    "        display(g.to_html())\n",
    "except KeyboardInterrupt:\n",
    "    print('Interrupted')"
   ]
  },
  {
   "cell_type": "code",
   "execution_count": 6,
   "metadata": {
    "collapsed": false
   },
   "outputs": [
    {
     "name": "stdout",
     "output_type": "stream",
     "text": [
      "[[ 1.          1.          0.          0.         -0.15866083 -0.0310832 ]\n",
      " [ 1.          1.          0.          0.         -0.15866083 -0.0310832 ]\n",
      " [ 0.43181894  1.         -0.05574019  0.19108082 -0.15866083 -0.0310832 ]\n",
      " [ 1.          1.          0.          0.         -0.15866083 -0.0310832 ]\n",
      " [ 1.          1.          0.          0.         -0.15866083 -0.0310832 ]\n",
      " [ 1.          1.          0.          0.         -0.15866083 -0.0310832 ]\n",
      " [ 1.          1.          0.          0.         -0.15866083 -0.0310832 ]\n",
      " [ 1.          1.          0.          0.         -0.15866083 -0.0310832 ]\n",
      " [ 1.          1.          0.          0.         -0.15866083 -0.0310832 ]\n",
      " [ 1.          1.          0.          0.         -0.15866083 -0.0310832 ]\n",
      " [ 1.          1.          0.          0.         -0.15866083 -0.0310832 ]\n",
      " [ 1.          1.          0.          0.         -0.15866083 -0.0310832 ]\n",
      " [ 1.          1.          0.          0.         -0.15866083 -0.0310832 ]\n",
      " [ 1.          1.          0.          0.         -0.15866083 -0.0310832 ]\n",
      " [ 1.          1.          0.          0.         -0.15866083 -0.0310832 ]\n",
      " [ 1.          1.          0.          0.         -0.15866083 -0.0310832 ]]\n"
     ]
    },
    {
     "data": {
      "text/html": [
       "<?xml version=\"1.0\"?>\n",
       "\n",
       "<svg height=\"520\" width=\"520\" >\n",
       "\n",
       "  <defs> \n",
       "    <marker id=\"arrow\" markerWidth=\"10\" markerHeight=\"10\" refx=\"0\" refy=\"3\" orient=\"auto\" markerUnits=\"strokeWidth\" >\n",
       "      <path d=\"M0,0 L0,6 L9,3 z\" fill=\"#000\" />\n",
       "    </marker>\n",
       "  </defs>\n",
       " <g style=\"fill-opacity:1.0; stroke:black;\n",
       "\n",
       "  stroke-width:1;\">\n",
       "\n",
       "  <rect x=\"10\" y=\"10\" height=\"500\"\n",
       "\n",
       "        width=\"500\" style=\"fill:none\" />\n",
       "\n",
       "  <line x1=\"238\" y1=\"255\" x2=\"338\" y2=\"255\"  style=\"fill:none;stroke:black\"/>\n",
       "\n",
       "  <line x1=\"238\" y1=\"255\" x2=\"330\" y2=\"294\"  style=\"fill:none;stroke:black\"/>\n",
       "\n",
       "  <line x1=\"238\" y1=\"255\" x2=\"269\" y2=\"286\"  style=\"fill:none;stroke:red\"/>\n",
       "\n",
       "  <line x1=\"238\" y1=\"255\" x2=\"276\" y2=\"348\"  style=\"fill:none;stroke:black\"/>\n",
       "\n",
       "  <line x1=\"238\" y1=\"255\" x2=\"238\" y2=\"355\"  style=\"fill:none;stroke:black\"/>\n",
       "\n",
       "  <line x1=\"238\" y1=\"255\" x2=\"200\" y2=\"348\"  style=\"fill:none;stroke:black\"/>\n",
       "\n",
       "  <line x1=\"238\" y1=\"255\" x2=\"167\" y2=\"326\"  style=\"fill:none;stroke:black\"/>\n",
       "\n",
       "  <line x1=\"238\" y1=\"255\" x2=\"146\" y2=\"294\"  style=\"fill:none;stroke:black\"/>\n",
       "\n",
       "  <line x1=\"238\" y1=\"255\" x2=\"138\" y2=\"255\"  style=\"fill:none;stroke:black\"/>\n",
       "\n",
       "  <line x1=\"238\" y1=\"255\" x2=\"146\" y2=\"217\"  style=\"fill:none;stroke:black\"/>\n",
       "\n",
       "  <line x1=\"238\" y1=\"255\" x2=\"167\" y2=\"185\"  style=\"fill:none;stroke:black\"/>\n",
       "\n",
       "  <line x1=\"238\" y1=\"255\" x2=\"200\" y2=\"163\"  style=\"fill:none;stroke:black\"/>\n",
       "\n",
       "  <line x1=\"238\" y1=\"255\" x2=\"238\" y2=\"155\"  style=\"fill:none;stroke:black\"/>\n",
       "\n",
       "  <line x1=\"238\" y1=\"255\" x2=\"276\" y2=\"163\"  style=\"fill:none;stroke:black\"/>\n",
       "\n",
       "  <line x1=\"238\" y1=\"255\" x2=\"309\" y2=\"185\"  style=\"fill:none;stroke:black\"/>\n",
       "\n",
       "  <line x1=\"238\" y1=\"255\" x2=\"330\" y2=\"217\"  style=\"fill:none;stroke:black\"/>\n",
       "\n",
       "  <circle cx=\"238\" cy=\"255\" r=\"15\"\n",
       "\n",
       "          style=\"fill:yellow\" />\n",
       "\n",
       "  <circle cx=\"283\" cy=\"291\" r=\"15\"\n",
       "\n",
       "          style=\"fill:red\" />\n",
       "\n",
       "  <circle cx=\"110\" cy=\"295\" r=\"15\"\n",
       "\n",
       "          style=\"fill:red\" />\n",
       "\n",
       "  <circle cx=\"209\" cy=\"96\" r=\"15\"\n",
       "\n",
       "          style=\"fill:red\" />\n",
       "\n",
       " </g>\n",
       "</svg>\n"
      ],
      "text/plain": [
       "<tf_rl.utils.svg.Scene at 0x7f4054ff3780>"
      ]
     },
     "execution_count": 6,
     "metadata": {},
     "output_type": "execute_result"
    }
   ],
   "source": [
    "m.__class__ = HeroSimulation\n",
    "print(m.observe().reshape(SETTINGS[\"num_observation_lines\"], len(SETTINGS[\"observable_objects\"]) + 4))\n",
    "m.to_html()"
   ]
  },
  {
   "cell_type": "code",
   "execution_count": null,
   "metadata": {
    "collapsed": true
   },
   "outputs": [],
   "source": []
  }
 ],
 "metadata": {
  "kernelspec": {
   "display_name": "Python 3",
   "language": "python",
   "name": "python3"
  },
  "language_info": {
   "codemirror_mode": {
    "name": "ipython",
    "version": 3
   },
   "file_extension": ".py",
   "mimetype": "text/x-python",
   "name": "python",
   "nbconvert_exporter": "python",
   "pygments_lexer": "ipython3",
   "version": "3.4.1"
  }
 },
 "nbformat": 4,
 "nbformat_minor": 0
}
