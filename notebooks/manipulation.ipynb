{
 "cells": [
  {
   "cell_type": "code",
   "execution_count": 1,
   "metadata": {
    "collapsed": false
   },
   "outputs": [],
   "source": [
    "%load_ext autoreload\n",
    "%autoreload 2\n",
    "%matplotlib inline"
   ]
  },
  {
   "cell_type": "code",
   "execution_count": 2,
   "metadata": {
    "collapsed": true
   },
   "outputs": [],
   "source": [
    "import matplotlib.pyplot as plt\n",
    "import numpy as np\n",
    "import tempfile\n",
    "import tensorflow as tf\n",
    "\n",
    "from tf_rl.controller import DiscreteDeepQ, HumanController\n",
    "from tf_rl import simulate\n",
    "from tf_rl.models import MLP\n",
    "\n",
    "from __future__ import print_function"
   ]
  },
  {
   "cell_type": "code",
   "execution_count": 3,
   "metadata": {
    "collapsed": true
   },
   "outputs": [],
   "source": [
    "from tf_rl.simulation.manipulation import GameObject, HeroSimulation, objects_colliding"
   ]
  },
  {
   "cell_type": "code",
   "execution_count": 4,
   "metadata": {
    "collapsed": false
   },
   "outputs": [
    {
     "name": "stdout",
     "output_type": "stream",
     "text": [
      "/tmp/tmp2epiacd_\n"
     ]
    }
   ],
   "source": [
    "LOG_DIR = tempfile.mkdtemp()\n",
    "print(LOG_DIR)"
   ]
  },
  {
   "cell_type": "code",
   "execution_count": 5,
   "metadata": {
    "collapsed": false
   },
   "outputs": [],
   "source": [
    "import math\n",
    "import matplotlib.pyplot as plt\n",
    "import numpy as np\n",
    "import random\n",
    "import time\n",
    "\n",
    "from collections import defaultdict\n",
    "from euclid import Circle, Point2, Vector2, LineSegment2\n",
    "from itertools import combinations\n",
    "\n",
    "import tf_rl.utils.svg as svg\n",
    "\n",
    "class Manipulation(HeroSimulation):\n",
    "    def __init__(self, settings):\n",
    "        super(Manipulation, self).__init__(settings)\n",
    "        self.actions = [Vector2(*a) for a in self.settings[\"action_acc\"]]\n",
    "        self.num_actions = len(self.actions)\n",
    "        \n",
    "        self.target     = GameObject(Point2(0, 0), Vector2(0,0), \"red\", mass=2.0, radius=self.settings['obj_radius'])\n",
    "        self.randomize_position(self.target, margin=2 * self.settings['obj_radius']) \n",
    "        self.add(self.target)\n",
    "\n",
    "        self.tool     = GameObject(Point2(0, 0), Vector2(0,0), \"blue\", mass=2.0, radius=self.settings['obj_radius'])\n",
    "        self.randomize_position(self.tool, margin=2 * self.settings['obj_radius'])\n",
    "        self.add(self.tool)\n",
    "        \n",
    "        self.randomize_position(self.hero)\n",
    "        \n",
    "        self.prev_distance = self.distance_to_minimize()\n",
    "        \n",
    "    def distance_to_minimize(self):\n",
    "        return self.tool.position.distance(self.target.position)\n",
    "        \n",
    "    def randomize_position(self, obj, noncoliding=True, margin=0.0):\n",
    "        gen = lambda: random.uniform(obj.radius + margin, 1.0 - obj.radius - margin)\n",
    "        obj.position = Point2(gen(), gen())\n",
    "                \n",
    "        while noncoliding and any(objects_colliding(obj, other) for other in self.objects if other is not obj):\n",
    "            obj.position = Point2(gen(), gen())\n",
    "                                         \n",
    "    def perform_action(self, action):\n",
    "        self.hero.speed += self.actions[action]\n",
    "\n",
    "    def collect_reward(self):\n",
    "        new_distance = self.distance_to_minimize()\n",
    "        delta = self.prev_distance - new_distance \n",
    "        self.prev_distance = new_distance\n",
    "        return 100.0*delta\n",
    "    \n",
    "    def success(self):\n",
    "        return self.tool.position.distance(self.target.position) < (self.target.radius + self.tool.radius) * 1.5\n",
    "    \n",
    "    def to_html(self, stats=[]):\n",
    "        stats = stats[:]\n",
    "        stats.extend([\n",
    "            \"reward = %.3f\" % (self.collect_reward()),\n",
    "        ])\n",
    "        return super(Manipulation, self).to_html(stats=stats)"
   ]
  },
  {
   "cell_type": "code",
   "execution_count": 6,
   "metadata": {
    "collapsed": false
   },
   "outputs": [],
   "source": [
    "SETTINGS = {\n",
    "    'size': 500,\n",
    "    'colors': {\n",
    "        'hero': 'yellow',\n",
    "        'red':  'red',\n",
    "        'blue': 'blue'\n",
    "    },\n",
    "    'restitution': 0.6,\n",
    "    'observable_distance': 1.5,\n",
    "    'num_observation_lines': 32,\n",
    "    'observable_objects': [\n",
    "        'red',\n",
    "        'blue',\n",
    "        'wall',\n",
    "    ],\n",
    "    'action_acc': [\n",
    "        [0.0,   0.0],    # stay still\n",
    "        [-0.05, 0.0],    # left\n",
    "        [0.05,  0.0],    # right\n",
    "        [0.0,   -0.05],  # up\n",
    "        [0.0,   0.05],   # down\n",
    "    ],\n",
    "    'obj_radius': 0.045,\n",
    "    'viscosity': 0.97,\n",
    "}\n",
    "\n",
    "g = Manipulation(SETTINGS)"
   ]
  },
  {
   "cell_type": "code",
   "execution_count": 7,
   "metadata": {
    "collapsed": false
   },
   "outputs": [],
   "source": [
    "human_control = False\n",
    "\n",
    "if human_control:\n",
    "    # WSAD CONTROL (requires extra setup - check out README)\n",
    "    current_controller = HumanController({b\"w\": 3, b\"d\": 0, b\"s\": 1,b\"a\": 2,}) \n",
    "else:\n",
    "    # Tensorflow business - it is always good to reset a graph before creating a new controller.\n",
    "    tf.ops.reset_default_graph()\n",
    "    session = tf.InteractiveSession()\n",
    "\n",
    "    # This little guy will let us run tensorboard\n",
    "    #      tensorboard --logdir [LOG_DIR]\n",
    "    journalist = tf.train.SummaryWriter(LOG_DIR)\n",
    "\n",
    "    # Brain maps from observation to Q values for different actions.\n",
    "    # Here it is a done using a multi layer perceptron with 2 hidden\n",
    "    # layers\n",
    "    brain = MLP([g.observation_size,], [100, 50, 50, g.num_actions], \n",
    "                [tf.tanh,tf.tanh,tf.tanh, tf.identity])\n",
    "    \n",
    "    # The optimizer to use. Here we use RMSProp as recommended\n",
    "    # by the publication\n",
    "    optimizer = tf.train.RMSPropOptimizer(learning_rate= 0.001, decay=0.9)\n",
    "\n",
    "    # DiscreteDeepQ object\n",
    "    current_controller = DiscreteDeepQ(g.observation_size, g.num_actions, brain, optimizer, session,\n",
    "                                       discount_rate=0.99, exploration_period=5000, max_experience=10000, \n",
    "                                       store_every_nth=2, train_every_nth=2,\n",
    "                                       target_network_update_rate=0.001,\n",
    "                                       summary_writer=journalist)\n",
    "    \n",
    "    session.run(tf.initialize_all_variables())\n",
    "    session.run(current_controller.target_network_update)\n",
    "    # graph was not available when journalist was created  \n",
    "    journalist.add_graph(session.graph_def)"
   ]
  },
  {
   "cell_type": "code",
   "execution_count": 8,
   "metadata": {
    "collapsed": true
   },
   "outputs": [],
   "source": [
    "results = []"
   ]
  },
  {
   "cell_type": "code",
   "execution_count": null,
   "metadata": {
    "collapsed": false
   },
   "outputs": [
    {
     "data": {
      "text/html": [
       "<?xml version=\"1.0\"?>\n",
       "\n",
       "<svg height=\"560\" width=\"520\" >\n",
       "\n",
       "  <defs> \n",
       "    <marker id=\"arrow\" markerWidth=\"10\" markerHeight=\"10\" refx=\"0\" refy=\"3\" orient=\"auto\" markerUnits=\"strokeWidth\" >\n",
       "      <path d=\"M0,0 L0,6 L9,3 z\" fill=\"#000\" />\n",
       "    </marker>\n",
       "  </defs>\n",
       " <g style=\"fill-opacity:1.0; stroke:black;\n",
       "\n",
       "  stroke-width:1;\">\n",
       "\n",
       "  <rect x=\"10\" y=\"10\" height=\"500\"\n",
       "\n",
       "        width=\"500\" style=\"fill:none\" />\n",
       "\n",
       "  <line x1=\"78\" y1=\"134\" x2=\"510\" y2=\"134\"  style=\"fill:none;stroke:black\"/>\n",
       "\n",
       "  <line x1=\"78\" y1=\"134\" x2=\"510\" y2=\"220\"  style=\"fill:none;stroke:black\"/>\n",
       "\n",
       "  <line x1=\"78\" y1=\"134\" x2=\"348\" y2=\"246\"  style=\"fill:none;stroke:blue\"/>\n",
       "\n",
       "  <line x1=\"78\" y1=\"134\" x2=\"510\" y2=\"422\"  style=\"fill:none;stroke:black\"/>\n",
       "\n",
       "  <line x1=\"78\" y1=\"134\" x2=\"453\" y2=\"510\"  style=\"fill:none;stroke:black\"/>\n",
       "\n",
       "  <line x1=\"78\" y1=\"134\" x2=\"329\" y2=\"510\"  style=\"fill:none;stroke:black\"/>\n",
       "\n",
       "  <line x1=\"78\" y1=\"134\" x2=\"233\" y2=\"510\"  style=\"fill:none;stroke:black\"/>\n",
       "\n",
       "  <line x1=\"78\" y1=\"134\" x2=\"152\" y2=\"510\"  style=\"fill:none;stroke:black\"/>\n",
       "\n",
       "  <line x1=\"78\" y1=\"134\" x2=\"78\" y2=\"510\"  style=\"fill:none;stroke:black\"/>\n",
       "\n",
       "  <line x1=\"78\" y1=\"134\" x2=\"10\" y2=\"476\"  style=\"fill:none;stroke:black\"/>\n",
       "\n",
       "  <line x1=\"78\" y1=\"134\" x2=\"10\" y2=\"298\"  style=\"fill:none;stroke:black\"/>\n",
       "\n",
       "  <line x1=\"78\" y1=\"134\" x2=\"10\" y2=\"236\"  style=\"fill:none;stroke:black\"/>\n",
       "\n",
       "  <line x1=\"78\" y1=\"134\" x2=\"10\" y2=\"202\"  style=\"fill:none;stroke:black\"/>\n",
       "\n",
       "  <line x1=\"78\" y1=\"134\" x2=\"10\" y2=\"179\"  style=\"fill:none;stroke:black\"/>\n",
       "\n",
       "  <line x1=\"78\" y1=\"134\" x2=\"10\" y2=\"162\"  style=\"fill:none;stroke:black\"/>\n",
       "\n",
       "  <line x1=\"78\" y1=\"134\" x2=\"10\" y2=\"147\"  style=\"fill:none;stroke:black\"/>\n",
       "\n",
       "  <line x1=\"78\" y1=\"134\" x2=\"10\" y2=\"134\"  style=\"fill:none;stroke:black\"/>\n",
       "\n",
       "  <line x1=\"78\" y1=\"134\" x2=\"10\" y2=\"120\"  style=\"fill:none;stroke:black\"/>\n",
       "\n",
       "  <line x1=\"78\" y1=\"134\" x2=\"10\" y2=\"106\"  style=\"fill:none;stroke:black\"/>\n",
       "\n",
       "  <line x1=\"78\" y1=\"134\" x2=\"10\" y2=\"88\"  style=\"fill:none;stroke:black\"/>\n",
       "\n",
       "  <line x1=\"78\" y1=\"134\" x2=\"10\" y2=\"66\"  style=\"fill:none;stroke:black\"/>\n",
       "\n",
       "  <line x1=\"78\" y1=\"134\" x2=\"10\" y2=\"32\"  style=\"fill:none;stroke:black\"/>\n",
       "\n",
       "  <line x1=\"78\" y1=\"134\" x2=\"26\" y2=\"10\"  style=\"fill:none;stroke:black\"/>\n",
       "\n",
       "  <line x1=\"78\" y1=\"134\" x2=\"53\" y2=\"10\"  style=\"fill:none;stroke:black\"/>\n",
       "\n",
       "  <line x1=\"78\" y1=\"134\" x2=\"78\" y2=\"10\"  style=\"fill:none;stroke:black\"/>\n",
       "\n",
       "  <line x1=\"78\" y1=\"134\" x2=\"102\" y2=\"10\"  style=\"fill:none;stroke:black\"/>\n",
       "\n",
       "  <line x1=\"78\" y1=\"134\" x2=\"129\" y2=\"10\"  style=\"fill:none;stroke:black\"/>\n",
       "\n",
       "  <line x1=\"78\" y1=\"134\" x2=\"161\" y2=\"10\"  style=\"fill:none;stroke:black\"/>\n",
       "\n",
       "  <line x1=\"78\" y1=\"134\" x2=\"202\" y2=\"10\"  style=\"fill:none;stroke:black\"/>\n",
       "\n",
       "  <line x1=\"78\" y1=\"134\" x2=\"263\" y2=\"10\"  style=\"fill:none;stroke:black\"/>\n",
       "\n",
       "  <line x1=\"78\" y1=\"134\" x2=\"377\" y2=\"10\"  style=\"fill:none;stroke:black\"/>\n",
       "\n",
       "  <line x1=\"78\" y1=\"134\" x2=\"510\" y2=\"48\"  style=\"fill:none;stroke:black\"/>\n",
       "\n",
       "  <circle cx=\"78\" cy=\"134\" r=\"22\"\n",
       "\n",
       "          style=\"fill:yellow\" />\n",
       "\n",
       "  <circle cx=\"431\" cy=\"309\" r=\"22\"\n",
       "\n",
       "          style=\"fill:red\" />\n",
       "\n",
       "  <circle cx=\"362\" cy=\"264\" r=\"22\"\n",
       "\n",
       "          style=\"fill:blue\" />\n",
       "\n",
       "  <text x=\"10\" y=\"535\" font-size=\"15\">\n",
       "\n",
       "   fps = 30.1\n",
       "\n",
       "  </text>\n",
       "\n",
       "  <text x=\"10\" y=\"555\" font-size=\"15\">\n",
       "\n",
       "   reward = 0.000\n",
       "\n",
       "  </text>\n",
       "\n",
       " </g>\n",
       "</svg>\n"
      ],
      "text/plain": [
       "<tf_rl.utils.svg.Scene at 0x7f0b61051e80>"
      ]
     },
     "metadata": {},
     "output_type": "display_data"
    }
   ],
   "source": [
    "FPS          = 30\n",
    "ACTION_EVERY = 3\n",
    "SIM_TIME     = 15\n",
    "    \n",
    "fast_mode = False\n",
    "training  = True\n",
    "if fast_mode:\n",
    "    WAIT, VISUALIZE_EVERY = False, 100\n",
    "else:\n",
    "    WAIT, VISUALIZE_EVERY = True, 1\n",
    "\n",
    "    \n",
    "try:\n",
    "    while True:\n",
    "        g = Manipulation(SETTINGS)\n",
    "        simulate(simulation=g,\n",
    "                 controller=current_controller,\n",
    "                 fps=FPS,\n",
    "                 visualize_every=VISUALIZE_EVERY,\n",
    "                 action_every=ACTION_EVERY,\n",
    "                 wait=WAIT,\n",
    "                 training=training,\n",
    "                 max_frames=SIM_TIME * FPS,\n",
    "                 save_path=None)\n",
    "        results.append(1 if g.success() else 0)\n",
    "except KeyboardInterrupt:\n",
    "    print(\"Interrupted\")"
   ]
  },
  {
   "cell_type": "code",
   "execution_count": 12,
   "metadata": {
    "collapsed": false
   },
   "outputs": [
    {
     "name": "stdout",
     "output_type": "stream",
     "text": [
      "[ 0.01481068  0.21675689]\n"
     ]
    },
    {
     "data": {
      "text/plain": [
       "(0.0, 1.0)"
      ]
     },
     "execution_count": 12,
     "metadata": {},
     "output_type": "execute_result"
    },
    {
     "data": {
      "image/png": "[encoded data removed]",
      "text/plain": [
       "<matplotlib.figure.Figure at 0x7f0b323ee240>"
      ]
     },
     "metadata": {},
     "output_type": "display_data"
    }
   ],
   "source": [
    "SMOOTHING=100\n",
    "x = range(SMOOTHING, len(results))\n",
    "y = [sum(results[i-SMOOTHING:i]) / SMOOTHING for i in x]\n",
    "f = plt.figure(figsize=(16,7))\n",
    "plt.plot(x, y)\n",
    "z = np.polyfit(x, y, 1)\n",
    "p = np.poly1d(z)\n",
    "print(p([SMOOTHING, len(results)]))\n",
    "plt.plot(x,p(x),color=\"red\")\n",
    "plt.gca().set_ylim([0.0, 1.0])"
   ]
  },
  {
   "cell_type": "code",
   "execution_count": 217,
   "metadata": {
    "collapsed": false
   },
   "outputs": [
    {
     "data": {
      "text/html": [
       "<?xml version=\"1.0\"?>\n",
       "\n",
       "<svg height=\"540\" width=\"520\" >\n",
       "\n",
       "  <defs> \n",
       "    <marker id=\"arrow\" markerWidth=\"10\" markerHeight=\"10\" refx=\"0\" refy=\"3\" orient=\"auto\" markerUnits=\"strokeWidth\" >\n",
       "      <path d=\"M0,0 L0,6 L9,3 z\" fill=\"#000\" />\n",
       "    </marker>\n",
       "  </defs>\n",
       " <g style=\"fill-opacity:1.0; stroke:black;\n",
       "\n",
       "  stroke-width:1;\">\n",
       "\n",
       "  <rect x=\"10\" y=\"10\" height=\"500\"\n",
       "\n",
       "        width=\"500\" style=\"fill:none\" />\n",
       "\n",
       "  <line x1=\"359\" y1=\"359\" x2=\"510\" y2=\"359\"  style=\"fill:none;stroke:black\"/>\n",
       "\n",
       "  <line x1=\"359\" y1=\"359\" x2=\"510\" y2=\"389\"  style=\"fill:none;stroke:black\"/>\n",
       "\n",
       "  <line x1=\"359\" y1=\"359\" x2=\"510\" y2=\"422\"  style=\"fill:none;stroke:black\"/>\n",
       "\n",
       "  <line x1=\"359\" y1=\"359\" x2=\"510\" y2=\"460\"  style=\"fill:none;stroke:black\"/>\n",
       "\n",
       "  <line x1=\"359\" y1=\"359\" x2=\"510\" y2=\"510\"  style=\"fill:none;stroke:black\"/>\n",
       "\n",
       "  <line x1=\"359\" y1=\"359\" x2=\"460\" y2=\"510\"  style=\"fill:none;stroke:black\"/>\n",
       "\n",
       "  <line x1=\"359\" y1=\"359\" x2=\"422\" y2=\"510\"  style=\"fill:none;stroke:black\"/>\n",
       "\n",
       "  <line x1=\"359\" y1=\"359\" x2=\"389\" y2=\"510\"  style=\"fill:none;stroke:black\"/>\n",
       "\n",
       "  <line x1=\"359\" y1=\"359\" x2=\"359\" y2=\"510\"  style=\"fill:none;stroke:black\"/>\n",
       "\n",
       "  <line x1=\"359\" y1=\"359\" x2=\"330\" y2=\"510\"  style=\"fill:none;stroke:black\"/>\n",
       "\n",
       "  <line x1=\"359\" y1=\"359\" x2=\"327\" y2=\"438\"  style=\"fill:none;stroke:blue\"/>\n",
       "\n",
       "  <line x1=\"359\" y1=\"359\" x2=\"316\" y2=\"425\"  style=\"fill:none;stroke:blue\"/>\n",
       "\n",
       "  <line x1=\"359\" y1=\"359\" x2=\"300\" y2=\"419\"  style=\"fill:none;stroke:blue\"/>\n",
       "\n",
       "  <line x1=\"359\" y1=\"359\" x2=\"135\" y2=\"510\"  style=\"fill:none;stroke:black\"/>\n",
       "\n",
       "  <line x1=\"359\" y1=\"359\" x2=\"10\" y2=\"504\"  style=\"fill:none;stroke:black\"/>\n",
       "\n",
       "  <line x1=\"359\" y1=\"359\" x2=\"10\" y2=\"429\"  style=\"fill:none;stroke:black\"/>\n",
       "\n",
       "  <line x1=\"359\" y1=\"359\" x2=\"10\" y2=\"359\"  style=\"fill:none;stroke:black\"/>\n",
       "\n",
       "  <line x1=\"359\" y1=\"359\" x2=\"10\" y2=\"290\"  style=\"fill:none;stroke:black\"/>\n",
       "\n",
       "  <line x1=\"359\" y1=\"359\" x2=\"10\" y2=\"214\"  style=\"fill:none;stroke:black\"/>\n",
       "\n",
       "  <line x1=\"359\" y1=\"359\" x2=\"10\" y2=\"126\"  style=\"fill:none;stroke:black\"/>\n",
       "\n",
       "  <line x1=\"359\" y1=\"359\" x2=\"10\" y2=\"10\"  style=\"fill:none;stroke:black\"/>\n",
       "\n",
       "  <line x1=\"359\" y1=\"359\" x2=\"126\" y2=\"10\"  style=\"fill:none;stroke:black\"/>\n",
       "\n",
       "  <line x1=\"359\" y1=\"359\" x2=\"214\" y2=\"10\"  style=\"fill:none;stroke:black\"/>\n",
       "\n",
       "  <line x1=\"359\" y1=\"359\" x2=\"290\" y2=\"10\"  style=\"fill:none;stroke:black\"/>\n",
       "\n",
       "  <line x1=\"359\" y1=\"359\" x2=\"359\" y2=\"130\"  style=\"fill:none;stroke:red\"/>\n",
       "\n",
       "  <line x1=\"359\" y1=\"359\" x2=\"429\" y2=\"10\"  style=\"fill:none;stroke:black\"/>\n",
       "\n",
       "  <line x1=\"359\" y1=\"359\" x2=\"504\" y2=\"10\"  style=\"fill:none;stroke:black\"/>\n",
       "\n",
       "  <line x1=\"359\" y1=\"359\" x2=\"510\" y2=\"135\"  style=\"fill:none;stroke:black\"/>\n",
       "\n",
       "  <line x1=\"359\" y1=\"359\" x2=\"510\" y2=\"209\"  style=\"fill:none;stroke:black\"/>\n",
       "\n",
       "  <line x1=\"359\" y1=\"359\" x2=\"510\" y2=\"259\"  style=\"fill:none;stroke:black\"/>\n",
       "\n",
       "  <line x1=\"359\" y1=\"359\" x2=\"510\" y2=\"297\"  style=\"fill:none;stroke:black\"/>\n",
       "\n",
       "  <line x1=\"359\" y1=\"359\" x2=\"510\" y2=\"330\"  style=\"fill:none;stroke:black\"/>\n",
       "\n",
       "  <circle cx=\"359\" cy=\"359\" r=\"30\"\n",
       "\n",
       "          style=\"fill:yellow\" />\n",
       "\n",
       "  <circle cx=\"360\" cy=\"100\" r=\"30\"\n",
       "\n",
       "          style=\"fill:red\" />\n",
       "\n",
       "  <circle cx=\"299\" cy=\"449\" r=\"30\"\n",
       "\n",
       "          style=\"fill:blue\" />\n",
       "\n",
       "  <text x=\"10\" y=\"535\" font-size=\"15\">\n",
       "\n",
       "   reward = 0.000\n",
       "\n",
       "  </text>\n",
       "\n",
       " </g>\n",
       "</svg>\n"
      ],
      "text/plain": [
       "<tf_rl.utils.svg.Scene at 0x7f4008745d68>"
      ]
     },
     "metadata": {},
     "output_type": "display_data"
    },
    {
     "name": "stdout",
     "output_type": "stream",
     "text": [
      "Interrupted\n"
     ]
    }
   ],
   "source": [
    "import time\n",
    "from IPython.display import display, clear_output\n",
    "\n",
    "try:\n",
    "    while True:\n",
    "        g.step(0.03)\n",
    "        time.sleep(0.03)\n",
    "        clear_output(wait=True)\n",
    "        display(g.to_html())\n",
    "except KeyboardInterrupt:\n",
    "    print('Interrupted')"
   ]
  },
  {
   "cell_type": "code",
   "execution_count": 381,
   "metadata": {
    "collapsed": false
   },
   "outputs": [
    {
     "data": {
      "text/plain": [
       "8"
      ]
     },
     "execution_count": 381,
     "metadata": {},
     "output_type": "execute_result"
    }
   ],
   "source": []
  },
  {
   "cell_type": "code",
   "execution_count": 383,
   "metadata": {
    "collapsed": false
   },
   "outputs": [
    {
     "data": {
      "text/plain": [
       "{'edgeitems': 3,\n",
       " 'formatter': None,\n",
       " 'infstr': 'inf',\n",
       " 'linewidth': 75,\n",
       " 'nanstr': 'nan',\n",
       " 'precision': 8,\n",
       " 'suppress': False,\n",
       " 'threshold': 1000}"
      ]
     },
     "execution_count": 383,
     "metadata": {},
     "output_type": "execute_result"
    }
   ],
   "source": [
    "np.get_printoptions()"
   ]
  },
  {
   "cell_type": "code",
   "execution_count": 386,
   "metadata": {
    "collapsed": false
   },
   "outputs": [
    {
     "name": "stdout",
     "output_type": "stream",
     "text": [
      "[[1.00\t 1.00\t 0.23\t 0.00\t 0.00\t -0.02\t 0.03\t]\n",
      " [1.00\t 1.00\t 0.23\t 0.00\t 0.00\t -0.02\t 0.03\t]\n",
      " [1.00\t 1.00\t 0.20\t 0.00\t 0.00\t -0.02\t 0.03\t]\n",
      " [1.00\t 1.00\t 0.14\t 0.00\t 0.00\t -0.02\t 0.03\t]\n",
      " [1.00\t 1.00\t 0.11\t 0.00\t 0.00\t -0.02\t 0.03\t]\n",
      " [1.00\t 1.00\t 0.09\t 0.00\t 0.00\t -0.02\t 0.03\t]\n",
      " [1.00\t 1.00\t 0.08\t 0.00\t 0.00\t -0.02\t 0.03\t]\n",
      " [1.00\t 1.00\t 0.08\t 0.00\t 0.00\t -0.02\t 0.03\t]\n",
      " [1.00\t 1.00\t 0.08\t 0.00\t 0.00\t -0.02\t 0.03\t]\n",
      " [1.00\t 1.00\t 0.08\t 0.00\t 0.00\t -0.02\t 0.03\t]\n",
      " [1.00\t 1.00\t 0.08\t 0.00\t 0.00\t -0.02\t 0.03\t]\n",
      " [1.00\t 1.00\t 0.09\t 0.00\t 0.00\t -0.02\t 0.03\t]\n",
      " [1.00\t 1.00\t 0.11\t 0.00\t 0.00\t -0.02\t 0.03\t]\n",
      " [1.00\t 1.00\t 0.14\t 0.00\t 0.00\t -0.02\t 0.03\t]\n",
      " [1.00\t 1.00\t 0.20\t 0.00\t 0.00\t -0.02\t 0.03\t]\n",
      " [1.00\t 1.00\t 0.39\t 0.00\t 0.00\t -0.02\t 0.03\t]\n",
      " [1.00\t 1.00\t 0.44\t 0.00\t 0.00\t -0.02\t 0.03\t]\n",
      " [1.00\t 1.00\t 0.45\t 0.00\t 0.00\t -0.02\t 0.03\t]\n",
      " [1.00\t 1.00\t 0.48\t 0.00\t 0.00\t -0.02\t 0.03\t]\n",
      " [1.00\t 0.19\t 1.00\t -0.00\t 0.00\t -0.02\t 0.03\t]\n",
      " [1.00\t 1.00\t 0.63\t 0.00\t 0.00\t -0.02\t 0.03\t]\n",
      " [1.00\t 1.00\t 0.71\t 0.00\t 0.00\t -0.02\t 0.03\t]\n",
      " [1.00\t 1.00\t 0.64\t 0.00\t 0.00\t -0.02\t 0.03\t]\n",
      " [1.00\t 1.00\t 0.60\t 0.00\t 0.00\t -0.02\t 0.03\t]\n",
      " [1.00\t 1.00\t 0.59\t 0.00\t 0.00\t -0.02\t 0.03\t]\n",
      " [0.17\t 1.00\t 1.00\t 0.00\t 0.00\t -0.02\t 0.03\t]\n",
      " [0.19\t 1.00\t 1.00\t 0.00\t 0.00\t -0.02\t 0.03\t]\n",
      " [1.00\t 1.00\t 0.40\t 0.00\t 0.00\t -0.02\t 0.03\t]\n",
      " [1.00\t 1.00\t 0.32\t 0.00\t 0.00\t -0.02\t 0.03\t]\n",
      " [1.00\t 1.00\t 0.27\t 0.00\t 0.00\t -0.02\t 0.03\t]\n",
      " [1.00\t 1.00\t 0.24\t 0.00\t 0.00\t -0.02\t 0.03\t]\n",
      " [1.00\t 1.00\t 0.23\t 0.00\t 0.00\t -0.02\t 0.03\t]]\n"
     ]
    },
    {
     "data": {
      "text/html": [
       "<?xml version=\"1.0\"?>\n",
       "\n",
       "<svg height=\"540\" width=\"520\" >\n",
       "\n",
       "  <defs> \n",
       "    <marker id=\"arrow\" markerWidth=\"10\" markerHeight=\"10\" refx=\"0\" refy=\"3\" orient=\"auto\" markerUnits=\"strokeWidth\" >\n",
       "      <path d=\"M0,0 L0,6 L9,3 z\" fill=\"#000\" />\n",
       "    </marker>\n",
       "  </defs>\n",
       " <g style=\"fill-opacity:1.0; stroke:black;\n",
       "\n",
       "  stroke-width:1;\">\n",
       "\n",
       "  <rect x=\"10\" y=\"10\" height=\"500\"\n",
       "\n",
       "        width=\"500\" style=\"fill:none\" />\n",
       "\n",
       "  <line x1=\"341\" y1=\"453\" x2=\"510\" y2=\"453\"  style=\"fill:none;stroke:black\"/>\n",
       "\n",
       "  <line x1=\"341\" y1=\"453\" x2=\"510\" y2=\"487\"  style=\"fill:none;stroke:black\"/>\n",
       "\n",
       "  <line x1=\"341\" y1=\"453\" x2=\"477\" y2=\"510\"  style=\"fill:none;stroke:black\"/>\n",
       "\n",
       "  <line x1=\"341\" y1=\"453\" x2=\"425\" y2=\"510\"  style=\"fill:none;stroke:black\"/>\n",
       "\n",
       "  <line x1=\"341\" y1=\"453\" x2=\"397\" y2=\"510\"  style=\"fill:none;stroke:black\"/>\n",
       "\n",
       "  <line x1=\"341\" y1=\"453\" x2=\"378\" y2=\"510\"  style=\"fill:none;stroke:black\"/>\n",
       "\n",
       "  <line x1=\"341\" y1=\"453\" x2=\"365\" y2=\"510\"  style=\"fill:none;stroke:black\"/>\n",
       "\n",
       "  <line x1=\"341\" y1=\"453\" x2=\"352\" y2=\"510\"  style=\"fill:none;stroke:black\"/>\n",
       "\n",
       "  <line x1=\"341\" y1=\"453\" x2=\"341\" y2=\"510\"  style=\"fill:none;stroke:black\"/>\n",
       "\n",
       "  <line x1=\"341\" y1=\"453\" x2=\"330\" y2=\"510\"  style=\"fill:none;stroke:black\"/>\n",
       "\n",
       "  <line x1=\"341\" y1=\"453\" x2=\"318\" y2=\"510\"  style=\"fill:none;stroke:black\"/>\n",
       "\n",
       "  <line x1=\"341\" y1=\"453\" x2=\"303\" y2=\"510\"  style=\"fill:none;stroke:black\"/>\n",
       "\n",
       "  <line x1=\"341\" y1=\"453\" x2=\"284\" y2=\"510\"  style=\"fill:none;stroke:black\"/>\n",
       "\n",
       "  <line x1=\"341\" y1=\"453\" x2=\"256\" y2=\"510\"  style=\"fill:none;stroke:black\"/>\n",
       "\n",
       "  <line x1=\"341\" y1=\"453\" x2=\"204\" y2=\"510\"  style=\"fill:none;stroke:black\"/>\n",
       "\n",
       "  <line x1=\"341\" y1=\"453\" x2=\"55\" y2=\"510\"  style=\"fill:none;stroke:black\"/>\n",
       "\n",
       "  <line x1=\"341\" y1=\"453\" x2=\"10\" y2=\"453\"  style=\"fill:none;stroke:black\"/>\n",
       "\n",
       "  <line x1=\"341\" y1=\"453\" x2=\"10\" y2=\"387\"  style=\"fill:none;stroke:black\"/>\n",
       "\n",
       "  <line x1=\"341\" y1=\"453\" x2=\"10\" y2=\"315\"  style=\"fill:none;stroke:black\"/>\n",
       "\n",
       "  <line x1=\"341\" y1=\"453\" x2=\"220\" y2=\"372\"  style=\"fill:none;stroke:blue\"/>\n",
       "\n",
       "  <line x1=\"341\" y1=\"453\" x2=\"10\" y2=\"121\"  style=\"fill:none;stroke:black\"/>\n",
       "\n",
       "  <line x1=\"341\" y1=\"453\" x2=\"45\" y2=\"10\"  style=\"fill:none;stroke:black\"/>\n",
       "\n",
       "  <line x1=\"341\" y1=\"453\" x2=\"158\" y2=\"10\"  style=\"fill:none;stroke:black\"/>\n",
       "\n",
       "  <line x1=\"341\" y1=\"453\" x2=\"253\" y2=\"10\"  style=\"fill:none;stroke:black\"/>\n",
       "\n",
       "  <line x1=\"341\" y1=\"453\" x2=\"341\" y2=\"10\"  style=\"fill:none;stroke:black\"/>\n",
       "\n",
       "  <line x1=\"341\" y1=\"453\" x2=\"366\" y2=\"326\"  style=\"fill:none;stroke:red\"/>\n",
       "\n",
       "  <line x1=\"341\" y1=\"453\" x2=\"396\" y2=\"321\"  style=\"fill:none;stroke:red\"/>\n",
       "\n",
       "  <line x1=\"341\" y1=\"453\" x2=\"510\" y2=\"201\"  style=\"fill:none;stroke:black\"/>\n",
       "\n",
       "  <line x1=\"341\" y1=\"453\" x2=\"510\" y2=\"284\"  style=\"fill:none;stroke:black\"/>\n",
       "\n",
       "  <line x1=\"341\" y1=\"453\" x2=\"510\" y2=\"340\"  style=\"fill:none;stroke:black\"/>\n",
       "\n",
       "  <line x1=\"341\" y1=\"453\" x2=\"510\" y2=\"383\"  style=\"fill:none;stroke:black\"/>\n",
       "\n",
       "  <line x1=\"341\" y1=\"453\" x2=\"510\" y2=\"419\"  style=\"fill:none;stroke:black\"/>\n",
       "\n",
       "  <circle cx=\"341\" cy=\"453\" r=\"22\"\n",
       "\n",
       "          style=\"fill:yellow\" />\n",
       "\n",
       "  <circle cx=\"378\" cy=\"307\" r=\"22\"\n",
       "\n",
       "          style=\"fill:red\" />\n",
       "\n",
       "  <circle cx=\"198\" cy=\"368\" r=\"22\"\n",
       "\n",
       "          style=\"fill:blue\" />\n",
       "\n",
       "  <text x=\"10\" y=\"535\" font-size=\"15\">\n",
       "\n",
       "   reward = 0.000\n",
       "\n",
       "  </text>\n",
       "\n",
       " </g>\n",
       "</svg>\n"
      ],
      "text/plain": [
       "<tf_rl.utils.svg.Scene at 0x7f3fb403f0f0>"
      ]
     },
     "execution_count": 386,
     "metadata": {},
     "output_type": "execute_result"
    }
   ],
   "source": [
    "np.set_printoptions(formatter={'float_kind':lambda x: '%.2f\\t' % (x,)})\n",
    "# g.__class__ = HeroSimulation\n",
    "print(g.observe().reshape(SETTINGS[\"num_observation_lines\"], len(SETTINGS[\"observable_objects\"]) + 4))\n",
    "np.set_printoptions(formatter=None)\n",
    "g.to_html()\n"
   ]
  },
  {
   "cell_type": "code",
   "execution_count": 361,
   "metadata": {
    "collapsed": false
   },
   "outputs": [
    {
     "data": {
      "text/plain": [
       "(32, 6)"
      ]
     },
     "execution_count": 361,
     "metadata": {},
     "output_type": "execute_result"
    }
   ],
   "source": [
    "SETTINGS[\"num_observation_lines\"], len(SETTINGS[\"observable_objects\"]) + 4"
   ]
  },
  {
   "cell_type": "code",
   "execution_count": 362,
   "metadata": {
    "collapsed": false
   },
   "outputs": [
    {
     "data": {
      "text/plain": [
       "(16, 6)"
      ]
     },
     "execution_count": 362,
     "metadata": {},
     "output_type": "execute_result"
    }
   ],
   "source": [
    "m.observe().shape"
   ]
  },
  {
   "cell_type": "code",
   "execution_count": null,
   "metadata": {
    "collapsed": true
   },
   "outputs": [],
   "source": []
  }
 ],
 "metadata": {
  "kernelspec": {
   "display_name": "Python 3",
   "language": "python",
   "name": "python3"
  },
  "language_info": {
   "codemirror_mode": {
    "name": "ipython",
    "version": 3
   },
   "file_extension": ".py",
   "mimetype": "text/x-python",
   "name": "python",
   "nbconvert_exporter": "python",
   "pygments_lexer": "ipython3",
   "version": "3.4.1"
  }
 },
 "nbformat": 4,
 "nbformat_minor": 0
}
