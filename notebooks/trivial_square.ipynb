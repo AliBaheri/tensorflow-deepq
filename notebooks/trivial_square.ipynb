{
 "cells": [
  {
   "cell_type": "code",
   "execution_count": 1,
   "metadata": {
    "collapsed": false
   },
   "outputs": [],
   "source": [
    "%load_ext autoreload\n",
    "%autoreload 2\n",
    "%matplotlib inline"
   ]
  },
  {
   "cell_type": "code",
   "execution_count": 2,
   "metadata": {
    "collapsed": true
   },
   "outputs": [],
   "source": [
    "import math\n",
    "import matplotlib.pyplot as plt\n",
    "import os\n",
    "import random\n",
    "import tempfile\n",
    "import tensorflow as tf\n",
    "import time\n",
    "\n",
    "from collections import defaultdict"
   ]
  },
  {
   "cell_type": "code",
   "execution_count": 3,
   "metadata": {
    "collapsed": false
   },
   "outputs": [],
   "source": [
    "from tf_rl.controller import ContinuousDeepQ\n",
    "from tf_rl.models     import MLP\n",
    "from tf_rl.simulation import DoublePendulum\n",
    "from tf_rl            import simulate"
   ]
  },
  {
   "cell_type": "code",
   "execution_count": 4,
   "metadata": {
    "collapsed": false
   },
   "outputs": [],
   "source": [
    "LOG_DIR      = tempfile.mkdtemp()\n",
    "SYMLINK_PATH = os.path.join(\"/\", \"tmp\", \"tf_latest\")\n",
    "if os.path.exists(SYMLINK_PATH):\n",
    "    os.unlink(SYMLINK_PATH)\n",
    "os.symlink(LOG_DIR, SYMLINK_PATH)"
   ]
  },
  {
   "cell_type": "code",
   "execution_count": 5,
   "metadata": {
    "collapsed": true
   },
   "outputs": [],
   "source": [
    "import math\n",
    "import numpy as np\n",
    "import random\n",
    "\n",
    "import tf_rl.utils.svg as svg\n",
    "\n",
    "class TrivialSquare(object):\n",
    "    observation_size = 4\n",
    "    action_size      = 2\n",
    "\n",
    "    def __init__(self, size=(400,300)):\n",
    "\n",
    "        self.position        = np.array([random.random(), random.random()])\n",
    "        self.speed           = np.array([0.0, 0.0])\n",
    "        self.control_input   = np.array([0.0, 0.0])\n",
    "        self.target_position = np.array([0.5, 0.5])\n",
    "\n",
    "        self.size          = np.array(size)\n",
    "        \n",
    "    def observe(self):\n",
    "        \"\"\"Returns an observation.\"\"\"\n",
    "        return np.hstack([self.position, self.speed]) \n",
    "\n",
    "    def perform_action(self, action):\n",
    "        \"\"\"Expects action to be in range [-1, 1]\"\"\"\n",
    "        assert action.shape == (TrivialSquare.action_size,)\n",
    "        self.control_input = action / 5.0\n",
    "\n",
    "    def step(self, dt):\n",
    "        \"\"\"Advance simulation by dt seconds\"\"\"\n",
    "        self.speed += self.control_input * dt\n",
    "        self.position += self.speed * dt\n",
    "        self.position %= np.array([1.0, 1.0])\n",
    "    \n",
    "    def collect_reward(self):\n",
    "        \"\"\"Reward corresponds to how high is the first joint.\"\"\"\n",
    "        return -np.linalg.norm(self.position - self.target_position) + 1\n",
    "\n",
    "    def to_html(self, info=[]):\n",
    "        \"\"\"Visualize\"\"\"\n",
    "        info = info[:]\n",
    "        info.append(\"Reward   = %.1f\" % self.collect_reward()),\n",
    "        info.append(\"Control  = %.1f, %.1f\" % tuple(self.control_input))\n",
    "        info.append(\"Position = %.1f, %.1f\" % tuple(self.position))\n",
    "        info.append(\"Speed    = %.1f, %.1f\" % tuple(self.speed))\n",
    "\n",
    "        scene = svg.Scene((self.size[0] + 20, self.size[1] + 20 +  20 * len(info)))\n",
    "        scene.add(svg.Rectangle((10, 10), self.size))\n",
    "\n",
    "        scene.add(svg.Circle(self.position * self.size + np.array([10,10]), 7,  color='red'))\n",
    "        \n",
    "        scene.add(svg.Circle(self.target_position * self.size + np.array([10,10]), 2,  color='blue'))\n",
    "\n",
    "        offset = self.size[1] + 15\n",
    "        for txt in info:\n",
    "            scene.add(svg.Text((10, offset + 20), txt, 15))\n",
    "            offset += 20\n",
    "        return scene\n"
   ]
  },
  {
   "cell_type": "code",
   "execution_count": 6,
   "metadata": {
    "collapsed": false
   },
   "outputs": [],
   "source": [
    "if False:\n",
    "    class LolController(object):\n",
    "        def __init__(self):\n",
    "            pass\n",
    "\n",
    "        def action(self, o, disable_exploration=False):\n",
    "            return 10.*(-(o[:2] - np.array([0.5, 0.5])) - o[2:])\n",
    "\n",
    "        def store(self, observation, action, reward, newobservation):\n",
    "            pass\n",
    "\n",
    "        def training_step(self):\n",
    "            pass\n",
    "\n",
    "    current_controller = LolController()"
   ]
  },
  {
   "cell_type": "code",
   "execution_count": 7,
   "metadata": {
    "collapsed": false
   },
   "outputs": [],
   "source": [
    "# Tensorflow business - it is always good to reset a graph before creating a new controller.\n",
    "tf.ops.reset_default_graph()\n",
    "if 'session' in globals():\n",
    "    session.close()\n",
    "session = tf.InteractiveSession()\n",
    "\n",
    "# This little guy will let us run tensorboard\n",
    "#      tensorboard --logdir [LOG_DIR]\n",
    "journalist = tf.train.SummaryWriter(LOG_DIR)\n",
    "\n",
    "# Brain maps from observation to Q values for different actions.\n",
    "# Here it is a done using a multi layer perceptron with 2 hidden\n",
    "# layers\n",
    "actor  = MLP([TrivialSquare.observation_size,], [10, 10, TrivialSquare.action_size,], \n",
    "            [tf.nn.tanh, tf.nn.tanh, tf.nn.tanh], scope=\"actor\")\n",
    "critic = MLP([TrivialSquare.observation_size, TrivialSquare.action_size], [10, 10, 1], \n",
    "            [tf.nn.tanh, tf.nn.tanh, tf.identity], scope=\"critic\")\n",
    "\n",
    "# The optimizer to use. Here we use RMSProp as recommended\n",
    "# by the publication\n",
    "optimizer = tf.train.GradientDescentOptimizer(learning_rate=0.0001)\n",
    "\n",
    "# DiscreteDeepQ object\n",
    "current_controller = ContinuousDeepQ(TrivialSquare.observation_size, TrivialSquare.action_size,\n",
    "                                     actor, critic, optimizer, session,\n",
    "                                     discount_rate=0.99, exploration_period=10000, max_experience=10000, \n",
    "                                     store_every_nth=4, train_every_nth=4,\n",
    "                                     minibatch_size=4,\n",
    "                                     exploration_sigma=0.01,\n",
    "                                     summary_writer=journalist)\n",
    "\n",
    "session.run(tf.initialize_all_variables())\n",
    "# graph was not available when journalist was created  \n",
    "journalist.add_graph(session.graph_def)"
   ]
  },
  {
   "cell_type": "code",
   "execution_count": 18,
   "metadata": {
    "collapsed": false
   },
   "outputs": [
    {
     "data": {
      "text/html": [
       "<?xml version=\"1.0\"?>\n",
       "\n",
       "<svg height=\"420\" width=\"420\" >\n",
       "\n",
       " <g style=\"fill-opacity:1.0; stroke:black;\n",
       "\n",
       "  stroke-width:1;\">\n",
       "\n",
       "  <rect x=\"10\" y=\"10\" height=\"300\"\n",
       "\n",
       "        width=\"400\" style=\"fill:none;\" />\n",
       "\n",
       "  <circle cx=\"18\" cy=\"109\" r=\"7\"\n",
       "\n",
       "          style=\"fill:red;\" />\n",
       "\n",
       "  <circle cx=\"210\" cy=\"160\" r=\"2\"\n",
       "\n",
       "          style=\"fill:blue;\" />\n",
       "\n",
       "  <text x=\"10\" y=\"335\" font-size=\"15\">\n",
       "\n",
       "   fps = 30.1\n",
       "\n",
       "  </text>\n",
       "\n",
       "  <text x=\"10\" y=\"355\" font-size=\"15\">\n",
       "\n",
       "   Reward   = 0.5\n",
       "\n",
       "  </text>\n",
       "\n",
       "  <text x=\"10\" y=\"375\" font-size=\"15\">\n",
       "\n",
       "   Control  = 0.0, -0.0\n",
       "\n",
       "  </text>\n",
       "\n",
       "  <text x=\"10\" y=\"395\" font-size=\"15\">\n",
       "\n",
       "   Position = 0.0, 0.3\n",
       "\n",
       "  </text>\n",
       "\n",
       "  <text x=\"10\" y=\"415\" font-size=\"15\">\n",
       "\n",
       "   Speed    = 0.1, -0.2\n",
       "\n",
       "  </text>\n",
       "\n",
       " </g>\n",
       "</svg>\n"
      ],
      "text/plain": [
       "<tf_rl.utils.svg.Scene at 0x7f932c636160>"
      ]
     },
     "metadata": {},
     "output_type": "display_data"
    },
    {
     "name": "stdout",
     "output_type": "stream",
     "text": [
      "Interrupted\n"
     ]
    }
   ],
   "source": [
    "FPS          = 30\n",
    "ACTION_EVERY = 3\n",
    "TOTAL_TIME   = 10\n",
    "\n",
    "fast_mode = False\n",
    "if fast_mode:\n",
    "    WAIT, VISUALIZE_EVERY = False, 20\n",
    "else:\n",
    "    WAIT, VISUALIZE_EVERY = True, 1\n",
    "\n",
    "    \n",
    "try:\n",
    "    while True:\n",
    "        d = TrivialSquare()\n",
    "        simulate(simulation=d,\n",
    "                 controller=current_controller,\n",
    "                 fps=FPS,\n",
    "                 visualize_every=VISUALIZE_EVERY,\n",
    "                 action_every=ACTION_EVERY,\n",
    "                 wait=WAIT,\n",
    "                 disable_training=False,\n",
    "                 max_frames = TOTAL_TIME * FPS,\n",
    "                 save_path=None)\n",
    "except KeyboardInterrupt:\n",
    "    print(\"Interrupted\")"
   ]
  },
  {
   "cell_type": "code",
   "execution_count": 10,
   "metadata": {
    "collapsed": false
   },
   "outputs": [
    {
     "data": {
      "text/plain": [
       "4954"
      ]
     },
     "execution_count": 10,
     "metadata": {},
     "output_type": "execute_result"
    }
   ],
   "source": [
    "len(current_controller.experience)"
   ]
  },
  {
   "cell_type": "code",
   "execution_count": 12,
   "metadata": {
    "collapsed": false
   },
   "outputs": [
    {
     "name": "stdout",
     "output_type": "stream",
     "text": [
      "20000\n",
      "19813\n",
      "4954 19816\n"
     ]
    }
   ],
   "source": [
    "print (current_controller.number_of_times_train_called)\n",
    "print (current_controller.number_of_times_store_called)\n",
    "print (len(current_controller.experience), len(current_controller.experience)*4)"
   ]
  },
  {
   "cell_type": "code",
   "execution_count": 13,
   "metadata": {
    "collapsed": false
   },
   "outputs": [
    {
     "data": {
      "text/plain": [
       "(array([ 0.26427493,  0.21229037, -0.05311281, -0.03680572]),\n",
       " array([ 0.16469789,  1.        ], dtype=float32),\n",
       " 0.62300438256472845,\n",
       " array([ 0.25918325,  0.20994313, -0.04981885, -0.01680571]))"
      ]
     },
     "execution_count": 13,
     "metadata": {},
     "output_type": "execute_result"
    }
   ],
   "source": [
    "current_controller.experience[200]"
   ]
  },
  {
   "cell_type": "code",
   "execution_count": 14,
   "metadata": {
    "collapsed": false
   },
   "outputs": [
    {
     "data": {
      "text/plain": [
       "(array([ 0.2461387 ,  0.20823475, -0.03782319,  0.00319429]),\n",
       " array([ 0.80548316, -0.45019299], dtype=float32),\n",
       " 0.61125986191735926,\n",
       " array([ 0.24343036,  0.20795392, -0.02171352, -0.00580957]))"
      ]
     },
     "execution_count": 14,
     "metadata": {},
     "output_type": "execute_result"
    }
   ],
   "source": [
    "current_controller.experience[201]"
   ]
  },
  {
   "cell_type": "code",
   "execution_count": 15,
   "metadata": {
    "collapsed": false
   },
   "outputs": [
    {
     "name": "stdout",
     "output_type": "stream",
     "text": [
      "[[ 0.53921568  0.51661891  0.48007289  0.43269214  0.3841188 ]\n",
      " [ 0.5522927   0.52409977  0.47806057  0.4217732   0.37035617]\n",
      " [ 0.5583961   0.52501523  0.47352177  0.41531739  0.366523  ]\n",
      " [ 0.5545119   0.51761895  0.4671191   0.41493207  0.37287769]\n",
      " [ 0.54025251  0.50331855  0.46019045  0.41929686  0.38601655]]\n"
     ]
    },
    {
     "name": "stderr",
     "output_type": "stream",
     "text": [
      "/usr/lib64/python3.4/site-packages/matplotlib/collections.py:549: FutureWarning: elementwise comparison failed; returning scalar instead, but in the future will perform elementwise comparison\n",
      "  if self._edgecolors == 'face':\n"
     ]
    },
    {
     "data": {
      "image/png": "[encoded data removed]",
      "text/plain": [
       "<matplotlib.figure.Figure at 0x7f9338800f60>"
      ]
     },
     "metadata": {},
     "output_type": "display_data"
    }
   ],
   "source": [
    "lll = []\n",
    "\n",
    "\n",
    "for i in [-1.0, -0.5, 0.0, 0.5, 1.0]:\n",
    "    for j in [-1.0, -0.5, 0.0, 0.5, 1.0]:\n",
    "        # current_controller.value_given_action\n",
    "\n",
    "        val = session.run(current_controller.value_given_action, {\n",
    "            current_controller.observation: np.array([0.1, 0.1, 0.0, 0.0])[np.newaxis,:],\n",
    "            current_controller.given_action: np.array([i,j],dtype=np.float32)[np.newaxis,:],\n",
    "        })[0][0]\n",
    "        lll.append(val)\n",
    "\n",
    "plt.matshow(np.array(lll).reshape(5,5))\n",
    "plt.colorbar()\n",
    "print (np.array(lll).reshape(5,5))"
   ]
  },
  {
   "cell_type": "code",
   "execution_count": 19,
   "metadata": {
    "collapsed": false
   },
   "outputs": [
    {
     "name": "stdout",
     "output_type": "stream",
     "text": [
      "[[ 0.57721132  0.5585466   0.52330875  0.47421321  0.42250609]\n",
      " [ 0.58928752  0.56300914  0.51720256  0.45920101  0.4052217 ]\n",
      " [ 0.596264    0.5628764   0.51050007  0.4503732   0.39881855]\n",
      " [ 0.59467316  0.55695963  0.50503564  0.45043135  0.40465066]\n",
      " [ 0.58331198  0.54588777  0.50135493  0.45751858  0.41951022]]\n",
      "ACTOR [ 0.00954861 -0.12365671]\n"
     ]
    },
    {
     "data": {
      "image/png": "[encoded data removed]",
      "text/plain": [
       "<matplotlib.figure.Figure at 0x7f932c580208>"
      ]
     },
     "metadata": {},
     "output_type": "display_data"
    }
   ],
   "source": [
    "lll = []\n",
    "OBSERVATION = [0.5, 0.25, 0.0, 0.0]\n",
    "\n",
    "for i in [-1.0, -0.5, 0.0, 0.5, 1.0]:\n",
    "    for j in [-1.0, -0.5, 0.0, 0.5, 1.0]:\n",
    "        # current_controller.value_given_action\n",
    "\n",
    "        val = session.run(current_controller.value_given_action, {\n",
    "            current_controller.observation: np.array(OBSERVATION)[np.newaxis,:],\n",
    "            current_controller.given_action: np.array([i,j],dtype=np.float32)[np.newaxis,:],\n",
    "        })[0][0]\n",
    "        lll.append(val)\n",
    "\n",
    "plt.matshow(np.array(lll).reshape(5,5))\n",
    "plt.colorbar()\n",
    "print (np.array(lll).reshape(5,5))\n",
    "\n",
    "print (\"ACTOR\", current_controller.action(np.array(OBSERVATION)))"
   ]
  },
  {
   "cell_type": "code",
   "execution_count": 79,
   "metadata": {
    "collapsed": false
   },
   "outputs": [
    {
     "data": {
      "text/plain": [
       "6949"
      ]
     },
     "execution_count": 79,
     "metadata": {},
     "output_type": "execute_result"
    }
   ],
   "source": [
    "current_controller.iteration"
   ]
  },
  {
   "cell_type": "code",
   "execution_count": 31,
   "metadata": {
    "collapsed": false
   },
   "outputs": [
    {
     "data": {
      "text/plain": [
       "<matplotlib.colorbar.Colorbar instance at 0x7fca2fbbf320>"
      ]
     },
     "execution_count": 31,
     "metadata": {},
     "output_type": "execute_result"
    },
    {
     "data": {
      "image/png": "[encoded data removed]",
      "text/plain": [
       "<matplotlib.figure.Figure at 0x7fc9d9339090>"
      ]
     },
     "metadata": {},
     "output_type": "display_data"
    }
   ],
   "source": [
    "plt.matshow(current_controller.target_critic.input_layer.Ws[0].eval())\n",
    "plt.colorbar()"
   ]
  },
  {
   "cell_type": "code",
   "execution_count": 32,
   "metadata": {
    "collapsed": false
   },
   "outputs": [
    {
     "data": {
      "text/plain": [
       "<matplotlib.colorbar.Colorbar instance at 0x7fc9d875dcf8>"
      ]
     },
     "execution_count": 32,
     "metadata": {},
     "output_type": "execute_result"
    },
    {
     "data": {
      "image/png": "[encoded data removed]",
      "text/plain": [
       "<matplotlib.figure.Figure at 0x7fc9d94437d0>"
      ]
     },
     "metadata": {},
     "output_type": "display_data"
    }
   ],
   "source": [
    "plt.matshow(current_controller.critic.input_layer.Ws[0].eval())\n",
    "plt.colorbar()"
   ]
  },
  {
   "cell_type": "code",
   "execution_count": 113,
   "metadata": {
    "collapsed": false
   },
   "outputs": [
    {
     "name": "stdout",
     "output_type": "stream",
     "text": [
      "[ 0.69358957 -0.48377243]\n"
     ]
    },
    {
     "data": {
      "text/plain": [
       "<matplotlib.colorbar.Colorbar instance at 0x7fd4e4602200>"
      ]
     },
     "execution_count": 113,
     "metadata": {},
     "output_type": "execute_result"
    },
    {
     "data": {
      "image/png": "[encoded data removed]",
      "text/plain": [
       "<matplotlib.figure.Figure at 0x7fd4cb43c350>"
      ]
     },
     "metadata": {},
     "output_type": "display_data"
    }
   ],
   "source": [
    "plt.matshow(current_controller.actor.input_layer.Ws[0].eval())\n",
    "print current_controller.actor.input_layer.b.eval()\n",
    "plt.colorbar()"
   ]
  },
  {
   "cell_type": "code",
   "execution_count": 115,
   "metadata": {
    "collapsed": false
   },
   "outputs": [
    {
     "name": "stdout",
     "output_type": "stream",
     "text": [
      "[ 0.69499189]\n"
     ]
    },
    {
     "data": {
      "text/plain": [
       "<matplotlib.colorbar.Colorbar instance at 0x7fd4e444c878>"
      ]
     },
     "execution_count": 115,
     "metadata": {},
     "output_type": "execute_result"
    },
    {
     "data": {
      "image/png": "[encoded data removed]",
      "text/plain": [
       "<matplotlib.figure.Figure at 0x7fd4e4533c10>"
      ]
     },
     "metadata": {},
     "output_type": "display_data"
    },
    {
     "data": {
      "image/png": "[encoded data removed]",
      "text/plain": [
       "<matplotlib.figure.Figure at 0x7fd4cb2ac9d0>"
      ]
     },
     "metadata": {},
     "output_type": "display_data"
    }
   ],
   "source": [
    "plt.matshow(current_controller.critic.input_layer.Ws[0].eval())\n",
    "plt.matshow(current_controller.critic.input_layer.Ws[1].eval())\n",
    "print current_controller.critic.input_layer.b.eval()\n",
    "plt.colorbar()"
   ]
  },
  {
   "cell_type": "code",
   "execution_count": 82,
   "metadata": {
    "collapsed": true
   },
   "outputs": [],
   "source": [
    "d = TrivialSquare()"
   ]
  },
  {
   "cell_type": "code",
   "execution_count": 98,
   "metadata": {
    "collapsed": false
   },
   "outputs": [
    {
     "name": "stdout",
     "output_type": "stream",
     "text": [
      "[ 0.86341846 -0.80400145]\n"
     ]
    }
   ],
   "source": [
    "a = current_controller.action(d.observe())\n",
    "print a\n",
    "d.perform_action(a)\n",
    "d.step(0.2)"
   ]
  },
  {
   "cell_type": "code",
   "execution_count": 100,
   "metadata": {
    "collapsed": false
   },
   "outputs": [
    {
     "name": "stdout",
     "output_type": "stream",
     "text": [
      "[ 0.60888577  0.32389614  0.01720665 -0.01602636]\n"
     ]
    },
    {
     "data": {
      "text/html": [
       "<?xml version=\"1.0\"?>\n",
       "\n",
       "<svg height=\"340\" width=\"420\" >\n",
       "\n",
       " <g style=\"fill-opacity:1.0; stroke:black;\n",
       "\n",
       "  stroke-width:1;\">\n",
       "\n",
       "  <rect x=\"10\" y=\"10\" height=\"300\"\n",
       "\n",
       "        width=\"400\" style=\"fill:none;\" />\n",
       "\n",
       "  <circle cx=\"253\" cy=\"107\" r=\"7\"\n",
       "\n",
       "          style=\"fill:red;\" />\n",
       "\n",
       "  <circle cx=\"210\" cy=\"160\" r=\"2\"\n",
       "\n",
       "          style=\"fill:blue;\" />\n",
       "\n",
       "  <text x=\"10\" y=\"335\" font-size=\"15\">\n",
       "\n",
       "   Reward = 0.8\n",
       "\n",
       "  </text>\n",
       "\n",
       " </g>\n",
       "</svg>\n"
      ],
      "text/plain": [
       "<tf_rl.utils.svg.Scene instance at 0x7fd4e443e830>"
      ]
     },
     "execution_count": 100,
     "metadata": {},
     "output_type": "execute_result"
    }
   ],
   "source": [
    "print d.observe()\n",
    "d.to_html()"
   ]
  },
  {
   "cell_type": "code",
   "execution_count": null,
   "metadata": {
    "collapsed": true
   },
   "outputs": [],
   "source": []
  }
 ],
 "metadata": {
  "kernelspec": {
   "display_name": "Python 3",
   "language": "python",
   "name": "python3"
  },
  "language_info": {
   "codemirror_mode": {
    "name": "ipython",
    "version": 3
   },
   "file_extension": ".py",
   "mimetype": "text/x-python",
   "name": "python",
   "nbconvert_exporter": "python",
   "pygments_lexer": "ipython3",
   "version": "3.4.1"
  }
 },
 "nbformat": 4,
 "nbformat_minor": 0
}
