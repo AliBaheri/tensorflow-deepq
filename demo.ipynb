{
 "cells": [
  {
   "cell_type": "code",
   "execution_count": 369,
   "metadata": {
    "collapsed": false
   },
   "outputs": [
    {
     "name": "stdout",
     "output_type": "stream",
     "text": [
      "The autoreload extension is already loaded. To reload it, use:\n",
      "  %reload_ext autoreload\n"
     ]
    }
   ],
   "source": [
    "%load_ext autoreload\n",
    "%autoreload 2\n",
    "%matplotlib inline"
   ]
  },
  {
   "cell_type": "code",
   "execution_count": 444,
   "metadata": {
    "collapsed": true
   },
   "outputs": [],
   "source": [
    "import dali.core as D\n",
    "import matplotlib.pyplot as plt\n",
    "import numpy as np\n",
    "import random\n",
    "import time\n",
    "\n",
    "from dali.models import MLP\n",
    "from IPython.display import clear_output, display, HTML\n",
    "\n",
    "import svg"
   ]
  },
  {
   "cell_type": "code",
   "execution_count": 522,
   "metadata": {
    "collapsed": false
   },
   "outputs": [],
   "source": [
    "class DeepQ(object):\n",
    "    def __init__(self, observation_to_actions,\n",
    "                       observation_size,\n",
    "                       num_actions,\n",
    "                       random_action_probability=0.05,\n",
    "                       exploration_period=1000,\n",
    "                       minibatch_size=30,\n",
    "                       discount_rate=0.95):\n",
    "        # memorize arguments\n",
    "        self.observation_to_actions    = observation_to_actions\n",
    "        self.observation_size          = observation_size\n",
    "        self.num_actions               = num_actions\n",
    "        self.random_action_probability = random_action_probability\n",
    "        self.exploration_period        = exploration_period\n",
    "        self.minibatch_size            = minibatch_size\n",
    "        self.discount_rate             = discount_rate\n",
    "        \n",
    "        # deepq state\n",
    "        self.actions_executed_so_far = 0\n",
    "        self.experience = []\n",
    "        \n",
    "    def linear_annealing(self, n, total, p_initial, p_final):\n",
    "        if n >= total:\n",
    "            return p_final\n",
    "        else:\n",
    "            return p_initial - (n * (p_initial - p_final)) / (total)\n",
    "\n",
    "    def activate(self, observation):\n",
    "        action_scores = self.observation_to_actions.activate(observation)\n",
    "        assert action_scores.shape[1] == self.num_actions, \\\n",
    "                \"number of columns in the output of `observation_to_actions` must be equal to number of actions.\"\n",
    "        assert action_scores.shape[0] == observation.shape[0], \\\n",
    "                \"number of output rows of `observation_to_actions` must be equal to number of input rows\"\n",
    "        return action_scores\n",
    "    \n",
    "    def action(self, observation):\n",
    "        self.actions_executed_so_far += 1\n",
    "        exploration_p = self.linear_annealing(self.actions_executed_so_far,\n",
    "                                              self.exploration_period,\n",
    "                                              1.0,\n",
    "                                              self.random_action_probability)\n",
    "                                                 \n",
    "        if random.random() < exploration_p:\n",
    "            return [random.randint(0, self.num_actions - 1) for i in range(observation.shape[0],)]\n",
    "        else:\n",
    "            with D.NoBackprop():\n",
    "                action_scores = self.activate(observation)\n",
    "                print(action_scores.w)\n",
    "                return D.MatOps.argmax(action_scores, axis=1)\n",
    "        \n",
    "    def store(self, state, action, reward, newstate):\n",
    "        \"\"\"Store experience. \n",
    "        \n",
    "        If newstate is None, the state/action pair is assumed to be terminal.\"\"\"\n",
    "        self.experience.append((state, action, reward, newstate))\n",
    "    \n",
    "    def training_step(self):\n",
    "        if len(self.experience) <  self.minibatch_size:\n",
    "            return\n",
    "        \n",
    "        samples   = random.sample(self.experience, self.minibatch_size)\n",
    "        states    = np.empty(len(samples), self.observation_size)\n",
    "        newstates = np.empty(len(samples), self.observation_size)\n",
    "        for state, action, reward, new_state "
   ]
  },
  {
   "cell_type": "code",
   "execution_count": 523,
   "metadata": {
    "collapsed": false
   },
   "outputs": [
    {
     "data": {
      "text/plain": [
       "[2, 6, 8, 7, 5]"
      ]
     },
     "execution_count": 523,
     "metadata": {},
     "output_type": "execute_result"
    }
   ],
   "source": [
    "random.sample([1,2,3,4,5,6,7,8], 5)"
   ]
  },
  {
   "cell_type": "code",
   "execution_count": 552,
   "metadata": {
    "collapsed": false
   },
   "outputs": [],
   "source": [
    "brain = MLP([3,], [3,3,5], [D.MatOps.tanh, D.MatOps.tanh, lambda x: x])\n",
    "controller = DeepQ(brain, 5)\n",
    "observation = D.Mat(np.arange(12).reshape(4,3), constant=True)"
   ]
  },
  {
   "cell_type": "code",
   "execution_count": 553,
   "metadata": {
    "collapsed": false
   },
   "outputs": [
    {
     "data": {
      "text/plain": [
       "[4, 1, 4, 0]"
      ]
     },
     "execution_count": 553,
     "metadata": {},
     "output_type": "execute_result"
    }
   ],
   "source": [
    "controller.action(observation)"
   ]
  },
  {
   "cell_type": "code",
   "execution_count": 237,
   "metadata": {
    "collapsed": true
   },
   "outputs": [],
   "source": [
    "# geometry\n",
    "def point_distance(x, y):\n",
    "    return np.linalg.norm(x-y)\n",
    "\n",
    "def point_projected_on_line(line_s, line_e, point):\n",
    "    line_along = line_e - line_s\n",
    "    \n",
    "    transformed_point = point - line_s\n",
    "    \n",
    "    point_dot_line  = np.dot(transformed_point, line_along)\n",
    "    line_along_norm = np.dot(line_along, line_along)\n",
    "    \n",
    "    transformed_projection = (point_dot_line / line_along_norm) * line_along\n",
    "    \n",
    "    return transformed_projection + line_s\n",
    "\n",
    "def point_segment_distance(segment_s, segment_e, point):\n",
    "    projected = point_projected_on_line(segment_s, segment_e, point)\n",
    "    if np.isclose(point_distance(segment_s, projected) + point_distance(projected, segment_e),\n",
    "                  point_distance(segment_s, segment_e)):\n",
    "        # projected on segment\n",
    "        return point_distance(point, projected)\n",
    "    else:\n",
    "        return min(point_distance(point, segment_s), point_distance(point, segment_e))"
   ]
  },
  {
   "cell_type": "code",
   "execution_count": 411,
   "metadata": {
    "collapsed": false
   },
   "outputs": [],
   "source": [
    "\n",
    "\n",
    "\n",
    "SETTINGS = {\n",
    "    'colors': {\n",
    "        'hero': 'yellow',\n",
    "        'friend': 'green',\n",
    "        'enemy':  'red',\n",
    "    },\n",
    "    'object_reward': {\n",
    "        'friend': 5,\n",
    "        'enemy': -6,\n",
    "    },\n",
    "    'observation_repr_size': 2,\n",
    "    'observation_repr': {\n",
    "        'friend':  np.array([1,0]),\n",
    "        'enemy':   np.array([0,1]),\n",
    "        'nothing': np.array([0,0]),\n",
    "    },\n",
    "    'world_size': (600,400),\n",
    "    'resolution': 0.001,\n",
    "    'fps': 60, \n",
    "    'hero_initial_position': [570, 200],\n",
    "    'hero_initial_speed':    [100, 100],\n",
    "    \"object_radius\": 10,\n",
    "    \"num_objects\": {\n",
    "        \"friend\" : 10,\n",
    "        \"enemy\" : 10,\n",
    "    },\n",
    "    \"num_observation_lines\" : 16,\n",
    "    \"observation_line_length\": 70,\n",
    "    \"tolerable_distance_to_wall\": 50,\n",
    "    \"wall_distance_penalty\":  -0.1,\n",
    "}\n",
    "\n",
    "\n",
    "\n",
    "class GameObject(object):\n",
    "    def __init__(self, position, speed, obj_type, settings):\n",
    "        self.settings = settings\n",
    "        self.radius = self.settings[\"object_radius\"]\n",
    "        \n",
    "        self.obj_type = obj_type\n",
    "        self.position = np.array(position, dtype=float)\n",
    "        self.speed = np.array(speed, dtype=float)\n",
    "        \n",
    "    def wall_collisions(self):\n",
    "        world_size = self.settings[\"world_size\"]\n",
    "        for dim in range(2):\n",
    "            if self.position[dim] - self.radius       <= 0               and self.speed[dim] < 0:\n",
    "                self.speed[dim] = - self.speed[dim]\n",
    "            elif self.position[dim] + self.radius + 1 >= world_size[dim] and self.speed[dim] > 0:\n",
    "                self.speed[dim] = - self.speed[dim]\n",
    "        \n",
    "    def move(self, dt):\n",
    "        self.position += dt * self.speed\n",
    "        \n",
    "    def step(self, dt):\n",
    "        self.wall_collisions()\n",
    "        self.move(dt)\n",
    "        \n",
    "    def draw(self):\n",
    "        color = self.settings[\"colors\"][self.obj_type]\n",
    "        return svg.Circle(self.position.astype(int) + 10, self.radius, color=color)\n",
    "\n",
    "class KarpathyGame(object):\n",
    "    def __init__(self, settings):\n",
    "        self.settings = settings\n",
    "        self.size = np.array(self.settings[\"world_size\"])\n",
    "        self.resoution = self.settings[\"resolution\"]\n",
    "        \n",
    "        self.hero = GameObject(self.settings[\"hero_initial_position\"].copy(),\n",
    "                               self.settings[\"hero_initial_speed\"].copy(),\n",
    "                               \"hero\",\n",
    "                               self.settings)\n",
    "        \n",
    "        self.objects = []\n",
    "        for obj_type, number in settings[\"num_objects\"].items():\n",
    "            for _ in range(number):\n",
    "                self.spawn_object(obj_type)\n",
    "        \n",
    "        self.observation_lines = self.generate_observation_lines()\n",
    "        \n",
    "        self.object_reward = 0\n",
    "        self.collected_rewards = []\n",
    "        \n",
    "    def spawn_object(self, obj_type):\n",
    "        radius = self.settings[\"object_radius\"]\n",
    "        position = np.random.uniform([radius, radius], self.size - radius).astype(float)\n",
    "        speed    = np.random.uniform([-100,-100], [100,100]).astype(float)\n",
    "        self.objects.append(GameObject(position, speed, obj_type, self.settings))     \n",
    "                \n",
    "    def step(self, dt):\n",
    "        for obj in self.objects + [self.hero] :\n",
    "            obj.step(dt)\n",
    "        self.resolve_collisions()\n",
    "\n",
    "    def resolve_collisions(self):\n",
    "        to_remove = []\n",
    "        for obj in self.objects:\n",
    "            if np.linalg.norm(obj.position - self.hero.position) < 2 * self.settings[\"object_radius\"]:\n",
    "                to_remove.append(obj)\n",
    "        for obj in to_remove:\n",
    "            self.objects.remove(obj)\n",
    "            self.object_reward += self.settings[\"object_reward\"][obj.obj_type]\n",
    "            self.spawn_object(obj.obj_type)\n",
    "        \n",
    "    def observe(self):\n",
    "        observable_distance = self.settings[\"object_radius\"] + self.settings[\"observation_line_length\"]\n",
    "        relevant_objects = [obj for obj in self.objects \n",
    "                            if point_distance(obj.position, self.hero.position) < observable_distance]\n",
    "        # objects sorted from closest to furthest\n",
    "        relevant_objects.sort(key=lambda x: point_distance(x.position, self.hero.position))\n",
    "        observ_atom_sz = self.settings[\"observation_repr_size\"]\n",
    "        observation = np.zeros((observ_atom_sz * len(self.observation_lines),))\n",
    "        for i, (line_start, line_end) in enumerate(self.observation_lines):\n",
    "            line_start = line_start + self.hero.position\n",
    "            line_end   = line_end   + self.hero.position\n",
    "            observed_repr = self.settings[\"observation_repr\"][\"nothing\"]\n",
    "            for obj in relevant_objects:\n",
    "                if point_segment_distance(line_start, line_end, obj.position) < SETTINGS[\"object_radius\"]:\n",
    "                    observed_repr = self.settings[\"observation_repr\"][obj.obj_type]\n",
    "                    break\n",
    "            observation[i*observ_atom_sz:(i+1)*observ_atom_sz] = observed_repr\n",
    "        return observation\n",
    "    \n",
    "    def distance_to_walls(self):\n",
    "        tl = np.min(self.hero.position - self.settings[\"object_radius\"])\n",
    "        br = np.min(self.size - self.hero.position - self.settings[\"object_radius\"])\n",
    "        return np.min([tl,br])\n",
    "        \n",
    "    def collect_reward(self):\n",
    "        wall_reward =  self.settings[\"wall_distance_penalty\"] * \\\n",
    "                       np.exp(-self.distance_to_walls() / self.settings[\"tolerable_distance_to_wall\"])\n",
    "        total_reward = wall_reward + self.object_reward\n",
    "        self.object_reward = 0\n",
    "        self.collected_rewards.append(total_reward)\n",
    "        return total_reward\n",
    "        \n",
    "    def plot_reward(self, smoothing = 30):\n",
    "        plottable = self.collected_rewards[:]\n",
    "        while len(plottable) > 1000:\n",
    "            for i in range(0, len(plottable) - 1, 2):\n",
    "                plottable[i//2] = plottable[i] + plottable[i+1]\n",
    "            plottable = plottable[:(len(plottable) // 2)]\n",
    "        x = []\n",
    "        for  i in range(smoothing, len(plottable)):\n",
    "            chunk = plottable[i-smoothing:i]\n",
    "            x.append(sum(chunk) / len(chunk))\n",
    "        plt.plot(list(range(len(x))), x)\n",
    "        \n",
    "    def generate_observation_lines(self):\n",
    "        result = []\n",
    "        start = np.array([self.settings[\"object_radius\"]* 1.1, self.settings[\"object_radius\"]* 1.1])\n",
    "        end   = np.array([self.settings[\"object_radius\"] + self.settings[\"observation_line_length\"],\n",
    "                          self.settings[\"object_radius\"] + self.settings[\"observation_line_length\"]])\n",
    "        for angle in np.linspace(0, 2*np.pi, self.settings[\"num_observation_lines\"], endpoint=False):\n",
    "            rotation = np.array([np.cos(angle), np.sin(angle)])\n",
    "            result.append((start * rotation, end * rotation))\n",
    "        return result\n",
    "        \n",
    "    def _repr_html_(self):\n",
    "        return self.to_html()\n",
    "    \n",
    "    def to_html(self, stats):\n",
    "        scene = svg.Scene((self.size[0] + 20, self.size[1] + 20 + 20 * len(stats)))\n",
    "        scene.add(svg.Rectangle((10, 10), self.size))\n",
    "        for obj in self.objects + [self.hero] :\n",
    "            scene.add(obj.draw())\n",
    "            \n",
    "        for line_start, line_end in self.observation_lines:\n",
    "            scene.add(svg.Line(line_start + self.hero.position + 10, line_end + self.hero.position + 10))\n",
    "        \n",
    "        offset = self.size[1] + 15\n",
    "        for txt in stats:              \n",
    "            scene.add(svg.Text((10, offset + 20), txt, 15))\n",
    "            offset += 20\n",
    "                          \n",
    "        return scene\n",
    "        "
   ]
  },
  {
   "cell_type": "code",
   "execution_count": 416,
   "metadata": {
    "collapsed": false
   },
   "outputs": [
    {
     "data": {
      "image/png": "[encoded data removed]",
      "text/plain": [
       "<matplotlib.figure.Figure at 0x7fbd50b37a90>"
      ]
     },
     "metadata": {},
     "output_type": "display_data"
    }
   ],
   "source": [
    "g.__class__ = KarpathyGame\n",
    "g.plot_reward()"
   ]
  },
  {
   "cell_type": "code",
   "execution_count": 554,
   "metadata": {
    "collapsed": false
   },
   "outputs": [
    {
     "data": {
      "text/html": [
       "<?xml version=\"1.0\"?>\n",
       "\n",
       "<svg height=\"480\" width=\"620\" >\n",
       "\n",
       " <g style=\"fill-opacity:1.0; stroke:black;\n",
       "\n",
       "  stroke-width:1;\">\n",
       "\n",
       "  <rect x=\"10\" y=\"10\" height=\"400\"\n",
       "\n",
       "        width=\"600\" style=fill:none; />\n",
       "\n",
       "  <circle cx=\"560\" cy=\"352\" r=\"10\"\n",
       "\n",
       "          style=fill:green; />\n",
       "\n",
       "  <circle cx=\"480\" cy=\"49\" r=\"10\"\n",
       "\n",
       "          style=fill:green; />\n",
       "\n",
       "  <circle cx=\"288\" cy=\"318\" r=\"10\"\n",
       "\n",
       "          style=fill:green; />\n",
       "\n",
       "  <circle cx=\"223\" cy=\"342\" r=\"10\"\n",
       "\n",
       "          style=fill:green; />\n",
       "\n",
       "  <circle cx=\"261\" cy=\"242\" r=\"10\"\n",
       "\n",
       "          style=fill:red; />\n",
       "\n",
       "  <circle cx=\"531\" cy=\"388\" r=\"10\"\n",
       "\n",
       "          style=fill:red; />\n",
       "\n",
       "  <circle cx=\"546\" cy=\"90\" r=\"10\"\n",
       "\n",
       "          style=fill:red; />\n",
       "\n",
       "  <circle cx=\"130\" cy=\"69\" r=\"10\"\n",
       "\n",
       "          style=fill:red; />\n",
       "\n",
       "  <circle cx=\"461\" cy=\"332\" r=\"10\"\n",
       "\n",
       "          style=fill:red; />\n",
       "\n",
       "  <circle cx=\"245\" cy=\"170\" r=\"10\"\n",
       "\n",
       "          style=fill:red; />\n",
       "\n",
       "  <circle cx=\"300\" cy=\"187\" r=\"10\"\n",
       "\n",
       "          style=fill:red; />\n",
       "\n",
       "  <circle cx=\"355\" cy=\"169\" r=\"10\"\n",
       "\n",
       "          style=fill:green; />\n",
       "\n",
       "  <circle cx=\"555\" cy=\"142\" r=\"10\"\n",
       "\n",
       "          style=fill:green; />\n",
       "\n",
       "  <circle cx=\"422\" cy=\"365\" r=\"10\"\n",
       "\n",
       "          style=fill:green; />\n",
       "\n",
       "  <circle cx=\"470\" cy=\"254\" r=\"10\"\n",
       "\n",
       "          style=fill:green; />\n",
       "\n",
       "  <circle cx=\"287\" cy=\"140\" r=\"10\"\n",
       "\n",
       "          style=fill:red; />\n",
       "\n",
       "  <circle cx=\"95\" cy=\"44\" r=\"10\"\n",
       "\n",
       "          style=fill:green; />\n",
       "\n",
       "  <circle cx=\"546\" cy=\"58\" r=\"10\"\n",
       "\n",
       "          style=fill:red; />\n",
       "\n",
       "  <circle cx=\"232\" cy=\"194\" r=\"10\"\n",
       "\n",
       "          style=fill:green; />\n",
       "\n",
       "  <circle cx=\"26\" cy=\"161\" r=\"10\"\n",
       "\n",
       "          style=fill:red; />\n",
       "\n",
       "  <circle cx=\"571\" cy=\"297\" r=\"10\"\n",
       "\n",
       "          style=fill:yellow; />\n",
       "\n",
       "  <line x1=\"582\" y1=\"297\" x2=\"651\" y2=\"297\" />\n",
       "\n",
       "  <line x1=\"581\" y1=\"302\" x2=\"645\" y2=\"328\" />\n",
       "\n",
       "  <line x1=\"579\" y1=\"305\" x2=\"628\" y2=\"354\" />\n",
       "\n",
       "  <line x1=\"575\" y1=\"307\" x2=\"602\" y2=\"371\" />\n",
       "\n",
       "  <line x1=\"571\" y1=\"308\" x2=\"571\" y2=\"377\" />\n",
       "\n",
       "  <line x1=\"567\" y1=\"307\" x2=\"540\" y2=\"371\" />\n",
       "\n",
       "  <line x1=\"563\" y1=\"305\" x2=\"515\" y2=\"354\" />\n",
       "\n",
       "  <line x1=\"561\" y1=\"302\" x2=\"497\" y2=\"328\" />\n",
       "\n",
       "  <line x1=\"560\" y1=\"297\" x2=\"491\" y2=\"297\" />\n",
       "\n",
       "  <line x1=\"561\" y1=\"293\" x2=\"497\" y2=\"267\" />\n",
       "\n",
       "  <line x1=\"563\" y1=\"290\" x2=\"515\" y2=\"241\" />\n",
       "\n",
       "  <line x1=\"567\" y1=\"287\" x2=\"540\" y2=\"223\" />\n",
       "\n",
       "  <line x1=\"571\" y1=\"286\" x2=\"571\" y2=\"217\" />\n",
       "\n",
       "  <line x1=\"575\" y1=\"287\" x2=\"602\" y2=\"223\" />\n",
       "\n",
       "  <line x1=\"579\" y1=\"290\" x2=\"628\" y2=\"241\" />\n",
       "\n",
       "  <line x1=\"581\" y1=\"293\" x2=\"645\" y2=\"267\" />\n",
       "\n",
       "  <text x=\"10\" y=\"435\" font-size=\"15\">\n",
       "\n",
       "   FPS    = 60.0\n",
       "\n",
       "  </text>\n",
       "\n",
       "  <text x=\"10\" y=\"455\" font-size=\"15\">\n",
       "\n",
       "   reward = -0.057\n",
       "\n",
       "  </text>\n",
       "\n",
       "  <text x=\"10\" y=\"475\" font-size=\"15\">\n",
       "\n",
       "   DTW    = 28.4\n",
       "\n",
       "  </text>\n",
       "\n",
       " </g>\n",
       "</svg>\n"
      ],
      "text/plain": [
       "<svg.Scene at 0x7fbd50977e80>"
      ]
     },
     "metadata": {},
     "output_type": "display_data"
    },
    {
     "ename": "KeyboardInterrupt",
     "evalue": "",
     "output_type": "error",
     "traceback": [
      "\u001b[1;31m---------------------------------------------------------------------------\u001b[0m",
      "\u001b[1;31mKeyboardInterrupt\u001b[0m                         Traceback (most recent call last)",
      "\u001b[1;32m<ipython-input-554-541023dc341f>\u001b[0m in \u001b[0;36m<module>\u001b[1;34m()\u001b[0m\n\u001b[0;32m     20\u001b[0m     \u001b[0mlast_render_ts\u001b[0m \u001b[1;33m=\u001b[0m \u001b[0mtime\u001b[0m\u001b[1;33m.\u001b[0m\u001b[0mtime\u001b[0m\u001b[1;33m(\u001b[0m\u001b[1;33m)\u001b[0m\u001b[1;33m\u001b[0m\u001b[0m\n\u001b[0;32m     21\u001b[0m     \u001b[1;32mfor\u001b[0m \u001b[0m_\u001b[0m \u001b[1;32min\u001b[0m \u001b[0mrange\u001b[0m\u001b[1;33m(\u001b[0m\u001b[0mint\u001b[0m\u001b[1;33m(\u001b[0m\u001b[0mspeed_adjustment\u001b[0m \u001b[1;33m*\u001b[0m \u001b[0mtime_to_be_rendered\u001b[0m \u001b[1;33m/\u001b[0m \u001b[0mresolution\u001b[0m\u001b[1;33m)\u001b[0m\u001b[1;33m)\u001b[0m\u001b[1;33m:\u001b[0m\u001b[1;33m\u001b[0m\u001b[0m\n\u001b[1;32m---> 22\u001b[1;33m         \u001b[0mg\u001b[0m\u001b[1;33m.\u001b[0m\u001b[0mstep\u001b[0m\u001b[1;33m(\u001b[0m\u001b[0mresolution\u001b[0m\u001b[1;33m)\u001b[0m\u001b[1;33m\u001b[0m\u001b[0m\n\u001b[0m\u001b[0;32m     23\u001b[0m     \u001b[0mrender_time\u001b[0m \u001b[1;33m=\u001b[0m \u001b[0mtime\u001b[0m\u001b[1;33m.\u001b[0m\u001b[0mtime\u001b[0m\u001b[1;33m(\u001b[0m\u001b[1;33m)\u001b[0m \u001b[1;33m-\u001b[0m \u001b[0mstart\u001b[0m\u001b[1;33m\u001b[0m\u001b[0m\n\u001b[0;32m     24\u001b[0m     \u001b[1;31m# rendering end\u001b[0m\u001b[1;33m\u001b[0m\u001b[1;33m\u001b[0m\u001b[0m\n",
      "\u001b[1;32m<ipython-input-411-16e82b20465f>\u001b[0m in \u001b[0;36mstep\u001b[1;34m(self, dt)\u001b[0m\n\u001b[0;32m     94\u001b[0m         \u001b[1;32mfor\u001b[0m \u001b[0mobj\u001b[0m \u001b[1;32min\u001b[0m \u001b[0mself\u001b[0m\u001b[1;33m.\u001b[0m\u001b[0mobjects\u001b[0m \u001b[1;33m+\u001b[0m \u001b[1;33m[\u001b[0m\u001b[0mself\u001b[0m\u001b[1;33m.\u001b[0m\u001b[0mhero\u001b[0m\u001b[1;33m]\u001b[0m \u001b[1;33m:\u001b[0m\u001b[1;33m\u001b[0m\u001b[0m\n\u001b[0;32m     95\u001b[0m             \u001b[0mobj\u001b[0m\u001b[1;33m.\u001b[0m\u001b[0mstep\u001b[0m\u001b[1;33m(\u001b[0m\u001b[0mdt\u001b[0m\u001b[1;33m)\u001b[0m\u001b[1;33m\u001b[0m\u001b[0m\n\u001b[1;32m---> 96\u001b[1;33m         \u001b[0mself\u001b[0m\u001b[1;33m.\u001b[0m\u001b[0mresolve_collisions\u001b[0m\u001b[1;33m(\u001b[0m\u001b[1;33m)\u001b[0m\u001b[1;33m\u001b[0m\u001b[0m\n\u001b[0m\u001b[0;32m     97\u001b[0m \u001b[1;33m\u001b[0m\u001b[0m\n\u001b[0;32m     98\u001b[0m     \u001b[1;32mdef\u001b[0m \u001b[0mresolve_collisions\u001b[0m\u001b[1;33m(\u001b[0m\u001b[0mself\u001b[0m\u001b[1;33m)\u001b[0m\u001b[1;33m:\u001b[0m\u001b[1;33m\u001b[0m\u001b[0m\n",
      "\u001b[1;32m<ipython-input-411-16e82b20465f>\u001b[0m in \u001b[0;36mresolve_collisions\u001b[1;34m(self)\u001b[0m\n\u001b[0;32m     99\u001b[0m         \u001b[0mto_remove\u001b[0m \u001b[1;33m=\u001b[0m \u001b[1;33m[\u001b[0m\u001b[1;33m]\u001b[0m\u001b[1;33m\u001b[0m\u001b[0m\n\u001b[0;32m    100\u001b[0m         \u001b[1;32mfor\u001b[0m \u001b[0mobj\u001b[0m \u001b[1;32min\u001b[0m \u001b[0mself\u001b[0m\u001b[1;33m.\u001b[0m\u001b[0mobjects\u001b[0m\u001b[1;33m:\u001b[0m\u001b[1;33m\u001b[0m\u001b[0m\n\u001b[1;32m--> 101\u001b[1;33m             \u001b[1;32mif\u001b[0m \u001b[0mnp\u001b[0m\u001b[1;33m.\u001b[0m\u001b[0mlinalg\u001b[0m\u001b[1;33m.\u001b[0m\u001b[0mnorm\u001b[0m\u001b[1;33m(\u001b[0m\u001b[0mobj\u001b[0m\u001b[1;33m.\u001b[0m\u001b[0mposition\u001b[0m \u001b[1;33m-\u001b[0m \u001b[0mself\u001b[0m\u001b[1;33m.\u001b[0m\u001b[0mhero\u001b[0m\u001b[1;33m.\u001b[0m\u001b[0mposition\u001b[0m\u001b[1;33m)\u001b[0m \u001b[1;33m<\u001b[0m \u001b[1;36m2\u001b[0m \u001b[1;33m*\u001b[0m \u001b[0mself\u001b[0m\u001b[1;33m.\u001b[0m\u001b[0msettings\u001b[0m\u001b[1;33m[\u001b[0m\u001b[1;34m\"object_radius\"\u001b[0m\u001b[1;33m]\u001b[0m\u001b[1;33m:\u001b[0m\u001b[1;33m\u001b[0m\u001b[0m\n\u001b[0m\u001b[0;32m    102\u001b[0m                 \u001b[0mto_remove\u001b[0m\u001b[1;33m.\u001b[0m\u001b[0mappend\u001b[0m\u001b[1;33m(\u001b[0m\u001b[0mobj\u001b[0m\u001b[1;33m)\u001b[0m\u001b[1;33m\u001b[0m\u001b[0m\n\u001b[0;32m    103\u001b[0m         \u001b[1;32mfor\u001b[0m \u001b[0mobj\u001b[0m \u001b[1;32min\u001b[0m \u001b[0mto_remove\u001b[0m\u001b[1;33m:\u001b[0m\u001b[1;33m\u001b[0m\u001b[0m\n",
      "\u001b[1;32m/usr/lib64/python3.4/site-packages/numpy/linalg/linalg.py\u001b[0m in \u001b[0;36mnorm\u001b[1;34m(x, ord, axis)\u001b[0m\n\u001b[0;32m   2050\u001b[0m \u001b[1;33m\u001b[0m\u001b[0m\n\u001b[0;32m   2051\u001b[0m     \"\"\"\n\u001b[1;32m-> 2052\u001b[1;33m     \u001b[0mx\u001b[0m \u001b[1;33m=\u001b[0m \u001b[0masarray\u001b[0m\u001b[1;33m(\u001b[0m\u001b[0mx\u001b[0m\u001b[1;33m)\u001b[0m\u001b[1;33m\u001b[0m\u001b[0m\n\u001b[0m\u001b[0;32m   2053\u001b[0m \u001b[1;33m\u001b[0m\u001b[0m\n\u001b[0;32m   2054\u001b[0m     \u001b[1;31m# Check the default case first and handle it immediately.\u001b[0m\u001b[1;33m\u001b[0m\u001b[1;33m\u001b[0m\u001b[0m\n",
      "\u001b[1;32m/usr/lib64/python3.4/site-packages/numpy/core/numeric.py\u001b[0m in \u001b[0;36masarray\u001b[1;34m(a, dtype, order)\u001b[0m\n\u001b[0;32m    460\u001b[0m \u001b[1;33m\u001b[0m\u001b[0m\n\u001b[0;32m    461\u001b[0m     \"\"\"\n\u001b[1;32m--> 462\u001b[1;33m     \u001b[1;32mreturn\u001b[0m \u001b[0marray\u001b[0m\u001b[1;33m(\u001b[0m\u001b[0ma\u001b[0m\u001b[1;33m,\u001b[0m \u001b[0mdtype\u001b[0m\u001b[1;33m,\u001b[0m \u001b[0mcopy\u001b[0m\u001b[1;33m=\u001b[0m\u001b[1;32mFalse\u001b[0m\u001b[1;33m,\u001b[0m \u001b[0morder\u001b[0m\u001b[1;33m=\u001b[0m\u001b[0morder\u001b[0m\u001b[1;33m)\u001b[0m\u001b[1;33m\u001b[0m\u001b[0m\n\u001b[0m\u001b[0;32m    463\u001b[0m \u001b[1;33m\u001b[0m\u001b[0m\n\u001b[0;32m    464\u001b[0m \u001b[1;32mdef\u001b[0m \u001b[0masanyarray\u001b[0m\u001b[1;33m(\u001b[0m\u001b[0ma\u001b[0m\u001b[1;33m,\u001b[0m \u001b[0mdtype\u001b[0m\u001b[1;33m=\u001b[0m\u001b[1;32mNone\u001b[0m\u001b[1;33m,\u001b[0m \u001b[0morder\u001b[0m\u001b[1;33m=\u001b[0m\u001b[1;32mNone\u001b[0m\u001b[1;33m)\u001b[0m\u001b[1;33m:\u001b[0m\u001b[1;33m\u001b[0m\u001b[0m\n",
      "\u001b[1;31mKeyboardInterrupt\u001b[0m: "
     ]
    }
   ],
   "source": [
    "g = KarpathyGame(SETTINGS)\n",
    "\n",
    "step_s = 1 / SETTINGS[\"fps\"]\n",
    "resolution = SETTINGS[\"resolution\"]\n",
    "speed_adjustment = 1.0\n",
    "\n",
    "last_render_ts = time.time()\n",
    "\n",
    "avg_render_time = step_s\n",
    "while True:\n",
    "    clear_output(wait=True)\n",
    "    # rendering start\n",
    "    start = time.time()\n",
    "    display(g.to_html([\n",
    "        \"FPS    = %.1f\" % (min(SETTINGS[\"fps\"], 1 / avg_render_time),),\n",
    "        \"reward = %.3f\" % (g.collect_reward(),),\n",
    "        \"DTW    = %.1f\" % (g.distance_to_walls(),)\n",
    "    ]))\n",
    "    time_to_be_rendered = time.time() - last_render_ts\n",
    "    last_render_ts = time.time()\n",
    "    for _ in range(int(speed_adjustment * time_to_be_rendered / resolution)):\n",
    "        g.step(resolution)\n",
    "    render_time = time.time() - start\n",
    "    # rendering end\n",
    "    avg_render_time = 0.99 * avg_render_time + 0.01 * render_time\n",
    "    if (step_s - render_time) > 0:\n",
    "        time.sleep(step_s - render_time)"
   ]
  },
  {
   "cell_type": "code",
   "execution_count": 395,
   "metadata": {
    "collapsed": false
   },
   "outputs": [
    {
     "ename": "TypeError",
     "evalue": "'list' object cannot be interpreted as an integer",
     "output_type": "error",
     "traceback": [
      "\u001b[1;31m---------------------------------------------------------------------------\u001b[0m",
      "\u001b[1;31mTypeError\u001b[0m                                 Traceback (most recent call last)",
      "\u001b[1;32m<ipython-input-395-2bdffe162c60>\u001b[0m in \u001b[0;36m<module>\u001b[1;34m()\u001b[0m\n\u001b[1;32m----> 1\u001b[1;33m \u001b[0mg\u001b[0m\u001b[1;33m.\u001b[0m\u001b[0mplot_reward\u001b[0m\u001b[1;33m(\u001b[0m\u001b[1;33m)\u001b[0m\u001b[1;33m\u001b[0m\u001b[0m\n\u001b[0m",
      "\u001b[1;32m<ipython-input-392-30b640b61557>\u001b[0m in \u001b[0;36mplot_reward\u001b[1;34m(self, smoothing)\u001b[0m\n\u001b[0;32m    147\u001b[0m             \u001b[0mchunk\u001b[0m \u001b[1;33m=\u001b[0m \u001b[0mplottable\u001b[0m\u001b[1;33m[\u001b[0m\u001b[0mi\u001b[0m\u001b[1;33m-\u001b[0m\u001b[0msmoothing\u001b[0m\u001b[1;33m:\u001b[0m\u001b[0mi\u001b[0m\u001b[1;33m]\u001b[0m\u001b[1;33m\u001b[0m\u001b[0m\n\u001b[0;32m    148\u001b[0m             \u001b[0mx\u001b[0m\u001b[1;33m.\u001b[0m\u001b[0mappend\u001b[0m\u001b[1;33m(\u001b[0m\u001b[0msum\u001b[0m\u001b[1;33m(\u001b[0m\u001b[0mchunk\u001b[0m\u001b[1;33m)\u001b[0m \u001b[1;33m/\u001b[0m \u001b[0mlen\u001b[0m\u001b[1;33m(\u001b[0m\u001b[0mchunk\u001b[0m\u001b[1;33m)\u001b[0m\u001b[1;33m)\u001b[0m\u001b[1;33m\u001b[0m\u001b[0m\n\u001b[1;32m--> 149\u001b[1;33m         \u001b[0mplt\u001b[0m\u001b[1;33m.\u001b[0m\u001b[0mplot\u001b[0m\u001b[1;33m(\u001b[0m\u001b[0mlist\u001b[0m\u001b[1;33m(\u001b[0m\u001b[0mrange\u001b[0m\u001b[1;33m(\u001b[0m\u001b[0mx\u001b[0m\u001b[1;33m)\u001b[0m\u001b[1;33m)\u001b[0m\u001b[1;33m,\u001b[0m \u001b[0mx\u001b[0m\u001b[1;33m)\u001b[0m\u001b[1;33m\u001b[0m\u001b[0m\n\u001b[0m\u001b[0;32m    150\u001b[0m \u001b[1;33m\u001b[0m\u001b[0m\n\u001b[0;32m    151\u001b[0m     \u001b[1;32mdef\u001b[0m \u001b[0mgenerate_observation_lines\u001b[0m\u001b[1;33m(\u001b[0m\u001b[0mself\u001b[0m\u001b[1;33m)\u001b[0m\u001b[1;33m:\u001b[0m\u001b[1;33m\u001b[0m\u001b[0m\n",
      "\u001b[1;31mTypeError\u001b[0m: 'list' object cannot be interpreted as an integer"
     ]
    }
   ],
   "source": []
  },
  {
   "cell_type": "code",
   "execution_count": 276,
   "metadata": {
    "collapsed": true
   },
   "outputs": [],
   "source": []
  },
  {
   "cell_type": "code",
   "execution_count": 180,
   "metadata": {
    "collapsed": false
   },
   "outputs": [
    {
     "data": {
      "text/plain": [
       "1.2576193288630786"
      ]
     },
     "execution_count": 180,
     "metadata": {},
     "output_type": "execute_result"
    }
   ],
   "source": [
    "avg_render_time"
   ]
  },
  {
   "cell_type": "code",
   "execution_count": 228,
   "metadata": {
    "collapsed": true
   },
   "outputs": [],
   "source": []
  },
  {
   "cell_type": "code",
   "execution_count": 233,
   "metadata": {
    "collapsed": false
   },
   "outputs": [],
   "source": [
    "\n",
    "        "
   ]
  },
  {
   "cell_type": "code",
   "execution_count": 259,
   "metadata": {
    "collapsed": false
   },
   "outputs": [],
   "source": [
    "?np.linspace"
   ]
  },
  {
   "cell_type": "code",
   "execution_count": 507,
   "metadata": {
    "collapsed": true
   },
   "outputs": [],
   "source": [
    "def get(n, total, p_initial, p_final):\n",
    "    if n >= total:\n",
    "        return p_final\n",
    "    else:\n",
    "        return p_initial - (n * (p_initial - p_final)) / (total)"
   ]
  },
  {
   "cell_type": "code",
   "execution_count": 511,
   "metadata": {
    "collapsed": false
   },
   "outputs": [
    {
     "data": {
      "text/plain": [
       "2.0"
      ]
     },
     "execution_count": 511,
     "metadata": {},
     "output_type": "execute_result"
    }
   ],
   "source": [
    "get(0, 100, 2.0, 0.05)"
   ]
  },
  {
   "cell_type": "code",
   "execution_count": null,
   "metadata": {
    "collapsed": true
   },
   "outputs": [],
   "source": []
  }
 ],
 "metadata": {
  "kernelspec": {
   "display_name": "Python 3",
   "language": "python",
   "name": "python3"
  },
  "language_info": {
   "codemirror_mode": {
    "name": "ipython",
    "version": 3
   },
   "file_extension": ".py",
   "mimetype": "text/x-python",
   "name": "python",
   "nbconvert_exporter": "python",
   "pygments_lexer": "ipython3",
   "version": "3.4.1"
  }
 },
 "nbformat": 4,
 "nbformat_minor": 0
}
