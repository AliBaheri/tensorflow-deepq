{
 "cells": [
  {
   "cell_type": "code",
   "execution_count": 1,
   "metadata": {
    "collapsed": false
   },
   "outputs": [],
   "source": [
    "%load_ext autoreload\n",
    "%autoreload 2\n",
    "%matplotlib inline"
   ]
  },
  {
   "cell_type": "code",
   "execution_count": 2,
   "metadata": {
    "collapsed": true
   },
   "outputs": [],
   "source": [
    "import dali.core as D\n",
    "import matplotlib.pyplot as plt\n",
    "import numpy as np\n",
    "import random\n",
    "import time\n",
    "\n",
    "from dali.models import MLP\n",
    "from dali.utils import Solver\n",
    "from IPython.display import clear_output, display, HTML\n",
    "\n",
    "import svg"
   ]
  },
  {
   "cell_type": "code",
   "execution_count": 214,
   "metadata": {
    "collapsed": false
   },
   "outputs": [],
   "source": [
    "D.config.default_device = 'cpu'"
   ]
  },
  {
   "cell_type": "code",
   "execution_count": 198,
   "metadata": {
    "collapsed": false
   },
   "outputs": [
    {
     "name": "stdout",
     "output_type": "stream",
     "text": [
      "siema\n",
      "siema\n",
      "siema\n",
      "siema\n",
      "siema\n",
      "siema\n"
     ]
    },
    {
     "ename": "KeyboardInterrupt",
     "evalue": "",
     "output_type": "error",
     "traceback": [
      "\u001b[1;31m---------------------------------------------------------------------------\u001b[0m",
      "\u001b[1;31mKeyboardInterrupt\u001b[0m                         Traceback (most recent call last)",
      "\u001b[1;32m<ipython-input-198-29bd69f5e1e0>\u001b[0m in \u001b[0;36m<module>\u001b[1;34m()\u001b[0m\n\u001b[0;32m     37\u001b[0m \u001b[1;33m\u001b[0m\u001b[0m\n\u001b[0;32m     38\u001b[0m \u001b[0meq\u001b[0m\u001b[1;33m.\u001b[0m\u001b[0mschedule_recurring\u001b[0m\u001b[1;33m(\u001b[0m\u001b[1;32mlambda\u001b[0m\u001b[1;33m:\u001b[0m \u001b[0mprint\u001b[0m\u001b[1;33m(\u001b[0m\u001b[1;34m\"siema\"\u001b[0m\u001b[1;33m,\u001b[0m \u001b[0mflush\u001b[0m\u001b[1;33m=\u001b[0m\u001b[1;32mTrue\u001b[0m\u001b[1;33m)\u001b[0m\u001b[1;33m,\u001b[0m \u001b[1;36m1\u001b[0m\u001b[1;33m)\u001b[0m\u001b[1;33m\u001b[0m\u001b[0m\n\u001b[1;32m---> 39\u001b[1;33m \u001b[0meq\u001b[0m\u001b[1;33m.\u001b[0m\u001b[0mrun\u001b[0m\u001b[1;33m(\u001b[0m\u001b[1;33m)\u001b[0m\u001b[1;33m\u001b[0m\u001b[0m\n\u001b[0m",
      "\u001b[1;32m<ipython-input-43-0e9b0127f76c>\u001b[0m in \u001b[0;36mrun\u001b[1;34m(self)\u001b[0m\n\u001b[0;32m     22\u001b[0m             \u001b[0mnow\u001b[0m \u001b[1;33m=\u001b[0m \u001b[0mtime\u001b[0m\u001b[1;33m.\u001b[0m\u001b[0mtime\u001b[0m\u001b[1;33m(\u001b[0m\u001b[1;33m)\u001b[0m\u001b[1;33m\u001b[0m\u001b[0m\n\u001b[0;32m     23\u001b[0m             \u001b[1;32mif\u001b[0m \u001b[0mnow\u001b[0m \u001b[1;33m<\u001b[0m \u001b[0mts\u001b[0m\u001b[1;33m:\u001b[0m\u001b[1;33m\u001b[0m\u001b[0m\n\u001b[1;32m---> 24\u001b[1;33m                 \u001b[0mtime\u001b[0m\u001b[1;33m.\u001b[0m\u001b[0msleep\u001b[0m\u001b[1;33m(\u001b[0m\u001b[0mts\u001b[0m \u001b[1;33m-\u001b[0m \u001b[0mnow\u001b[0m\u001b[1;33m)\u001b[0m\u001b[1;33m\u001b[0m\u001b[0m\n\u001b[0m\u001b[0;32m     25\u001b[0m             \u001b[0mf\u001b[0m\u001b[1;33m(\u001b[0m\u001b[1;33m)\u001b[0m\u001b[1;33m\u001b[0m\u001b[0m\n\u001b[0;32m     26\u001b[0m \u001b[1;33m\u001b[0m\u001b[0m\n",
      "\u001b[1;31mKeyboardInterrupt\u001b[0m: "
     ]
    }
   ],
   "source": [
    "import time\n",
    "\n",
    "from queue import PriorityQueue\n",
    "\n",
    "class EqItem(object):\n",
    "    def __init__(self, ts, f):\n",
    "        self.ts = ts\n",
    "        self.f  = f\n",
    "        \n",
    "    def __lt__(self, other):\n",
    "        return self.ts < other.ts\n",
    "    \n",
    "    def __eq__(self, other):\n",
    "        return self.ts == other.ts\n",
    "\n",
    "class EventQueue(object):\n",
    "    def __init__(self):\n",
    "        self.q = PriorityQueue()\n",
    "    \n",
    "    def schedule(self, f, ts):\n",
    "        self.q.put(EqItem(ts, f))\n",
    "        \n",
    "    def schedule_recurring(self, f, interval):\n",
    "        def recuring_f():\n",
    "            f()\n",
    "            self.schedule(recuring_f, time.time() + interval)\n",
    "        self.schedule(recuring_f, time.time() + interval)\n",
    "        \n",
    "        \n",
    "    def run(self):\n",
    "        while True:\n",
    "            event = self.q.get()\n",
    "            now = time.time()\n",
    "            if now < event.ts:\n",
    "                time.sleep(event.ts - now)\n",
    "            event.f()\n",
    "            \n",
    "eq.schedule_recurring(lambda: print(\"siema\", flush=True), 1)\n",
    "eq.run()\n"
   ]
  },
  {
   "cell_type": "code",
   "execution_count": 184,
   "metadata": {
    "collapsed": false
   },
   "outputs": [],
   "source": [
    "from collections import deque\n",
    "\n",
    "class DeepQ(object):\n",
    "    def __init__(self, observation_size,\n",
    "                       num_actions,\n",
    "                       observation_to_actions,\n",
    "                       solver,\n",
    "                       random_action_probability=0.05,\n",
    "                       exploration_period=1000,\n",
    "                       minibatch_size=30,\n",
    "                       discount_rate=0.95,\n",
    "                       max_experience=20000):\n",
    "        # memorize arguments\n",
    "        self.observation_size          = observation_size\n",
    "        self.num_actions               = num_actions\n",
    "        \n",
    "        self.observation_to_actions    = observation_to_actions\n",
    "        self.solver                    = solver\n",
    "        \n",
    "        self.random_action_probability = random_action_probability\n",
    "        self.exploration_period        = exploration_period\n",
    "        self.minibatch_size            = minibatch_size\n",
    "        self.discount_rate             = discount_rate\n",
    "        self.max_experience            = max_experience\n",
    "        \n",
    "        # deepq state\n",
    "        self.actions_executed_so_far = 0\n",
    "        self.experience = deque()\n",
    "        \n",
    "    def linear_annealing(self, n, total, p_initial, p_final):\n",
    "        if n >= total:\n",
    "            return p_final\n",
    "        else:\n",
    "            return p_initial - (n * (p_initial - p_final)) / (total)\n",
    "\n",
    "    def activate(self, observation):\n",
    "        action_scores = self.observation_to_actions.activate(observation)\n",
    "        assert action_scores.shape[1] == self.num_actions, \\\n",
    "                \"number of columns in the output of `observation_to_actions` must be equal to number of actions.\"\n",
    "        assert action_scores.shape[0] == observation.shape[0], \\\n",
    "                \"number of output rows of `observation_to_actions` must be equal to number of input rows\"\n",
    "        return action_scores\n",
    "    \n",
    "    def action(self, observation):\n",
    "        assert len(observation.shape) == 1, \\\n",
    "                \"Action is performed based on single observation.\"\n",
    "\n",
    "        self.actions_executed_so_far += 1\n",
    "        exploration_p = self.linear_annealing(self.actions_executed_so_far,\n",
    "                                              self.exploration_period,\n",
    "                                              1.0,\n",
    "                                              self.random_action_probability)\n",
    "                                                 \n",
    "        if random.random() < exploration_p:\n",
    "            return random.randint(0, self.num_actions - 1)\n",
    "        else:\n",
    "            with D.NoBackprop():\n",
    "                observation_dali = D.Mat(observation[np.newaxis,:], constant=True)\n",
    "                assert observation_dali.shape == (1, observation.shape[0])\n",
    "                action_scores = self.activate(observation_dali)\n",
    "                return D.MatOps.argmax(action_scores, axis=1)[0]\n",
    "        \n",
    "    def store(self, state, action, reward, newstate):\n",
    "        \"\"\"Store experience. \n",
    "        \n",
    "        If newstate is None, the state/action pair is assumed to be terminal.\"\"\"\n",
    "        self.experience.append((state, action, reward, newstate))\n",
    "        if len(self.experience) > self.max_experience:\n",
    "            self.experience.popleft()\n",
    "    \n",
    "    def training_step(self):\n",
    "        if len(self.experience) <  self.minibatch_size:\n",
    "            return\n",
    "        \n",
    "        # sample experience. \n",
    "        samples   = random.sample(range(len(self.experience)), self.minibatch_size)\n",
    "        samples   = [self.experience[i] for i in samples]\n",
    "        \n",
    "        # bach states\n",
    "        states    = np.empty((len(samples), self.observation_size))\n",
    "        newstates = np.empty((len(samples), self.observation_size))\n",
    "        action_mask    = np.zeros((len(samples), self.num_actions))\n",
    "        \n",
    "        newstates_mask = np.empty((len(samples),))\n",
    "        rewards        = np.empty((len(samples),))\n",
    "        \n",
    "        for i, (state, action, reward, newstate) in enumerate(samples):\n",
    "            states[i] = state\n",
    "            action_mask[i] = 0\n",
    "            action_mask[i][action] = 1\n",
    "            rewards[i] = reward\n",
    "            if newstate is not None:\n",
    "                newstates[i] = state\n",
    "                newstates_mask[i] = 1\n",
    "            else:\n",
    "                newstates[i] = 0\n",
    "                newstates_mask[i] = 0\n",
    "                \n",
    "        # convert to dali, steal numpy memory, do not compute gradient (that's constant)\n",
    "        states      = D.Mat(states,      borrow=True, constant=True)\n",
    "        newstates   = D.Mat(newstates,   borrow=True, constant=True)\n",
    "        action_mask = D.Mat(action_mask, borrow=True, constant=True)\n",
    "        \n",
    "        # compute target value functions\n",
    "        with D.NoBackprop():\n",
    "            action_scores = self.activate(newstates)\n",
    "        # rowwise max - best achievable value function for each sample.\n",
    "        newstates_value = action_scores.w.max(axis=1) * newstates_mask\n",
    "        targets = rewards + self.discount_rate * newstates_value\n",
    "\n",
    "        # convert to dali, steal numpy memory, do not compute gradient (that's constant)\n",
    "        targets     = D.Mat(targets,     borrow=True, constant=True)\n",
    "        \n",
    "        # this computation will be backpropagated.\n",
    "        action_scores = self.activate(states)\n",
    "        relevant_actions = (action_scores * action_mask).sum(axis=1)\n",
    "        error = (relevant_actions - targets)**2\n",
    "        error.grad()\n",
    "        \n",
    "        # compute gradient\n",
    "        D.Graph.backward()\n",
    "        # apply gradient\n",
    "        solver.step()    "
   ]
  },
  {
   "cell_type": "code",
   "execution_count": 91,
   "metadata": {
    "collapsed": false
   },
   "outputs": [],
   "source": [
    "if False:\n",
    "    brain = MLP([3,], [3,3,5], [D.MatOps.tanh, D.MatOps.tanh, lambda x: x])\n",
    "    solver = Solver(brain.parameters(), \"rmsprop_momentum\")\n",
    "    controller = DeepQ(3, 5, brain, solver)\n",
    "    for _ in range(30):\n",
    "        observation = np.random.uniform(-1, 1, size=(3,))\n",
    "        best_action = controller.action(observation)\n",
    "        reward = 10\n",
    "        new_state = np.random.uniform(-1, 1, size=(3,))\n",
    "        controller.store(observation, best_action, reward, new_state)\n"
   ]
  },
  {
   "cell_type": "code",
   "execution_count": 93,
   "metadata": {
    "collapsed": false
   },
   "outputs": [],
   "source": [
    "# geometry\n",
    "def point_distance(x, y):\n",
    "    return np.linalg.norm(x-y)\n",
    "\n",
    "def point_projected_on_line(line_s, line_e, point):\n",
    "    line_along = line_e - line_s\n",
    "    \n",
    "    transformed_point = point - line_s\n",
    "    \n",
    "    point_dot_line  = np.dot(transformed_point, line_along)\n",
    "    line_along_norm = np.dot(line_along, line_along)\n",
    "    \n",
    "    transformed_projection = (point_dot_line / line_along_norm) * line_along\n",
    "    \n",
    "    return transformed_projection + line_s\n",
    "\n",
    "def point_segment_distance(segment_s, segment_e, point):\n",
    "    projected = point_projected_on_line(segment_s, segment_e, point)\n",
    "    if np.isclose(point_distance(segment_s, projected) + point_distance(projected, segment_e),\n",
    "                  point_distance(segment_s, segment_e)):\n",
    "        # projected on segment\n",
    "        return point_distance(point, projected)\n",
    "    else:\n",
    "        return min(point_distance(point, segment_s), point_distance(point, segment_e))"
   ]
  },
  {
   "cell_type": "code",
   "execution_count": 244,
   "metadata": {
    "collapsed": false
   },
   "outputs": [],
   "source": [
    "SETTINGS = {\n",
    "    'colors': {\n",
    "        'hero': 'yellow',\n",
    "        'friend': 'green',\n",
    "        'enemy':  'red',\n",
    "        'boss':   'orange',\n",
    "    },\n",
    "    'object_reward': {\n",
    "        'friend': 5,\n",
    "        'enemy': -6,\n",
    "        'boss':  -100,\n",
    "    },\n",
    "    'observation_repr_size': 4,\n",
    "    'observation_repr': {\n",
    "        'friend':  np.array([1,0,0,0]),\n",
    "        'enemy':   np.array([0,1,0,0]),\n",
    "        'boss':    np.array([0,0,1,0]),\n",
    "        'wall':    np.array([0,0,0,1]),\n",
    "        'nothing': np.array([0,0,0,0]),\n",
    "    },\n",
    "#     'observation_repr_size': 1,\n",
    "#     'observation_repr': {\n",
    "#         'friend':  np.array([0,]),\n",
    "#         'enemy':   np.array([0,]),\n",
    "#         'wall':    np.array([1,]),\n",
    "#         'nothing': np.array([0,]),\n",
    "#     },\n",
    "    'world_size': (600,400),\n",
    "    'resolution': 0.001,\n",
    "    'fps': 60, \n",
    "    'hero_initial_position': [570, 200],\n",
    "    'hero_initial_speed':    [100, 100],\n",
    "    \"object_radius\": 10,\n",
    "    \"num_objects\": {\n",
    "        \"friend\" : 10,\n",
    "        \"enemy\" :  10,\n",
    "        \"boss\" :   3,\n",
    "    },\n",
    "    \"num_observation_lines\" : 16,\n",
    "    \"observation_line_length\": 70,\n",
    "    \"tolerable_distance_to_wall\": 50,\n",
    "    \"wall_distance_penalty\":  -1.0,\n",
    "}\n",
    "\n",
    "\n",
    "\n",
    "class GameObject(object):\n",
    "    def __init__(self, position, speed, obj_type, settings):\n",
    "        self.settings = settings\n",
    "        self.radius = self.settings[\"object_radius\"]\n",
    "        \n",
    "        self.obj_type = obj_type\n",
    "        self.position = np.array(position, dtype=float)\n",
    "        self.speed = np.array(speed, dtype=float)\n",
    "        \n",
    "    def wall_collisions(self):\n",
    "        world_size = self.settings[\"world_size\"]\n",
    "        for dim in range(2):\n",
    "            if self.position[dim] - self.radius       <= 0               and self.speed[dim] < 0:\n",
    "                self.speed[dim] = - self.speed[dim]\n",
    "            elif self.position[dim] + self.radius + 1 >= world_size[dim] and self.speed[dim] > 0:\n",
    "                self.speed[dim] = - self.speed[dim]\n",
    "        \n",
    "    def move(self, dt):\n",
    "        self.position += dt * self.speed\n",
    "        \n",
    "    def step(self, dt):\n",
    "        self.wall_collisions()\n",
    "        self.move(dt)\n",
    "        \n",
    "    def draw(self):\n",
    "        color = self.settings[\"colors\"][self.obj_type]\n",
    "        return svg.Circle(self.position.astype(int) + 10, self.radius, color=color)\n",
    "\n",
    "class KarpathyGame(object):\n",
    "    def __init__(self, settings):\n",
    "        self.settings = settings\n",
    "        self.size = np.array(self.settings[\"world_size\"])\n",
    "        self.resoution = self.settings[\"resolution\"]\n",
    "        \n",
    "        self.hero = GameObject(self.settings[\"hero_initial_position\"].copy(),\n",
    "                               self.settings[\"hero_initial_speed\"].copy(),\n",
    "                               \"hero\",\n",
    "                               self.settings)\n",
    "        \n",
    "        self.objects = []\n",
    "        for obj_type, number in settings[\"num_objects\"].items():\n",
    "            for _ in range(number):\n",
    "                self.spawn_object(obj_type)\n",
    "        \n",
    "        self.observation_lines = self.generate_observation_lines()\n",
    "        \n",
    "        self.object_reward = 0\n",
    "        self.collected_rewards = []\n",
    "        \n",
    "        self.observation_size = self.settings[\"observation_repr_size\"] * len(self.observation_lines)\n",
    "        self.num_actions      = 4\n",
    "        \n",
    "    def perform_action(self, action_id):\n",
    "        if action_id == 0:\n",
    "            self.hero.speed = np.array([100, 0])\n",
    "        elif action_id == 1:\n",
    "            self.hero.speed = np.array([-100, 0])\n",
    "        elif action_id == 2:\n",
    "            self.hero.speed = np.array([0, 100])\n",
    "        elif action_id == 3:\n",
    "            self.hero.speed = np.array([0, -100])\n",
    "        else:\n",
    "            assert False\n",
    "            \n",
    "    def spawn_object(self, obj_type):\n",
    "        radius = self.settings[\"object_radius\"]\n",
    "        position = np.random.uniform([radius, radius], self.size - radius).astype(float)\n",
    "        speed    = np.random.uniform([-100,-100], [100,100]).astype(float)\n",
    "        self.objects.append(GameObject(position, speed, obj_type, self.settings))     \n",
    "                \n",
    "    def step(self, dt):\n",
    "        for obj in self.objects + [self.hero] :\n",
    "            obj.step(dt)\n",
    "        self.resolve_collisions()\n",
    "\n",
    "    def resolve_collisions(self):\n",
    "        to_remove = []\n",
    "        for obj in self.objects:\n",
    "            if np.linalg.norm(obj.position - self.hero.position) < 2 * self.settings[\"object_radius\"]:\n",
    "                to_remove.append(obj)\n",
    "        for obj in to_remove:\n",
    "            self.objects.remove(obj)\n",
    "            self.object_reward += self.settings[\"object_reward\"][obj.obj_type]\n",
    "            self.spawn_object(obj.obj_type)\n",
    "        \n",
    "    def inside_walls(self, point):\n",
    "        return np.all(np.array([0,0]) <= point) and np.all(point < self.size)\n",
    "        \n",
    "    def observe(self):\n",
    "        observable_distance = self.settings[\"object_radius\"] + self.settings[\"observation_line_length\"]\n",
    "        relevant_objects = [obj for obj in self.objects \n",
    "                            if point_distance(obj.position, self.hero.position) < observable_distance]\n",
    "        # objects sorted from closest to furthest\n",
    "        relevant_objects.sort(key=lambda x: point_distance(x.position, self.hero.position))\n",
    "        observ_atom_sz = self.settings[\"observation_repr_size\"]\n",
    "        observation = np.zeros((observ_atom_sz * len(self.observation_lines),))\n",
    "        for i, (line_start, line_end) in enumerate(self.observation_lines):\n",
    "            line_start = line_start + self.hero.position\n",
    "            line_end   = line_end   + self.hero.position\n",
    "            observed_repr = self.settings[\"observation_repr\"][\"nothing\"]\n",
    "            if not self.inside_walls(line_end):\n",
    "                observed_repr = self.settings[\"observation_repr\"][\"wall\"]\n",
    "            for obj in relevant_objects:\n",
    "                if point_segment_distance(line_start, line_end, obj.position) < SETTINGS[\"object_radius\"]:\n",
    "                    observed_repr = self.settings[\"observation_repr\"][obj.obj_type]\n",
    "                    break\n",
    "            observation[i*observ_atom_sz:(i+1)*observ_atom_sz] = observed_repr\n",
    "        return observation        \n",
    "    \n",
    "    def distance_to_walls(self):\n",
    "        tl = np.min(self.hero.position - self.settings[\"object_radius\"])\n",
    "        br = np.min(self.size - self.hero.position - self.settings[\"object_radius\"])\n",
    "        return np.min([tl,br])\n",
    "        \n",
    "    def collect_reward(self):\n",
    "        wall_reward =  self.settings[\"wall_distance_penalty\"] * \\\n",
    "                       np.exp(-self.distance_to_walls() / self.settings[\"tolerable_distance_to_wall\"])\n",
    "        total_reward = wall_reward + self.object_reward\n",
    "        self.object_reward = 0\n",
    "        self.collected_rewards.append(total_reward)\n",
    "        return total_reward\n",
    "        \n",
    "    def plot_reward(self, smoothing = 30):\n",
    "        plottable = self.collected_rewards[:]\n",
    "        while len(plottable) > 1000:\n",
    "            for i in range(0, len(plottable) - 1, 2):\n",
    "                plottable[i//2] = (plottable[i] + plottable[i+1]) / 2\n",
    "            plottable = plottable[:(len(plottable) // 2)]\n",
    "        x = []\n",
    "        for  i in range(smoothing, len(plottable)):\n",
    "            chunk = plottable[i-smoothing:i]\n",
    "            x.append(sum(chunk) / len(chunk))\n",
    "        plt.plot(list(range(len(x))), x)\n",
    "        \n",
    "    def generate_observation_lines(self):\n",
    "        result = []\n",
    "        start = np.array([self.settings[\"object_radius\"]* 1.1, self.settings[\"object_radius\"]* 1.1])\n",
    "        end   = np.array([self.settings[\"object_radius\"] + self.settings[\"observation_line_length\"],\n",
    "                          self.settings[\"object_radius\"] + self.settings[\"observation_line_length\"]])\n",
    "        for angle in np.linspace(0, 2*np.pi, self.settings[\"num_observation_lines\"], endpoint=False):\n",
    "            rotation = np.array([np.cos(angle), np.sin(angle)])\n",
    "            result.append((start * rotation, end * rotation))\n",
    "        return result\n",
    "        \n",
    "    def _repr_html_(self):\n",
    "        return self.to_html()\n",
    "    \n",
    "    def to_html(self, stats):\n",
    "        scene = svg.Scene((self.size[0] + 20, self.size[1] + 20 + 20 * len(stats)))\n",
    "        scene.add(svg.Rectangle((10, 10), self.size))\n",
    "        for obj in self.objects + [self.hero] :\n",
    "            scene.add(obj.draw())\n",
    "            \n",
    "        for line_start, line_end in self.observation_lines:\n",
    "            scene.add(svg.Line(line_start + self.hero.position + 10, line_end + self.hero.position + 10))\n",
    "        \n",
    "        offset = self.size[1] + 15\n",
    "        for txt in stats:              \n",
    "            scene.add(svg.Text((10, offset + 20), txt, 15))\n",
    "            offset += 20\n",
    "                          \n",
    "        return scene\n",
    "        "
   ]
  },
  {
   "cell_type": "code",
   "execution_count": 245,
   "metadata": {
    "collapsed": false
   },
   "outputs": [],
   "source": [
    "g = KarpathyGame(SETTINGS)"
   ]
  },
  {
   "cell_type": "code",
   "execution_count": 246,
   "metadata": {
    "collapsed": true
   },
   "outputs": [],
   "source": [
    "brain = MLP([g.observation_size,], [100, g.num_actions], [D.MatOps.tanh, lambda x: x])\n",
    "# brain = MLP([g.observation_size,], [g.num_actions], [lambda x: x])\n",
    "solver = Solver(brain.parameters(), \"sgd\", learning_rate=0.01)\n",
    "c = DeepQ(g.observation_size, g.num_actions, brain, solver, max_experience=30000)"
   ]
  },
  {
   "cell_type": "code",
   "execution_count": 249,
   "metadata": {
    "collapsed": false
   },
   "outputs": [
    {
     "data": {
      "text/html": [
       "<?xml version=\"1.0\"?>\n",
       "\n",
       "<svg height=\"480\" width=\"620\" >\n",
       "\n",
       " <g style=\"fill-opacity:1.0; stroke:black;\n",
       "\n",
       "  stroke-width:1;\">\n",
       "\n",
       "  <rect x=\"10\" y=\"10\" height=\"400\"\n",
       "\n",
       "        width=\"600\" style=fill:none; />\n",
       "\n",
       "  <circle cx=\"247\" cy=\"167\" r=\"10\"\n",
       "\n",
       "          style=fill:red; />\n",
       "\n",
       "  <circle cx=\"183\" cy=\"106\" r=\"10\"\n",
       "\n",
       "          style=fill:red; />\n",
       "\n",
       "  <circle cx=\"226\" cy=\"343\" r=\"10\"\n",
       "\n",
       "          style=fill:red; />\n",
       "\n",
       "  <circle cx=\"542\" cy=\"77\" r=\"10\"\n",
       "\n",
       "          style=fill:red; />\n",
       "\n",
       "  <circle cx=\"201\" cy=\"366\" r=\"10\"\n",
       "\n",
       "          style=fill:orange; />\n",
       "\n",
       "  <circle cx=\"313\" cy=\"395\" r=\"10\"\n",
       "\n",
       "          style=fill:red; />\n",
       "\n",
       "  <circle cx=\"508\" cy=\"367\" r=\"10\"\n",
       "\n",
       "          style=fill:red; />\n",
       "\n",
       "  <circle cx=\"509\" cy=\"175\" r=\"10\"\n",
       "\n",
       "          style=fill:orange; />\n",
       "\n",
       "  <circle cx=\"544\" cy=\"105\" r=\"10\"\n",
       "\n",
       "          style=fill:red; />\n",
       "\n",
       "  <circle cx=\"481\" cy=\"229\" r=\"10\"\n",
       "\n",
       "          style=fill:red; />\n",
       "\n",
       "  <circle cx=\"225\" cy=\"352\" r=\"10\"\n",
       "\n",
       "          style=fill:red; />\n",
       "\n",
       "  <circle cx=\"60\" cy=\"124\" r=\"10\"\n",
       "\n",
       "          style=fill:orange; />\n",
       "\n",
       "  <circle cx=\"95\" cy=\"189\" r=\"10\"\n",
       "\n",
       "          style=fill:green; />\n",
       "\n",
       "  <circle cx=\"143\" cy=\"278\" r=\"10\"\n",
       "\n",
       "          style=fill:green; />\n",
       "\n",
       "  <circle cx=\"442\" cy=\"161\" r=\"10\"\n",
       "\n",
       "          style=fill:red; />\n",
       "\n",
       "  <circle cx=\"569\" cy=\"237\" r=\"10\"\n",
       "\n",
       "          style=fill:green; />\n",
       "\n",
       "  <circle cx=\"315\" cy=\"373\" r=\"10\"\n",
       "\n",
       "          style=fill:green; />\n",
       "\n",
       "  <circle cx=\"115\" cy=\"338\" r=\"10\"\n",
       "\n",
       "          style=fill:green; />\n",
       "\n",
       "  <circle cx=\"241\" cy=\"154\" r=\"10\"\n",
       "\n",
       "          style=fill:green; />\n",
       "\n",
       "  <circle cx=\"278\" cy=\"221\" r=\"10\"\n",
       "\n",
       "          style=fill:green; />\n",
       "\n",
       "  <circle cx=\"405\" cy=\"59\" r=\"10\"\n",
       "\n",
       "          style=fill:green; />\n",
       "\n",
       "  <circle cx=\"46\" cy=\"181\" r=\"10\"\n",
       "\n",
       "          style=fill:green; />\n",
       "\n",
       "  <circle cx=\"196\" cy=\"112\" r=\"10\"\n",
       "\n",
       "          style=fill:green; />\n",
       "\n",
       "  <circle cx=\"468\" cy=\"67\" r=\"10\"\n",
       "\n",
       "          style=fill:yellow; />\n",
       "\n",
       "  <line x1=\"479\" y1=\"67\" x2=\"548\" y2=\"67\" />\n",
       "\n",
       "  <line x1=\"478\" y1=\"71\" x2=\"541\" y2=\"97\" />\n",
       "\n",
       "  <line x1=\"475\" y1=\"74\" x2=\"524\" y2=\"123\" />\n",
       "\n",
       "  <line x1=\"472\" y1=\"77\" x2=\"498\" y2=\"140\" />\n",
       "\n",
       "  <line x1=\"468\" y1=\"78\" x2=\"468\" y2=\"147\" />\n",
       "\n",
       "  <line x1=\"463\" y1=\"77\" x2=\"437\" y2=\"140\" />\n",
       "\n",
       "  <line x1=\"460\" y1=\"74\" x2=\"411\" y2=\"123\" />\n",
       "\n",
       "  <line x1=\"457\" y1=\"71\" x2=\"394\" y2=\"97\" />\n",
       "\n",
       "  <line x1=\"457\" y1=\"67\" x2=\"388\" y2=\"67\" />\n",
       "\n",
       "  <line x1=\"457\" y1=\"62\" x2=\"394\" y2=\"36\" />\n",
       "\n",
       "  <line x1=\"460\" y1=\"59\" x2=\"411\" y2=\"10\" />\n",
       "\n",
       "  <line x1=\"463\" y1=\"56\" x2=\"437\" y2=\"-6\" />\n",
       "\n",
       "  <line x1=\"468\" y1=\"56\" x2=\"468\" y2=\"-13\" />\n",
       "\n",
       "  <line x1=\"472\" y1=\"56\" x2=\"498\" y2=\"-6\" />\n",
       "\n",
       "  <line x1=\"475\" y1=\"59\" x2=\"524\" y2=\"10\" />\n",
       "\n",
       "  <line x1=\"478\" y1=\"62\" x2=\"541\" y2=\"36\" />\n",
       "\n",
       "  <text x=\"10\" y=\"435\" font-size=\"15\">\n",
       "\n",
       "   DTW        = 47.0\n",
       "\n",
       "  </text>\n",
       "\n",
       "  <text x=\"10\" y=\"455\" font-size=\"15\">\n",
       "\n",
       "   experience = 23715\n",
       "\n",
       "  </text>\n",
       "\n",
       "  <text x=\"10\" y=\"475\" font-size=\"15\">\n",
       "\n",
       "   reward = -0.5\n",
       "\n",
       "  </text>\n",
       "\n",
       " </g>\n",
       "</svg>\n"
      ],
      "text/plain": [
       "<svg.Scene at 0x7faa617bb9e8>"
      ]
     },
     "metadata": {},
     "output_type": "display_data"
    },
    {
     "ename": "KeyboardInterrupt",
     "evalue": "",
     "output_type": "error",
     "traceback": [
      "\u001b[1;31m---------------------------------------------------------------------------\u001b[0m",
      "\u001b[1;31mKeyboardInterrupt\u001b[0m                         Traceback (most recent call last)",
      "\u001b[1;32m<ipython-input-249-7b90ff4d44b9>\u001b[0m in \u001b[0;36m<module>\u001b[1;34m()\u001b[0m\n\u001b[0;32m     54\u001b[0m     \u001b[0meq\u001b[0m\u001b[1;33m.\u001b[0m\u001b[0mrun\u001b[0m\u001b[1;33m(\u001b[0m\u001b[1;33m)\u001b[0m\u001b[1;33m\u001b[0m\u001b[0m\n\u001b[0;32m     55\u001b[0m \u001b[1;33m\u001b[0m\u001b[0m\n\u001b[1;32m---> 56\u001b[1;33m \u001b[0msimulate\u001b[0m\u001b[1;33m(\u001b[0m\u001b[0mg\u001b[0m\u001b[1;33m,\u001b[0m \u001b[0mc\u001b[0m\u001b[1;33m,\u001b[0m \u001b[0mfps\u001b[0m \u001b[1;33m=\u001b[0m \u001b[1;36m30\u001b[0m\u001b[1;33m,\u001b[0m \u001b[0msimulation_resultion\u001b[0m\u001b[1;33m=\u001b[0m\u001b[1;36m0.01\u001b[0m\u001b[1;33m,\u001b[0m \u001b[0mactions_per_second\u001b[0m\u001b[1;33m=\u001b[0m\u001b[1;36m15\u001b[0m\u001b[1;33m,\u001b[0m \u001b[0mspeed\u001b[0m\u001b[1;33m=\u001b[0m\u001b[1;36m1.0\u001b[0m\u001b[1;33m)\u001b[0m\u001b[1;33m\u001b[0m\u001b[0m\n\u001b[0m",
      "\u001b[1;32m<ipython-input-249-7b90ff4d44b9>\u001b[0m in \u001b[0;36msimulate\u001b[1;34m(game, controller, fps, actions_per_second, simulation_resultion, speed)\u001b[0m\n\u001b[0;32m     52\u001b[0m     \u001b[0meq\u001b[0m\u001b[1;33m.\u001b[0m\u001b[0mschedule_recurring\u001b[0m\u001b[1;33m(\u001b[0m\u001b[0mcontrol\u001b[0m\u001b[1;33m,\u001b[0m \u001b[0mtime_between_actions\u001b[0m\u001b[1;33m)\u001b[0m\u001b[1;33m\u001b[0m\u001b[0m\n\u001b[0;32m     53\u001b[0m \u001b[1;33m\u001b[0m\u001b[0m\n\u001b[1;32m---> 54\u001b[1;33m     \u001b[0meq\u001b[0m\u001b[1;33m.\u001b[0m\u001b[0mrun\u001b[0m\u001b[1;33m(\u001b[0m\u001b[1;33m)\u001b[0m\u001b[1;33m\u001b[0m\u001b[0m\n\u001b[0m\u001b[0;32m     55\u001b[0m \u001b[1;33m\u001b[0m\u001b[0m\n\u001b[0;32m     56\u001b[0m \u001b[0msimulate\u001b[0m\u001b[1;33m(\u001b[0m\u001b[0mg\u001b[0m\u001b[1;33m,\u001b[0m \u001b[0mc\u001b[0m\u001b[1;33m,\u001b[0m \u001b[0mfps\u001b[0m \u001b[1;33m=\u001b[0m \u001b[1;36m30\u001b[0m\u001b[1;33m,\u001b[0m \u001b[0msimulation_resultion\u001b[0m\u001b[1;33m=\u001b[0m\u001b[1;36m0.01\u001b[0m\u001b[1;33m,\u001b[0m \u001b[0mactions_per_second\u001b[0m\u001b[1;33m=\u001b[0m\u001b[1;36m15\u001b[0m\u001b[1;33m,\u001b[0m \u001b[0mspeed\u001b[0m\u001b[1;33m=\u001b[0m\u001b[1;36m1.0\u001b[0m\u001b[1;33m)\u001b[0m\u001b[1;33m\u001b[0m\u001b[0m\n",
      "\u001b[1;32m<ipython-input-198-29bd69f5e1e0>\u001b[0m in \u001b[0;36mrun\u001b[1;34m(self)\u001b[0m\n\u001b[0;32m     33\u001b[0m             \u001b[0mnow\u001b[0m \u001b[1;33m=\u001b[0m \u001b[0mtime\u001b[0m\u001b[1;33m.\u001b[0m\u001b[0mtime\u001b[0m\u001b[1;33m(\u001b[0m\u001b[1;33m)\u001b[0m\u001b[1;33m\u001b[0m\u001b[0m\n\u001b[0;32m     34\u001b[0m             \u001b[1;32mif\u001b[0m \u001b[0mnow\u001b[0m \u001b[1;33m<\u001b[0m \u001b[0mevent\u001b[0m\u001b[1;33m.\u001b[0m\u001b[0mts\u001b[0m\u001b[1;33m:\u001b[0m\u001b[1;33m\u001b[0m\u001b[0m\n\u001b[1;32m---> 35\u001b[1;33m                 \u001b[0mtime\u001b[0m\u001b[1;33m.\u001b[0m\u001b[0msleep\u001b[0m\u001b[1;33m(\u001b[0m\u001b[0mevent\u001b[0m\u001b[1;33m.\u001b[0m\u001b[0mts\u001b[0m \u001b[1;33m-\u001b[0m \u001b[0mnow\u001b[0m\u001b[1;33m)\u001b[0m\u001b[1;33m\u001b[0m\u001b[0m\n\u001b[0m\u001b[0;32m     36\u001b[0m             \u001b[0mevent\u001b[0m\u001b[1;33m.\u001b[0m\u001b[0mf\u001b[0m\u001b[1;33m(\u001b[0m\u001b[1;33m)\u001b[0m\u001b[1;33m\u001b[0m\u001b[0m\n\u001b[0;32m     37\u001b[0m \u001b[1;33m\u001b[0m\u001b[0m\n",
      "\u001b[1;31mKeyboardInterrupt\u001b[0m: "
     ]
    }
   ],
   "source": [
    "def simulate(game, controller, fps=60, actions_per_second=60, simulation_resultion=0.001, speed=1.0):\n",
    "    eq = EventQueue()\n",
    "    \n",
    "    time_between_frames  = 1.0 / fps\n",
    "    time_between_actions = 1.0 / (actions_per_second * speed)\n",
    "    \n",
    "    def visualize():\n",
    "        clear_output(wait=True)\n",
    "        recent_reward = game.collected_rewards[-100:] + [0]\n",
    "        display(game.to_html([\n",
    "            \"DTW        = %.1f\" % (game.distance_to_walls(),),\n",
    "            \"experience = %d\" % (len(controller.experience),),\n",
    "            \"reward = %.1f\" % (sum(recent_reward)/len(recent_reward),),\n",
    "\n",
    "        ]))\n",
    "    eq.schedule_recurring(visualize, time_between_frames)\n",
    "        \n",
    "    simulated_up_to = time.time()\n",
    "\n",
    "    def simulate_game():\n",
    "        nonlocal simulated_up_to\n",
    "        now = time.time()\n",
    "        time_to_be_simulated = speed * (now - simulated_up_to)\n",
    "        for _ in range(int(time_to_be_simulated / simulation_resultion)):\n",
    "            game.step(simulation_resultion)\n",
    "        simulated_up_to = now\n",
    "        \n",
    "    eq.schedule_recurring(simulate_game, min(time_between_frames, time_between_actions))\n",
    "\n",
    "    \n",
    "    last_observation = None\n",
    "    last_action      = None\n",
    "    \n",
    "    def control():\n",
    "        nonlocal last_observation\n",
    "        nonlocal last_action\n",
    "        # sense\n",
    "        new_observation = game.observe()\n",
    "        reward          = game.collect_reward()\n",
    "        # store last transition\n",
    "        if last_observation is not None:\n",
    "            controller.store(last_observation, last_action, reward, new_observation)\n",
    "        # act\n",
    "        new_action = controller.action(new_observation)\n",
    "        game.perform_action(new_action)\n",
    "        last_action = new_action\n",
    "        last_observation = new_observation\n",
    "        \n",
    "        #train\n",
    "        controller.training_step()\n",
    "    \n",
    "    eq.schedule_recurring(control, time_between_actions)\n",
    "    \n",
    "    eq.run()\n",
    "    \n",
    "simulate(g, c, fps = 30, simulation_resultion=0.01, actions_per_second=15, speed=1.0)"
   ]
  },
  {
   "cell_type": "code",
   "execution_count": 242,
   "metadata": {
    "collapsed": false
   },
   "outputs": [
    {
     "data": {
      "image/png": "[encoded data removed]",
      "text/plain": [
       "<matplotlib.figure.Figure at 0x7faa6098fda0>"
      ]
     },
     "metadata": {},
     "output_type": "display_data"
    }
   ],
   "source": [
    "g.plot_reward()"
   ]
  },
  {
   "cell_type": "code",
   "execution_count": 122,
   "metadata": {
    "collapsed": false
   },
   "outputs": [
    {
     "ename": "ValueError",
     "evalue": "The truth value of an array with more than one element is ambiguous. Use a.any() or a.all()",
     "output_type": "error",
     "traceback": [
      "\u001b[1;31m---------------------------------------------------------------------------\u001b[0m",
      "\u001b[1;31mValueError\u001b[0m                                Traceback (most recent call last)",
      "\u001b[1;32m<ipython-input-122-bf30f5d606a9>\u001b[0m in \u001b[0;36m<module>\u001b[1;34m()\u001b[0m\n\u001b[1;32m----> 1\u001b[1;33m \u001b[0mnp\u001b[0m\u001b[1;33m.\u001b[0m\u001b[0mall\u001b[0m\u001b[1;33m(\u001b[0m\u001b[0mnp\u001b[0m\u001b[1;33m.\u001b[0m\u001b[0marray\u001b[0m\u001b[1;33m(\u001b[0m\u001b[1;33m[\u001b[0m\u001b[1;36m0\u001b[0m\u001b[1;33m,\u001b[0m\u001b[1;36m0\u001b[0m\u001b[1;33m]\u001b[0m\u001b[1;33m)\u001b[0m \u001b[1;33m<=\u001b[0m \u001b[0mnp\u001b[0m\u001b[1;33m.\u001b[0m\u001b[0marray\u001b[0m\u001b[1;33m(\u001b[0m\u001b[1;33m[\u001b[0m\u001b[1;36m0\u001b[0m\u001b[1;33m,\u001b[0m\u001b[1;36m0\u001b[0m\u001b[1;33m]\u001b[0m\u001b[1;33m)\u001b[0m  \u001b[1;33m<\u001b[0m \u001b[0mnp\u001b[0m\u001b[1;33m.\u001b[0m\u001b[0marray\u001b[0m\u001b[1;33m(\u001b[0m\u001b[1;33m[\u001b[0m\u001b[1;36m4\u001b[0m\u001b[1;33m,\u001b[0m\u001b[1;36m3\u001b[0m\u001b[1;33m]\u001b[0m\u001b[1;33m)\u001b[0m\u001b[1;33m)\u001b[0m\u001b[1;33m\u001b[0m\u001b[0m\n\u001b[0m",
      "\u001b[1;31mValueError\u001b[0m: The truth value of an array with more than one element is ambiguous. Use a.any() or a.all()"
     ]
    }
   ],
   "source": [
    "np.all(np.array([0,0]) <= np.array([0,0])) and "
   ]
  },
  {
   "cell_type": "code",
   "execution_count": 228,
   "metadata": {
    "collapsed": false
   },
   "outputs": [
    {
     "data": {
      "text/plain": [
       "<matplotlib.colorbar.Colorbar at 0x7faa611dfc50>"
      ]
     },
     "execution_count": 228,
     "metadata": {},
     "output_type": "execute_result"
    },
    {
     "data": {
      "image/png": "[encoded data removed]",
      "text/plain": [
       "<matplotlib.figure.Figure at 0x7faa61825518>"
      ]
     },
     "metadata": {},
     "output_type": "display_data"
    }
   ],
   "source": [
    "# left, right, up, down\n",
    "plt.matshow(c.observation_to_actions.parameters()[0].w)\n",
    "plt.colorbar()"
   ]
  },
  {
   "cell_type": "code",
   "execution_count": 170,
   "metadata": {
    "collapsed": false
   },
   "outputs": [
    {
     "data": {
      "image/png": "[encoded data removed]",
      "text/plain": [
       "<matplotlib.figure.Figure at 0x7faa612b1160>"
      ]
     },
     "metadata": {},
     "output_type": "display_data"
    }
   ],
   "source": [
    "g.plot_reward()"
   ]
  },
  {
   "cell_type": "code",
   "execution_count": 233,
   "metadata": {
    "collapsed": false
   },
   "outputs": [],
   "source": [
    "\n",
    "        "
   ]
  },
  {
   "cell_type": "code",
   "execution_count": 259,
   "metadata": {
    "collapsed": false
   },
   "outputs": [],
   "source": [
    "?np.linspace"
   ]
  },
  {
   "cell_type": "code",
   "execution_count": 507,
   "metadata": {
    "collapsed": true
   },
   "outputs": [],
   "source": [
    "def get(n, total, p_initial, p_final):\n",
    "    if n >= total:\n",
    "        return p_final\n",
    "    else:\n",
    "        return p_initial - (n * (p_initial - p_final)) / (total)"
   ]
  },
  {
   "cell_type": "code",
   "execution_count": 511,
   "metadata": {
    "collapsed": false
   },
   "outputs": [
    {
     "data": {
      "text/plain": [
       "2.0"
      ]
     },
     "execution_count": 511,
     "metadata": {},
     "output_type": "execute_result"
    }
   ],
   "source": [
    "get(0, 100, 2.0, 0.05)"
   ]
  },
  {
   "cell_type": "code",
   "execution_count": 173,
   "metadata": {
    "collapsed": false
   },
   "outputs": [],
   "source": [
    "x = [1,2,3]"
   ]
  },
  {
   "cell_type": "code",
   "execution_count": 179,
   "metadata": {
    "collapsed": true
   },
   "outputs": [],
   "source": [
    "x = deque()"
   ]
  },
  {
   "cell_type": "code",
   "execution_count": 197,
   "metadata": {
    "collapsed": false
   },
   "outputs": [
    {
     "data": {
      "text/plain": [
       "[1, 4, 6, 123]"
      ]
     },
     "execution_count": 197,
     "metadata": {},
     "output_type": "execute_result"
    }
   ],
   "source": [
    "class Siema(object):\n",
    "    def __init__(self, n):\n",
    "        self.n = n \n",
    "        \n",
    "    def __lt__(self, other):\n",
    "        return self.n < other.n\n",
    "    \n",
    "    def __repr__(self):\n",
    "        return str(self.n)\n",
    "\n",
    "x = [Siema(123), Siema(4), Siema(1), Siema(6)]\n",
    "sorted(x)"
   ]
  },
  {
   "cell_type": "code",
   "execution_count": null,
   "metadata": {
    "collapsed": true
   },
   "outputs": [],
   "source": []
  }
 ],
 "metadata": {
  "kernelspec": {
   "display_name": "Python 3",
   "language": "python",
   "name": "python3"
  }
 },
 "nbformat": 4,
 "nbformat_minor": 0
}
